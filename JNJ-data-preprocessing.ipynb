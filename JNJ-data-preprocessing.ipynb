{
 "cells": [
  {
   "cell_type": "markdown",
   "metadata": {
    "slideshow": {
     "slide_type": "slide"
    }
   },
   "source": [
    "## Data Preprocessing for JNJ"
   ]
  },
  {
   "cell_type": "code",
   "execution_count": 2,
   "metadata": {},
   "outputs": [],
   "source": [
    "import yfinance as yf"
   ]
  },
  {
   "cell_type": "markdown",
   "metadata": {},
   "source": [
    "### Financial key metrics of JNJ"
   ]
  },
  {
   "cell_type": "code",
   "execution_count": 3,
   "metadata": {},
   "outputs": [
    {
     "name": "stdout",
     "output_type": "stream",
     "text": [
      "{'address1': 'One Johnson & Johnson Plaza', 'city': 'New Brunswick', 'state': 'NJ', 'zip': '08933', 'country': 'United States', 'phone': '732 524 0400', 'website': 'https://www.jnj.com', 'industry': 'Drug Manufacturers - General', 'industryKey': 'drug-manufacturers-general', 'industryDisp': 'Drug Manufacturers - General', 'sector': 'Healthcare', 'sectorKey': 'healthcare', 'sectorDisp': 'Healthcare', 'longBusinessSummary': \"Johnson & Johnson, together with its subsidiaries, researches, develops, manufactures, and sells various products in the healthcare field worldwide. The company's Consumer Health segment provides skin health/beauty products under the AVEENO, CLEAN & CLEAR, DR. CI:LABO, NEUTROGENA, and OGX brands; baby care products under the JOHNSON'S and AVEENO Baby brands; oral care products under the LISTERINE brand; TYLENOL acetaminophen products; SUDAFED cold, flu, and allergy products; BENADRYL and ZYRTEC allergy products; MOTRIN IB ibuprofen products; NICORETTE smoking cessation products; and PEPCID acid reflux products. This segment also offers STAYFREE and CAREFREE sanitary pads; o.b. tampons; adhesive bandages under the BAND-AID brand; and first aid products under the NEOSPORIN brand. It serves general public, retail outlets, and distributors. The company's Pharmaceutical segment provides products for rheumatoid arthritis, psoriatic arthritis, inflammatory bowel disease, and psoriasis; HIV/AIDS infectious diseases; mood disorders, neurodegenerative disorders, and schizophrenia; prostate cancer, hematologic malignancies, lung cancer, and bladder cancer; thrombosis, diabetes, and macular degeneration; and pulmonary arterial hypertension. This segment serves retailers, wholesalers, distributors, hospitals, and healthcare professionals directly for prescription use. Its MedTech segment offers electrophysiology products to treat cardiovascular diseases; neurovascular care products to treat hemorrhagic and ischemic stroke; orthopaedics products in support of hips, knees, trauma, spine, sports, and other; advanced and general surgery solutions that focus on breast aesthetics, ear, nose, and throat procedures; and contact lenses and ophthalmic technologies related to cataract and laser refractive surgery under the ACUVUE brand. This segment serves wholesalers, hospitals, and retailers. Johnson & Johnson was founded in 1886 and is based in New Brunswick, New Jersey.\", 'companyOfficers': [{'maxAge': 1, 'name': 'Mr. Joaquin  Duato', 'age': 60, 'title': 'CEO & Chairman', 'yearBorn': 1963, 'fiscalYear': 2022, 'totalPay': 4839699, 'exercisedValue': 8650825, 'unexercisedValue': 63282216}, {'maxAge': 1, 'name': 'Mr. Joseph J. Wolk CPA', 'age': 56, 'title': 'Executive VP & CFO', 'yearBorn': 1967, 'fiscalYear': 2022, 'totalPay': 2262233, 'exercisedValue': 1351073, 'unexercisedValue': 6964844}, {'maxAge': 1, 'name': 'Ms. Jennifer L. Taubert', 'age': 58, 'title': 'Executive VP & Worldwide Chairman of Innovative Medicine', 'yearBorn': 1965, 'fiscalYear': 2022, 'totalPay': 2156653, 'exercisedValue': 8018407, 'unexercisedValue': 21548668}, {'maxAge': 1, 'name': 'Mr. Robert J. Decker Jr.', 'age': 51, 'title': 'Controller & Chief Accounting Officer', 'yearBorn': 1972, 'fiscalYear': 2022, 'exercisedValue': 0, 'unexercisedValue': 0}, {'maxAge': 1, 'name': 'Mr. James  Swanson', 'age': 57, 'title': 'Executive VP & Chief Information Officer', 'yearBorn': 1966, 'fiscalYear': 2022, 'exercisedValue': 0, 'unexercisedValue': 0}, {'maxAge': 1, 'name': 'Ms. Jessica  Moore', 'title': 'Vice President of Investor Relations', 'fiscalYear': 2022, 'exercisedValue': 0, 'unexercisedValue': 0}, {'maxAge': 1, 'name': 'Mr. Dirk  Brinckman', 'title': 'Chief Compliance Officer', 'fiscalYear': 2022, 'exercisedValue': 0, 'unexercisedValue': 0}, {'maxAge': 1, 'name': 'Ms. Elizabeth  Forminard', 'age': 52, 'title': 'Executive VP & General Counsel', 'yearBorn': 1971, 'fiscalYear': 2022, 'exercisedValue': 0, 'unexercisedValue': 0}, {'maxAge': 1, 'name': 'Dr. Peter M. Fasolo Ph.D.', 'age': 60, 'title': 'Executive VP & Chief Human Resources Officer', 'yearBorn': 1963, 'fiscalYear': 2022, 'totalPay': 1283141, 'exercisedValue': 0, 'unexercisedValue': 0}, {'maxAge': 1, 'name': 'Dr. Guy J. Lebeau M.D.', 'title': 'Group Chairman of MD&D Business - EMEA', 'fiscalYear': 2022, 'exercisedValue': 0, 'unexercisedValue': 0}], 'auditRisk': 10, 'boardRisk': 5, 'compensationRisk': 3, 'shareHolderRightsRisk': 2, 'overallRisk': 5, 'governanceEpochDate': 1706400000, 'compensationAsOfEpochDate': 1672444800, 'maxAge': 86400, 'priceHint': 2, 'previousClose': 158.77, 'open': 160.4, 'dayLow': 158.67, 'dayHigh': 160.62, 'regularMarketPreviousClose': 158.77, 'regularMarketOpen': 160.4, 'regularMarketDayLow': 158.67, 'regularMarketDayHigh': 160.62, 'dividendRate': 4.76, 'dividendYield': 0.03, 'exDividendDate': 1708041600, 'payoutRatio': 0.90379995, 'fiveYearAvgDividendYield': 2.66, 'beta': 0.531, 'trailingPE': 30.557692, 'forwardPE': 14.38009, 'volume': 7929751, 'regularMarketVolume': 7929751, 'averageVolume': 6696771, 'averageVolume10days': 6547280, 'averageDailyVolume10Day': 6547280, 'bidSize': 800, 'askSize': 900, 'marketCap': 382516789248, 'fiftyTwoWeekLow': 144.95, 'fiftyTwoWeekHigh': 175.97, 'priceToSalesTrailing12Months': 4.491795, 'fiftyDayAverage': 156.9788, 'twoHundredDayAverage': 159.85655, 'trailingAnnualDividendRate': 4.7, 'trailingAnnualDividendYield': 0.029602569, 'currency': 'USD', 'enterpriseValue': 388926570496, 'profitMargins': 0.41279, 'floatShares': 2403884357, 'sharesOutstanding': 2407280128, 'sharesShort': 15005887, 'sharesShortPriorMonth': 15400023, 'sharesShortPreviousMonthDate': 1702598400, 'dateShortInterest': 1705017600, 'sharesPercentSharesOut': 0.0062, 'heldPercentInsiders': 0.00092, 'heldPercentInstitutions': 0.71008, 'shortRatio': 2.17, 'shortPercentOfFloat': 0.0062, 'impliedSharesOutstanding': 2409390080, 'bookValue': 29.59, 'priceToBook': 5.370057, 'lastFiscalYearEnd': 1703980800, 'nextFiscalYearEnd': 1735603200, 'mostRecentQuarter': 1703980800, 'earningsQuarterlyGrowth': 0.15, 'netIncomeToCommon': 13326000128, 'trailingEps': 5.2, 'forwardEps': 11.05, 'pegRatio': 3.17, 'lastSplitFactor': '2:1', 'lastSplitDate': 992390400, 'enterpriseToRevenue': 4.567, 'enterpriseToEbitda': 13.169, '52WeekChange': -0.040896475, 'SandP52WeekChange': 0.17829013, 'lastDividendValue': 1.19, 'lastDividendDate': 1700438400, 'exchange': 'NYQ', 'quoteType': 'EQUITY', 'symbol': 'JNJ', 'underlyingSymbol': 'JNJ', 'shortName': 'Johnson & Johnson', 'longName': 'Johnson & Johnson', 'firstTradeDateEpochUtc': -252322200, 'timeZoneFullName': 'America/New_York', 'timeZoneShortName': 'EST', 'uuid': '73aa25b0-87c8-3616-a460-03cbef1b4753', 'messageBoardId': 'finmb_139677', 'gmtOffSetMilliseconds': -18000000, 'currentPrice': 158.9, 'targetHighPrice': 215.0, 'targetLowPrice': 157.0, 'targetMeanPrice': 175.05, 'targetMedianPrice': 172.0, 'recommendationMean': 2.3, 'recommendationKey': 'buy', 'numberOfAnalystOpinions': 21, 'totalCash': 23510999040, 'totalCashPerShare': 9.767, 'ebitda': 29532997632, 'totalDebt': 29920999424, 'totalRevenue': 85159002112, 'debtToEquity': 42.007, 'revenuePerShare': 33.26, 'returnOnEquity': 0.18004, 'earningsGrowth': 0.262, 'revenueGrowth': -0.097, 'grossMargins': 0.6882, 'ebitdaMargins': 0.3468, 'operatingMargins': 0.20131001, 'financialCurrency': 'USD', 'trailingPegRatio': 5.8511}\n",
      "Company Sector:  Healthcare\n",
      "Price Earnings Ratio:  30.557692\n",
      "Company Beta:  0.531\n"
     ]
    }
   ],
   "source": [
    "GetJNJInfo = yf.Ticker(\"JNJ\")\n",
    "\n",
    "# whole python dictionary is printed here\n",
    "print(GetJNJInfo.info)\n",
    "\n",
    "# display Company Sector\n",
    "print(\"Company Sector: \",GetJNJInfo.info['sector'])\n",
    " \n",
    "# display Price Earnings Ratio\n",
    "print(\"Price Earnings Ratio: \", GetJNJInfo.info['trailingPE'])\n",
    " \n",
    "# display Company Beta\n",
    "print(\"Company Beta: \", GetJNJInfo.info['beta'])"
   ]
  },
  {
   "cell_type": "code",
   "execution_count": 4,
   "metadata": {},
   "outputs": [
    {
     "name": "stdout",
     "output_type": "stream",
     "text": [
      "address1 : One Johnson & Johnson Plaza\n",
      "city : New Brunswick\n",
      "state : NJ\n",
      "zip : 08933\n",
      "country : United States\n",
      "phone : 732 524 0400\n",
      "website : https://www.jnj.com\n",
      "industry : Drug Manufacturers - General\n",
      "industryKey : drug-manufacturers-general\n",
      "industryDisp : Drug Manufacturers - General\n",
      "sector : Healthcare\n",
      "sectorKey : healthcare\n",
      "sectorDisp : Healthcare\n",
      "longBusinessSummary : Johnson & Johnson, together with its subsidiaries, researches, develops, manufactures, and sells various products in the healthcare field worldwide. The company's Consumer Health segment provides skin health/beauty products under the AVEENO, CLEAN & CLEAR, DR. CI:LABO, NEUTROGENA, and OGX brands; baby care products under the JOHNSON'S and AVEENO Baby brands; oral care products under the LISTERINE brand; TYLENOL acetaminophen products; SUDAFED cold, flu, and allergy products; BENADRYL and ZYRTEC allergy products; MOTRIN IB ibuprofen products; NICORETTE smoking cessation products; and PEPCID acid reflux products. This segment also offers STAYFREE and CAREFREE sanitary pads; o.b. tampons; adhesive bandages under the BAND-AID brand; and first aid products under the NEOSPORIN brand. It serves general public, retail outlets, and distributors. The company's Pharmaceutical segment provides products for rheumatoid arthritis, psoriatic arthritis, inflammatory bowel disease, and psoriasis; HIV/AIDS infectious diseases; mood disorders, neurodegenerative disorders, and schizophrenia; prostate cancer, hematologic malignancies, lung cancer, and bladder cancer; thrombosis, diabetes, and macular degeneration; and pulmonary arterial hypertension. This segment serves retailers, wholesalers, distributors, hospitals, and healthcare professionals directly for prescription use. Its MedTech segment offers electrophysiology products to treat cardiovascular diseases; neurovascular care products to treat hemorrhagic and ischemic stroke; orthopaedics products in support of hips, knees, trauma, spine, sports, and other; advanced and general surgery solutions that focus on breast aesthetics, ear, nose, and throat procedures; and contact lenses and ophthalmic technologies related to cataract and laser refractive surgery under the ACUVUE brand. This segment serves wholesalers, hospitals, and retailers. Johnson & Johnson was founded in 1886 and is based in New Brunswick, New Jersey.\n",
      "companyOfficers : [{'maxAge': 1, 'name': 'Mr. Joaquin  Duato', 'age': 60, 'title': 'CEO & Chairman', 'yearBorn': 1963, 'fiscalYear': 2022, 'totalPay': 4839699, 'exercisedValue': 8650825, 'unexercisedValue': 63282216}, {'maxAge': 1, 'name': 'Mr. Joseph J. Wolk CPA', 'age': 56, 'title': 'Executive VP & CFO', 'yearBorn': 1967, 'fiscalYear': 2022, 'totalPay': 2262233, 'exercisedValue': 1351073, 'unexercisedValue': 6964844}, {'maxAge': 1, 'name': 'Ms. Jennifer L. Taubert', 'age': 58, 'title': 'Executive VP & Worldwide Chairman of Innovative Medicine', 'yearBorn': 1965, 'fiscalYear': 2022, 'totalPay': 2156653, 'exercisedValue': 8018407, 'unexercisedValue': 21548668}, {'maxAge': 1, 'name': 'Mr. Robert J. Decker Jr.', 'age': 51, 'title': 'Controller & Chief Accounting Officer', 'yearBorn': 1972, 'fiscalYear': 2022, 'exercisedValue': 0, 'unexercisedValue': 0}, {'maxAge': 1, 'name': 'Mr. James  Swanson', 'age': 57, 'title': 'Executive VP & Chief Information Officer', 'yearBorn': 1966, 'fiscalYear': 2022, 'exercisedValue': 0, 'unexercisedValue': 0}, {'maxAge': 1, 'name': 'Ms. Jessica  Moore', 'title': 'Vice President of Investor Relations', 'fiscalYear': 2022, 'exercisedValue': 0, 'unexercisedValue': 0}, {'maxAge': 1, 'name': 'Mr. Dirk  Brinckman', 'title': 'Chief Compliance Officer', 'fiscalYear': 2022, 'exercisedValue': 0, 'unexercisedValue': 0}, {'maxAge': 1, 'name': 'Ms. Elizabeth  Forminard', 'age': 52, 'title': 'Executive VP & General Counsel', 'yearBorn': 1971, 'fiscalYear': 2022, 'exercisedValue': 0, 'unexercisedValue': 0}, {'maxAge': 1, 'name': 'Dr. Peter M. Fasolo Ph.D.', 'age': 60, 'title': 'Executive VP & Chief Human Resources Officer', 'yearBorn': 1963, 'fiscalYear': 2022, 'totalPay': 1283141, 'exercisedValue': 0, 'unexercisedValue': 0}, {'maxAge': 1, 'name': 'Dr. Guy J. Lebeau M.D.', 'title': 'Group Chairman of MD&D Business - EMEA', 'fiscalYear': 2022, 'exercisedValue': 0, 'unexercisedValue': 0}]\n",
      "auditRisk : 10\n",
      "boardRisk : 5\n",
      "compensationRisk : 3\n",
      "shareHolderRightsRisk : 2\n",
      "overallRisk : 5\n",
      "governanceEpochDate : 1706400000\n",
      "compensationAsOfEpochDate : 1672444800\n",
      "maxAge : 86400\n",
      "priceHint : 2\n",
      "previousClose : 158.77\n",
      "open : 160.4\n",
      "dayLow : 158.67\n",
      "dayHigh : 160.62\n",
      "regularMarketPreviousClose : 158.77\n",
      "regularMarketOpen : 160.4\n",
      "regularMarketDayLow : 158.67\n",
      "regularMarketDayHigh : 160.62\n",
      "dividendRate : 4.76\n",
      "dividendYield : 0.03\n",
      "exDividendDate : 1708041600\n",
      "payoutRatio : 0.90379995\n",
      "fiveYearAvgDividendYield : 2.66\n",
      "beta : 0.531\n",
      "trailingPE : 30.557692\n",
      "forwardPE : 14.38009\n",
      "volume : 7929751\n",
      "regularMarketVolume : 7929751\n",
      "averageVolume : 6696771\n",
      "averageVolume10days : 6547280\n",
      "averageDailyVolume10Day : 6547280\n",
      "bidSize : 800\n",
      "askSize : 900\n",
      "marketCap : 382516789248\n",
      "fiftyTwoWeekLow : 144.95\n",
      "fiftyTwoWeekHigh : 175.97\n",
      "priceToSalesTrailing12Months : 4.491795\n",
      "fiftyDayAverage : 156.9788\n",
      "twoHundredDayAverage : 159.85655\n",
      "trailingAnnualDividendRate : 4.7\n",
      "trailingAnnualDividendYield : 0.029602569\n",
      "currency : USD\n",
      "enterpriseValue : 388926570496\n",
      "profitMargins : 0.41279\n",
      "floatShares : 2403884357\n",
      "sharesOutstanding : 2407280128\n",
      "sharesShort : 15005887\n",
      "sharesShortPriorMonth : 15400023\n",
      "sharesShortPreviousMonthDate : 1702598400\n",
      "dateShortInterest : 1705017600\n",
      "sharesPercentSharesOut : 0.0062\n",
      "heldPercentInsiders : 0.00092\n",
      "heldPercentInstitutions : 0.71008\n",
      "shortRatio : 2.17\n",
      "shortPercentOfFloat : 0.0062\n",
      "impliedSharesOutstanding : 2409390080\n",
      "bookValue : 29.59\n",
      "priceToBook : 5.370057\n",
      "lastFiscalYearEnd : 1703980800\n",
      "nextFiscalYearEnd : 1735603200\n",
      "mostRecentQuarter : 1703980800\n",
      "earningsQuarterlyGrowth : 0.15\n",
      "netIncomeToCommon : 13326000128\n",
      "trailingEps : 5.2\n",
      "forwardEps : 11.05\n",
      "pegRatio : 3.17\n",
      "lastSplitFactor : 2:1\n",
      "lastSplitDate : 992390400\n",
      "enterpriseToRevenue : 4.567\n",
      "enterpriseToEbitda : 13.169\n",
      "52WeekChange : -0.040896475\n",
      "SandP52WeekChange : 0.17829013\n",
      "lastDividendValue : 1.19\n",
      "lastDividendDate : 1700438400\n",
      "exchange : NYQ\n",
      "quoteType : EQUITY\n",
      "symbol : JNJ\n",
      "underlyingSymbol : JNJ\n",
      "shortName : Johnson & Johnson\n",
      "longName : Johnson & Johnson\n",
      "firstTradeDateEpochUtc : -252322200\n",
      "timeZoneFullName : America/New_York\n",
      "timeZoneShortName : EST\n",
      "uuid : 73aa25b0-87c8-3616-a460-03cbef1b4753\n",
      "messageBoardId : finmb_139677\n",
      "gmtOffSetMilliseconds : -18000000\n",
      "currentPrice : 158.9\n",
      "targetHighPrice : 215.0\n",
      "targetLowPrice : 157.0\n",
      "targetMeanPrice : 175.05\n",
      "targetMedianPrice : 172.0\n",
      "recommendationMean : 2.3\n",
      "recommendationKey : buy\n",
      "numberOfAnalystOpinions : 21\n",
      "totalCash : 23510999040\n",
      "totalCashPerShare : 9.767\n",
      "ebitda : 29532997632\n",
      "totalDebt : 29920999424\n",
      "totalRevenue : 85159002112\n",
      "debtToEquity : 42.007\n",
      "revenuePerShare : 33.26\n",
      "returnOnEquity : 0.18004\n",
      "earningsGrowth : 0.262\n",
      "revenueGrowth : -0.097\n",
      "grossMargins : 0.6882\n",
      "ebitdaMargins : 0.3468\n",
      "operatingMargins : 0.20131001\n",
      "financialCurrency : USD\n",
      "trailingPegRatio : 5.8511\n"
     ]
    }
   ],
   "source": [
    "# retrieve other information\n",
    "for key, value in GetJNJInfo.info.items():\n",
    "    print(key, \":\", value)"
   ]
  },
  {
   "cell_type": "markdown",
   "metadata": {},
   "source": [
    "### Historical data"
   ]
  },
  {
   "cell_type": "code",
   "execution_count": 7,
   "metadata": {},
   "outputs": [],
   "source": [
    "# Import necessary modules\n",
    "from pathlib import Path\n",
    "import os\n",
    "\n",
    "import numpy as np\n",
    "import pandas as pd\n",
    "import matplotlib.pyplot as plt\n",
    "import seaborn as sns"
   ]
  },
  {
   "cell_type": "code",
   "execution_count": 11,
   "metadata": {},
   "outputs": [
    {
     "name": "stderr",
     "output_type": "stream",
     "text": [
      "[*********************100%%**********************]  1 of 1 completed\n"
     ]
    }
   ],
   "source": [
    "# download hourly stock prices in the past 730 days (max)\n",
    "JNJdata = yf.download(\"JNJ\", period='730d', interval='60m')\n",
    "\n",
    "path1 = 'E:/Desktop/Extracurriculars/Projects & Competitions/DS Guidelight/JNJdata.csv'\n",
    "isExist = os.path.exists(path1)\n",
    "\n",
    "if isExist: # load the data if the file exists\n",
    "    HourlyPrice = pd.read_csv(path1)\n",
    "    \n",
    "else: # otherwise, set a path to convert data into a csv file\n",
    "    SetPath1 = Path(path1)\n",
    "    SetPath1.parent.mkdir(parents=True, exist_ok=True)  \n",
    "    JNJdata.to_csv(SetPath1)"
   ]
  },
  {
   "cell_type": "markdown",
   "metadata": {},
   "source": [
    "### Visually inspect the data"
   ]
  },
  {
   "cell_type": "code",
   "execution_count": null,
   "metadata": {},
   "outputs": [],
   "source": [
    "# Returns the number of rows and columns as a tuple\n",
    "print(HourlyPrice.shape)"
   ]
  },
  {
   "cell_type": "code",
   "execution_count": null,
   "metadata": {},
   "outputs": [],
   "source": [
    "# view the top of the HourlyPrice table\n",
    "print(HourlyPrice.head(10))"
   ]
  },
  {
   "cell_type": "code",
   "execution_count": 13,
   "metadata": {},
   "outputs": [
    {
     "name": "stdout",
     "output_type": "stream",
     "text": [
      "              Open         High          Low        Close    Adj Close  \\\n",
      "count  5094.000000  5094.000000  5094.000000  5094.000000  5094.000000   \n",
      "mean    166.171110   166.585297   165.763691   166.177615   166.177615   \n",
      "std       7.901555     7.938115     7.868450     7.904942     7.904942   \n",
      "min     145.270004   145.669998   144.949997   145.270004   145.270004   \n",
      "25%     160.880028   161.246452   160.481098   160.878750   160.878750   \n",
      "50%     165.220001   165.695000   164.860001   165.240005   165.240005   \n",
      "75%     172.337498   172.800003   171.975006   172.360001   172.360001   \n",
      "max     186.294998   186.690002   185.714996   186.279999   186.279999   \n",
      "\n",
      "             Volume  \n",
      "count  5.094000e+03  \n",
      "mean   9.109451e+05  \n",
      "std    1.199598e+06  \n",
      "min    0.000000e+00  \n",
      "25%    4.816628e+05  \n",
      "50%    6.650990e+05  \n",
      "75%    9.645125e+05  \n",
      "max    3.443829e+07  \n"
     ]
    }
   ],
   "source": [
    "# look at the statistical charateristics of HourlyPrice\n",
    "print(HourlyPrice.describe())"
   ]
  },
  {
   "cell_type": "code",
   "execution_count": null,
   "metadata": {},
   "outputs": [
    {
     "name": "stdout",
     "output_type": "stream",
     "text": [
      "Datetime     0\n",
      "Open         0\n",
      "High         0\n",
      "Low          0\n",
      "Close        0\n",
      "Adj Close    0\n",
      "Volume       0\n",
      "dtype: int64\n"
     ]
    }
   ],
   "source": [
    "# see if HourlyPrice has null values\n",
    "print(HourlyPrice.isnull().sum())"
   ]
  },
  {
   "cell_type": "code",
   "execution_count": 16,
   "metadata": {},
   "outputs": [],
   "source": [
    "# import necessary modules\n",
    "from sklearn.linear_model import LinearRegression"
   ]
  },
  {
   "cell_type": "code",
   "execution_count": 31,
   "metadata": {},
   "outputs": [
    {
     "data": {
      "image/png": "[encoded data removed]",
      "text/plain": [
       "<Figure size 1500x480 with 1 Axes>"
      ]
     },
     "metadata": {},
     "output_type": "display_data"
    }
   ],
   "source": [
    "# set x-axis to be volume, y-axis to be high \n",
    "x = HourlyPrice[['Volume']]\n",
    "y = HourlyPrice[['High']]\n",
    "linear_model = LinearRegression().fit(x, y)\n",
    "\n",
    "# graph a linear regression plot\n",
    "fig, axes = plt.subplots(nrows=1, ncols=1)\n",
    "fig.set_figwidth(15)\n",
    "axes.scatter(x, y)\n",
    "axes.plot(x, linear_model.predict(x), color='red')\n",
    "plt.show()\n",
    "\n",
    "# according to the graph, we need to remove the outliers"
   ]
  }
 ],
 "metadata": {
  "kernelspec": {
   "display_name": "base",
   "language": "python",
   "name": "python3"
  },
  "language_info": {
   "codemirror_mode": {
    "name": "ipython",
    "version": 3
   },
   "file_extension": ".py",
   "mimetype": "text/x-python",
   "name": "python",
   "nbconvert_exporter": "python",
   "pygments_lexer": "ipython3",
   "version": "3.11.5"
  }
 },
 "nbformat": 4,
 "nbformat_minor": 2
}
