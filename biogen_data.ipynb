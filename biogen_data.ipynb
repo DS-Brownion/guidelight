{
  "cells": [
    {
      "cell_type": "markdown",
      "metadata": {},
      "source": [
        "# code for the importing BIIB data from yahoo finance"
      ]
    },
    {
      "cell_type": "code",
      "execution_count": 1,
      "metadata": {
        "id": "k6Z1qLcmj004"
      },
      "outputs": [],
      "source": [
        "import yfinance as yf\n"
      ]
    },
    {
      "cell_type": "code",
      "execution_count": 2,
      "metadata": {},
      "outputs": [],
      "source": [
        "from pathlib import  Path\n",
        "import os\n",
        "\n",
        "import numpy as np \n",
        "import pandas as pd\n",
        "import matplotlib.pyplot as plt \n",
        "import seaborn as sns "
      ]
    },
    {
      "cell_type": "markdown",
      "metadata": {},
      "source": [
        "# Data for Biogen"
      ]
    },
    {
      "cell_type": "code",
      "execution_count": 8,
      "metadata": {},
      "outputs": [
        {
          "name": "stderr",
          "output_type": "stream",
          "text": [
            "[*********************100%%**********************]  1 of 1 completed\n"
          ]
        }
      ],
      "source": [
        "BIIBdata = yf.download('BIIB', period = '730d', interval = '60m')\n",
        "\n",
        "path1 = 'Biogen_data/guidelight'\n",
        "isExist = os.path.exists(path1)\n",
        "\n",
        "if isExist:\n",
        "    BIIB_Hourly_Price = pd.read_csv(path1)\n",
        "\n",
        "else:\n",
        "    Setpath1 = Path(path1)\n",
        "    Setpath1.parent.mkdir(parents = True, exist_ok = True)\n",
        "    BIIBdata.to_csv(Setpath1)"
      ]
    },
    {
      "cell_type": "code",
      "execution_count": null,
      "metadata": {},
      "outputs": [],
      "source": []
    }
  ],
  "metadata": {
    "colab": {
      "provenance": []
    },
    "kernelspec": {
      "display_name": "Python 3",
      "name": "python3"
    },
    "language_info": {
      "codemirror_mode": {
        "name": "ipython",
        "version": 3
      },
      "file_extension": ".py",
      "mimetype": "text/x-python",
      "name": "python",
      "nbconvert_exporter": "python",
      "pygments_lexer": "ipython3",
      "version": "3.11.1"
    }
  },
  "nbformat": 4,
  "nbformat_minor": 0
}
