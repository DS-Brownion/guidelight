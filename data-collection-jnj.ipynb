{
 "cells": [
  {
   "cell_type": "markdown",
   "metadata": {
    "slideshow": {
     "slide_type": "slide"
    }
   },
   "source": [
    "## Data Collection for JNJ"
   ]
  },
  {
   "cell_type": "code",
   "execution_count": 3,
   "metadata": {},
   "outputs": [],
   "source": [
    "import yfinance as yf"
   ]
  },
  {
   "cell_type": "markdown",
   "metadata": {},
   "source": [
    "Financial key metrics of JNJ"
   ]
  },
  {
   "cell_type": "code",
   "execution_count": 5,
   "metadata": {},
   "outputs": [
    {
     "name": "stdout",
     "output_type": "stream",
     "text": [
      "{'address1': 'One Johnson & Johnson Plaza', 'city': 'New Brunswick', 'state': 'NJ', 'zip': '08933', 'country': 'United States', 'phone': '732 524 0400', 'website': 'https://www.jnj.com', 'industry': 'Drug Manufacturers - General', 'industryKey': 'drug-manufacturers-general', 'industryDisp': 'Drug Manufacturers - General', 'sector': 'Healthcare', 'sectorKey': 'healthcare', 'sectorDisp': 'Healthcare', 'longBusinessSummary': \"Johnson & Johnson, together with its subsidiaries, researches, develops, manufactures, and sells various products in the healthcare field worldwide. The company's Consumer Health segment provides skin health/beauty products under the AVEENO, CLEAN & CLEAR, DR. CI:LABO, NEUTROGENA, and OGX brands; baby care products under the JOHNSON'S and AVEENO Baby brands; oral care products under the LISTERINE brand; TYLENOL acetaminophen products; SUDAFED cold, flu, and allergy products; BENADRYL and ZYRTEC allergy products; MOTRIN IB ibuprofen products; NICORETTE smoking cessation products; and PEPCID acid reflux products. This segment also offers STAYFREE and CAREFREE sanitary pads; o.b. tampons; adhesive bandages under the BAND-AID brand; and first aid products under the NEOSPORIN brand. It serves general public, retail outlets, and distributors. The company's Pharmaceutical segment provides products for rheumatoid arthritis, psoriatic arthritis, inflammatory bowel disease, and psoriasis; HIV/AIDS infectious diseases; mood disorders, neurodegenerative disorders, and schizophrenia; prostate cancer, hematologic malignancies, lung cancer, and bladder cancer; thrombosis, diabetes, and macular degeneration; and pulmonary arterial hypertension. This segment serves retailers, wholesalers, distributors, hospitals, and healthcare professionals directly for prescription use. Its MedTech segment offers electrophysiology products to treat cardiovascular diseases; neurovascular care products to treat hemorrhagic and ischemic stroke; orthopaedics products in support of hips, knees, trauma, spine, sports, and other; advanced and general surgery solutions that focus on breast aesthetics, ear, nose, and throat procedures; and contact lenses and ophthalmic technologies related to cataract and laser refractive surgery under the ACUVUE brand. This segment serves wholesalers, hospitals, and retailers. Johnson & Johnson was founded in 1886 and is based in New Brunswick, New Jersey.\", 'companyOfficers': [{'maxAge': 1, 'name': 'Mr. Joaquin  Duato', 'age': 60, 'title': 'CEO & Chairman', 'yearBorn': 1963, 'fiscalYear': 2022, 'totalPay': 4839699, 'exercisedValue': 8650825, 'unexercisedValue': 63282216}, {'maxAge': 1, 'name': 'Mr. Joseph J. Wolk CPA', 'age': 56, 'title': 'Executive VP & CFO', 'yearBorn': 1967, 'fiscalYear': 2022, 'totalPay': 2262233, 'exercisedValue': 1351073, 'unexercisedValue': 6964844}, {'maxAge': 1, 'name': 'Ms. Jennifer L. Taubert', 'age': 58, 'title': 'Executive VP & Worldwide Chairman of Innovative Medicine', 'yearBorn': 1965, 'fiscalYear': 2022, 'totalPay': 2156653, 'exercisedValue': 8018407, 'unexercisedValue': 21548668}, {'maxAge': 1, 'name': 'Mr. Robert J. Decker Jr.', 'age': 51, 'title': 'Controller & Chief Accounting Officer', 'yearBorn': 1972, 'fiscalYear': 2022, 'exercisedValue': 0, 'unexercisedValue': 0}, {'maxAge': 1, 'name': 'Mr. James  Swanson', 'age': 57, 'title': 'Executive VP & Chief Information Officer', 'yearBorn': 1966, 'fiscalYear': 2022, 'exercisedValue': 0, 'unexercisedValue': 0}, {'maxAge': 1, 'name': 'Ms. Jessica  Moore', 'title': 'Vice President of Investor Relations', 'fiscalYear': 2022, 'exercisedValue': 0, 'unexercisedValue': 0}, {'maxAge': 1, 'name': 'Mr. Dirk  Brinckman', 'title': 'Chief Compliance Officer', 'fiscalYear': 2022, 'exercisedValue': 0, 'unexercisedValue': 0}, {'maxAge': 1, 'name': 'Ms. Elizabeth  Forminard', 'age': 52, 'title': 'Executive VP & General Counsel', 'yearBorn': 1971, 'fiscalYear': 2022, 'exercisedValue': 0, 'unexercisedValue': 0}, {'maxAge': 1, 'name': 'Dr. Peter M. Fasolo Ph.D.', 'age': 60, 'title': 'Executive VP & Chief Human Resources Officer', 'yearBorn': 1963, 'fiscalYear': 2022, 'totalPay': 1283141, 'exercisedValue': 0, 'unexercisedValue': 0}, {'maxAge': 1, 'name': 'Dr. Guy J. Lebeau M.D.', 'title': 'Group Chairman of MD&D Business - EMEA', 'fiscalYear': 2022, 'exercisedValue': 0, 'unexercisedValue': 0}], 'auditRisk': 10, 'boardRisk': 5, 'compensationRisk': 3, 'shareHolderRightsRisk': 2, 'overallRisk': 5, 'governanceEpochDate': 1706400000, 'compensationAsOfEpochDate': 1672444800, 'maxAge': 86400, 'priceHint': 2, 'previousClose': 158.77, 'open': 160.4, 'dayLow': 158.67, 'dayHigh': 160.62, 'regularMarketPreviousClose': 158.77, 'regularMarketOpen': 160.4, 'regularMarketDayLow': 158.67, 'regularMarketDayHigh': 160.62, 'dividendRate': 4.76, 'dividendYield': 0.03, 'exDividendDate': 1708041600, 'payoutRatio': 0.90379995, 'fiveYearAvgDividendYield': 2.65, 'beta': 0.531, 'trailingPE': 30.499039, 'forwardPE': 14.38009, 'volume': 7930225, 'regularMarketVolume': 7930225, 'averageVolume': 6680962, 'averageVolume10days': 6547220, 'averageDailyVolume10Day': 6547220, 'bid': 158.86, 'ask': 159.06, 'bidSize': 800, 'askSize': 900, 'marketCap': 382516789248, 'fiftyTwoWeekLow': 144.95, 'fiftyTwoWeekHigh': 175.97, 'priceToSalesTrailing12Months': 4.491795, 'fiftyDayAverage': 156.9788, 'twoHundredDayAverage': 159.85655, 'trailingAnnualDividendRate': 4.7, 'trailingAnnualDividendYield': 0.029602569, 'currency': 'USD', 'enterpriseValue': 388926570496, 'profitMargins': 0.41279, 'floatShares': 2403884357, 'sharesOutstanding': 2407280128, 'sharesShort': 15005887, 'sharesShortPriorMonth': 15400023, 'sharesShortPreviousMonthDate': 1702598400, 'dateShortInterest': 1705017600, 'sharesPercentSharesOut': 0.0062, 'heldPercentInsiders': 0.00092, 'heldPercentInstitutions': 0.71008, 'shortRatio': 2.17, 'shortPercentOfFloat': 0.0062, 'impliedSharesOutstanding': 2409390080, 'bookValue': 29.59, 'priceToBook': 5.370057, 'lastFiscalYearEnd': 1703980800, 'nextFiscalYearEnd': 1735603200, 'mostRecentQuarter': 1703980800, 'earningsQuarterlyGrowth': 0.15, 'netIncomeToCommon': 13326000128, 'trailingEps': 5.21, 'forwardEps': 11.05, 'pegRatio': 3.17, 'lastSplitFactor': '2:1', 'lastSplitDate': 992390400, 'enterpriseToRevenue': 4.567, 'enterpriseToEbitda': 13.169, '52WeekChange': -0.03729081, 'SandP52WeekChange': 0.19561028, 'lastDividendValue': 1.19, 'lastDividendDate': 1700438400, 'exchange': 'NYQ', 'quoteType': 'EQUITY', 'symbol': 'JNJ', 'underlyingSymbol': 'JNJ', 'shortName': 'Johnson & Johnson', 'longName': 'Johnson & Johnson', 'firstTradeDateEpochUtc': -252322200, 'timeZoneFullName': 'America/New_York', 'timeZoneShortName': 'EST', 'uuid': '73aa25b0-87c8-3616-a460-03cbef1b4753', 'messageBoardId': 'finmb_139677', 'gmtOffSetMilliseconds': -18000000, 'currentPrice': 158.9, 'targetHighPrice': 215.0, 'targetLowPrice': 157.0, 'targetMeanPrice': 175.05, 'targetMedianPrice': 172.0, 'recommendationMean': 2.3, 'recommendationKey': 'buy', 'numberOfAnalystOpinions': 21, 'totalCash': 23510999040, 'totalCashPerShare': 9.767, 'ebitda': 29532997632, 'totalDebt': 29920999424, 'totalRevenue': 85159002112, 'debtToEquity': 42.007, 'revenuePerShare': 33.26, 'returnOnEquity': 0.18004, 'earningsGrowth': 0.262, 'revenueGrowth': -0.097, 'grossMargins': 0.6882, 'ebitdaMargins': 0.3468, 'operatingMargins': 0.20131001, 'financialCurrency': 'USD', 'trailingPegRatio': 5.8463}\n",
      "Company Sector:  Healthcare\n",
      "Price Earnings Ratio:  30.499039\n",
      "Company Beta:  0.531\n"
     ]
    }
   ],
   "source": [
    "GetJNJInfo = yf.Ticker(\"JNJ\")\n",
    "\n",
    "# whole python dictionary is printed here\n",
    "print(GetJNJInfo.info)\n",
    "\n",
    "# display Company Sector\n",
    "print(\"Company Sector: \",GetJNJInfo.info['sector'])\n",
    " \n",
    "# display Price Earnings Ratio\n",
    "print(\"Price Earnings Ratio: \", GetJNJInfo.info['trailingPE'])\n",
    " \n",
    "# display Company Beta\n",
    "print(\"Company Beta: \", GetJNJInfo.info['beta'])"
   ]
  },
  {
   "cell_type": "code",
   "execution_count": null,
   "metadata": {},
   "outputs": [],
   "source": [
    "# retrieve other information\n",
    "for key, value in GetJNJInfo.info.items():\n",
    "    print(key, \":\", value)"
   ]
  },
  {
   "cell_type": "markdown",
   "metadata": {},
   "source": [
    "Historical data"
   ]
  },
  {
   "cell_type": "code",
   "execution_count": 11,
   "metadata": {},
   "outputs": [],
   "source": [
    "from pathlib import Path"
   ]
  },
  {
   "cell_type": "code",
   "execution_count": 16,
   "metadata": {},
   "outputs": [
    {
     "name": "stderr",
     "output_type": "stream",
     "text": [
      "[*********************100%%**********************]  1 of 1 completed\n"
     ]
    }
   ],
   "source": [
    "# download hourly stock prices in the past 730 days (max)\n",
    "JNJdata = yf.download(\"JNJ\",period='730d' , interval='60m')\n",
    "\n",
    "# set a path to save the csv file\n",
    "filepath = Path('E:/Desktop/Extracurriculars/Projects & Competitions/DS Guidelight/JNJdata.csv')  \n",
    "filepath.parent.mkdir(parents=True, exist_ok=True)  \n",
    "JNJdata.to_csv(filepath)"
   ]
  }
 ],
 "metadata": {
  "kernelspec": {
   "display_name": "base",
   "language": "python",
   "name": "python3"
  },
  "language_info": {
   "codemirror_mode": {
    "name": "ipython",
    "version": 3
   },
   "file_extension": ".py",
   "mimetype": "text/x-python",
   "name": "python",
   "nbconvert_exporter": "python",
   "pygments_lexer": "ipython3",
   "version": "3.11.5"
  }
 },
 "nbformat": 4,
 "nbformat_minor": 2
}
