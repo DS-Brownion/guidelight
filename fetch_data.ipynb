{
 "cells": [
  {
   "cell_type": "markdown",
   "metadata": {},
   "source": [
    "#### A function that can fetch any stock price data"
   ]
  },
  {
   "cell_type": "code",
   "execution_count": 1,
   "metadata": {},
   "outputs": [],
   "source": [
    "import yfinance as yf"
   ]
  },
  {
   "cell_type": "code",
   "execution_count": 2,
   "metadata": {},
   "outputs": [],
   "source": [
    "def fetch_stock_data(symbols, start_date, end_date):\n",
    "    \"\"\"\n",
    "    Fetch historical stock price data for a list of symbols.\n",
    "    \n",
    "    Parameters:\n",
    "        symbols (list): List of stock symbols (e.g., ['AAPL', 'MSFT', 'GOOGL']).\n",
    "        start_date (str): Start date in 'YYYY-MM-DD' format.\n",
    "        end_date (str): End date in 'YYYY-MM-DD' format.\n",
    "        \n",
    "    Returns:\n",
    "        dict: Dictionary containing historical stock price data for each symbol.\n",
    "              Keys are stock symbols, and values are pandas DataFrames containing\n",
    "              the historical data.\n",
    "    \"\"\"\n",
    "    stock_data = {}\n",
    "    for symbol in symbols:\n",
    "        stock_data[symbol] = yf.download(symbol, start=start_date, end=end_date)['Adj Close']\n",
    "    return stock_data"
   ]
  },
  {
   "cell_type": "code",
   "execution_count": 3,
   "metadata": {},
   "outputs": [
    {
     "name": "stderr",
     "output_type": "stream",
     "text": [
      "[*********************100%%**********************]  1 of 1 completed\n",
      "[*********************100%%**********************]  1 of 1 completed\n",
      "[*********************100%%**********************]  1 of 1 completed"
     ]
    },
    {
     "name": "stdout",
     "output_type": "stream",
     "text": [
      "{'AAPL': Date\n",
      "2020-01-02     73.059433\n",
      "2020-01-03     72.349144\n",
      "2020-01-06     72.925636\n",
      "2020-01-07     72.582664\n",
      "2020-01-08     73.750221\n",
      "                 ...    \n",
      "2021-12-27    178.065659\n",
      "2021-12-28    177.038712\n",
      "2021-12-29    177.127579\n",
      "2021-12-30    175.962387\n",
      "2021-12-31    175.340332\n",
      "Name: Adj Close, Length: 505, dtype: float64, 'MSFT': Date\n",
      "2020-01-02    154.493835\n",
      "2020-01-03    152.570129\n",
      "2020-01-06    152.964478\n",
      "2020-01-07    151.569778\n",
      "2020-01-08    153.984055\n",
      "                 ...    \n",
      "2021-12-27    335.668396\n",
      "2021-12-28    334.492157\n",
      "2021-12-29    335.178345\n",
      "2021-12-30    332.600403\n",
      "2021-12-31    329.659790\n",
      "Name: Adj Close, Length: 505, dtype: float64, 'GOOGL': Date\n",
      "2020-01-02     68.433998\n",
      "2020-01-03     68.075996\n",
      "2020-01-06     69.890503\n",
      "2020-01-07     69.755501\n",
      "2020-01-08     70.251999\n",
      "                 ...    \n",
      "2021-12-27    147.906494\n",
      "2021-12-28    146.686996\n",
      "2021-12-29    146.654999\n",
      "2021-12-30    146.200500\n",
      "2021-12-31    144.852005\n",
      "Name: Adj Close, Length: 505, dtype: float64}\n"
     ]
    },
    {
     "name": "stderr",
     "output_type": "stream",
     "text": [
      "\n"
     ]
    }
   ],
   "source": [
    "# Example usage\n",
    "if __name__ == \"__main__\":\n",
    "    symbols = ['AAPL', 'MSFT', 'GOOGL']  # Example list of stock symbols\n",
    "    start_date = \"2020-01-01\"\n",
    "    end_date = \"2022-01-01\"\n",
    "    data = fetch_stock_data(symbols, start_date, end_date)\n",
    "    print(data)"
   ]
  }
 ],
 "metadata": {
  "kernelspec": {
   "display_name": "base",
   "language": "python",
   "name": "python3"
  },
  "language_info": {
   "codemirror_mode": {
    "name": "ipython",
    "version": 3
   },
   "file_extension": ".py",
   "mimetype": "text/x-python",
   "name": "python",
   "nbconvert_exporter": "python",
   "pygments_lexer": "ipython3",
   "version": "3.11.5"
  }
 },
 "nbformat": 4,
 "nbformat_minor": 2
}
