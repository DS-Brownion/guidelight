{
 "cells": [
  {
   "cell_type": "code",
   "execution_count": 1,
   "metadata": {},
   "outputs": [],
   "source": [
    "from dotenv import load_dotenv\n",
    "import os\n",
    "load_dotenv()\n",
    "token = os.getenv(\"POLYGON_TOKEN\")"
   ]
  },
  {
   "cell_type": "code",
   "execution_count": 2,
   "metadata": {},
   "outputs": [],
   "source": [
    "from polygon import RESTClient\n",
    "client = RESTClient(api_key=token)"
   ]
  },
  {
   "cell_type": "code",
   "execution_count": 3,
   "metadata": {},
   "outputs": [
    {
     "name": "stdout",
     "output_type": "stream",
     "text": [
      "928494\n"
     ]
    }
   ],
   "source": [
    "ticker = \"AAPL\"\n",
    "\n",
    "# List Aggregates (Bars)\n",
    "aggs = []\n",
    "for a in client.list_aggs(ticker=ticker, multiplier=1, timespan=\"minute\", from_=\"2019-01-01\", to=\"2023-12-30\", limit=50000):\n",
    "    aggs.append(a)\n",
    "\n",
    "print(len(aggs))\n",
    "\n"
   ]
  },
  {
   "cell_type": "code",
   "execution_count": 4,
   "metadata": {},
   "outputs": [
    {
     "data": {
      "text/plain": [
       "Agg(open=192.1505, high=192.1505, low=192.1501, close=192.1501, volume=2147, vwap=192.1512, timestamp=1703897940000, transactions=12, otc=None)"
      ]
     },
     "execution_count": 4,
     "metadata": {},
     "output_type": "execute_result"
    }
   ],
   "source": [
    "aggs[-1]"
   ]
  },
  {
   "cell_type": "code",
   "execution_count": null,
   "metadata": {},
   "outputs": [],
   "source": [
    "# Get Last Trade\n",
    "trade = client.get_last_trade(ticker=ticker)\n",
    "print(trade)\n",
    "\n",
    "# List Trades\n",
    "trades = client.list_trades(ticker=ticker, timestamp=\"2022-01-04\")\n",
    "for trade in trades:\n",
    "    print(trade)\n",
    "\n",
    "# Get Last Quote\n",
    "quote = client.get_last_quote(ticker=ticker)\n",
    "print(quote)\n",
    "\n",
    "# List Quotes\n",
    "quotes = client.list_quotes(ticker=ticker, timestamp=\"2022-01-04\")\n",
    "for quote in quotes:\n",
    "    print(quote)"
   ]
  }
 ],
 "metadata": {
  "kernelspec": {
   "display_name": "guidelight-Popvxsqg",
   "language": "python",
   "name": "python3"
  },
  "language_info": {
   "codemirror_mode": {
    "name": "ipython",
    "version": 3
   },
   "file_extension": ".py",
   "mimetype": "text/x-python",
   "name": "python",
   "nbconvert_exporter": "python",
   "pygments_lexer": "ipython3",
   "version": "3.11.6"
  }
 },
 "nbformat": 4,
 "nbformat_minor": 2
}
