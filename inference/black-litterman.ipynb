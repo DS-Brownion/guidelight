{
 "cells": [
  {
   "cell_type": "markdown",
   "metadata": {},
   "source": [
    "### Data wrangle"
   ]
  },
  {
   "cell_type": "code",
   "execution_count": 77,
   "metadata": {},
   "outputs": [],
   "source": [
    "# Grab Data\n",
    "from datetime import datetime as dt\n",
    "import yfinance as yf\n",
    "\n",
    "# Usual Suspects\n",
    "import pandas as pd\n",
    "import numpy as np\n",
    "import matplotlib.pyplot as plt\n",
    "import seaborn as sns\n",
    "\n",
    "# Use PyPortfolioOpt for Calculations\n",
    "from pypfopt import EfficientFrontier, objective_functions\n",
    "from pypfopt import black_litterman, risk_models\n",
    "from pypfopt import BlackLittermanModel, plotting\n",
    "from pypfopt import DiscreteAllocation"
   ]
  },
  {
   "cell_type": "code",
   "execution_count": 78,
   "metadata": {},
   "outputs": [],
   "source": [
    "# Collect user input for stock symbols\n",
    "# user_input = input(\"Enter the symbols of the stocks you are interested in (comma-separated): \")\n",
    "# symbols = user_input.split(\",\")\n",
    "\n",
    "# Create a Portfolio\n",
    "symbols = ['PFE','GSK','AZN','BMY','MRK','RHHBY','SNY','NVS','ABBV','JNJ']"
   ]
  },
  {
   "cell_type": "code",
   "execution_count": 79,
   "metadata": {},
   "outputs": [
    {
     "name": "stderr",
     "output_type": "stream",
     "text": [
      "[*********************100%%**********************]  10 of 10 completed\n"
     ]
    },
    {
     "data": {
      "text/html": [
       "<div>\n",
       "<style scoped>\n",
       "    .dataframe tbody tr th:only-of-type {\n",
       "        vertical-align: middle;\n",
       "    }\n",
       "\n",
       "    .dataframe tbody tr th {\n",
       "        vertical-align: top;\n",
       "    }\n",
       "\n",
       "    .dataframe thead th {\n",
       "        text-align: right;\n",
       "    }\n",
       "</style>\n",
       "<table border=\"1\" class=\"dataframe\">\n",
       "  <thead>\n",
       "    <tr style=\"text-align: right;\">\n",
       "      <th>Ticker</th>\n",
       "      <th>ABBV</th>\n",
       "      <th>AZN</th>\n",
       "      <th>BMY</th>\n",
       "      <th>GSK</th>\n",
       "      <th>JNJ</th>\n",
       "      <th>MRK</th>\n",
       "      <th>NVS</th>\n",
       "      <th>PFE</th>\n",
       "      <th>RHHBY</th>\n",
       "      <th>SNY</th>\n",
       "    </tr>\n",
       "    <tr>\n",
       "      <th>Date</th>\n",
       "      <th></th>\n",
       "      <th></th>\n",
       "      <th></th>\n",
       "      <th></th>\n",
       "      <th></th>\n",
       "      <th></th>\n",
       "      <th></th>\n",
       "      <th></th>\n",
       "      <th></th>\n",
       "      <th></th>\n",
       "    </tr>\n",
       "  </thead>\n",
       "  <tbody>\n",
       "    <tr>\n",
       "      <th>2004-04-27</th>\n",
       "      <td>NaN</td>\n",
       "      <td>10.938019</td>\n",
       "      <td>11.693060</td>\n",
       "      <td>15.811594</td>\n",
       "      <td>31.023716</td>\n",
       "      <td>21.779404</td>\n",
       "      <td>20.355764</td>\n",
       "      <td>15.804037</td>\n",
       "      <td>7.201419</td>\n",
       "      <td>14.654794</td>\n",
       "    </tr>\n",
       "    <tr>\n",
       "      <th>2004-04-28</th>\n",
       "      <td>NaN</td>\n",
       "      <td>10.760674</td>\n",
       "      <td>12.052556</td>\n",
       "      <td>15.484397</td>\n",
       "      <td>30.926708</td>\n",
       "      <td>21.866991</td>\n",
       "      <td>19.873285</td>\n",
       "      <td>15.561164</td>\n",
       "      <td>7.040345</td>\n",
       "      <td>14.047167</td>\n",
       "    </tr>\n",
       "    <tr>\n",
       "      <th>2004-04-29</th>\n",
       "      <td>NaN</td>\n",
       "      <td>10.914985</td>\n",
       "      <td>11.967406</td>\n",
       "      <td>15.769748</td>\n",
       "      <td>30.875341</td>\n",
       "      <td>21.654938</td>\n",
       "      <td>20.263861</td>\n",
       "      <td>15.426721</td>\n",
       "      <td>7.080614</td>\n",
       "      <td>14.592595</td>\n",
       "    </tr>\n",
       "    <tr>\n",
       "      <th>2004-04-30</th>\n",
       "      <td>NaN</td>\n",
       "      <td>11.020936</td>\n",
       "      <td>11.872808</td>\n",
       "      <td>15.978992</td>\n",
       "      <td>30.835392</td>\n",
       "      <td>21.664165</td>\n",
       "      <td>20.585510</td>\n",
       "      <td>15.509126</td>\n",
       "      <td>7.097393</td>\n",
       "      <td>15.168105</td>\n",
       "    </tr>\n",
       "    <tr>\n",
       "      <th>2004-05-03</th>\n",
       "      <td>NaN</td>\n",
       "      <td>11.020936</td>\n",
       "      <td>12.114049</td>\n",
       "      <td>16.077911</td>\n",
       "      <td>31.349031</td>\n",
       "      <td>21.986822</td>\n",
       "      <td>20.613079</td>\n",
       "      <td>15.708627</td>\n",
       "      <td>6.986652</td>\n",
       "      <td>15.119334</td>\n",
       "    </tr>\n",
       "  </tbody>\n",
       "</table>\n",
       "</div>"
      ],
      "text/plain": [
       "Ticker      ABBV        AZN        BMY        GSK        JNJ        MRK  \\\n",
       "Date                                                                      \n",
       "2004-04-27   NaN  10.938019  11.693060  15.811594  31.023716  21.779404   \n",
       "2004-04-28   NaN  10.760674  12.052556  15.484397  30.926708  21.866991   \n",
       "2004-04-29   NaN  10.914985  11.967406  15.769748  30.875341  21.654938   \n",
       "2004-04-30   NaN  11.020936  11.872808  15.978992  30.835392  21.664165   \n",
       "2004-05-03   NaN  11.020936  12.114049  16.077911  31.349031  21.986822   \n",
       "\n",
       "Ticker            NVS        PFE     RHHBY        SNY  \n",
       "Date                                                   \n",
       "2004-04-27  20.355764  15.804037  7.201419  14.654794  \n",
       "2004-04-28  19.873285  15.561164  7.040345  14.047167  \n",
       "2004-04-29  20.263861  15.426721  7.080614  14.592595  \n",
       "2004-04-30  20.585510  15.509126  7.097393  15.168105  \n",
       "2004-05-03  20.613079  15.708627  6.986652  15.119334  "
      ]
     },
     "execution_count": 79,
     "metadata": {},
     "output_type": "execute_result"
    }
   ],
   "source": [
    "# Get the stock data\n",
    "# tz = pytz.timezone(\"America/New_York\")\n",
    "# start = tz.localize(dt(2000,1,1))\n",
    "# end = tz.localize(dt.today())\n",
    "\n",
    "# portfolio = yf.download(symbols,start, end, auto_adjust=True)['Adj Close']\n",
    "portfolio = yf.download(symbols, period = '20y')['Adj Close']\n",
    "portfolio.head()"
   ]
  },
  {
   "cell_type": "code",
   "execution_count": 80,
   "metadata": {},
   "outputs": [
    {
     "name": "stderr",
     "output_type": "stream",
     "text": [
      "[*********************100%%**********************]  1 of 1 completed\n"
     ]
    },
    {
     "data": {
      "text/plain": [
       "Date\n",
       "2004-04-27    77.990669\n",
       "2004-04-28    76.980827\n",
       "2004-04-29    76.305336\n",
       "2004-04-30    75.711685\n",
       "2004-05-03    76.523666\n",
       "Name: Adj Close, dtype: float64"
      ]
     },
     "execution_count": 80,
     "metadata": {},
     "output_type": "execute_result"
    }
   ],
   "source": [
    "# SP500 ETF Benchmark\n",
    "market_prices = yf.download(\"SPY\", period = '20y')[\"Adj Close\"]\n",
    "market_prices.head()"
   ]
  },
  {
   "cell_type": "code",
   "execution_count": 81,
   "metadata": {},
   "outputs": [
    {
     "data": {
      "text/plain": [
       "{'PFE': 143828500480,\n",
       " 'GSK': 83988963328,\n",
       " 'AZN': 233060073472,\n",
       " 'BMY': 90900176896,\n",
       " 'MRK': 332333514752,\n",
       " 'RHHBY': 194305720320,\n",
       " 'SNY': 122650591232,\n",
       " 'NVS': 198817546240,\n",
       " 'ABBV': 282631143424,\n",
       " 'JNJ': 352165232640}"
      ]
     },
     "execution_count": 81,
     "metadata": {},
     "output_type": "execute_result"
    }
   ],
   "source": [
    "# Grap Market Capitalization for each stock in portfolio\n",
    "mcaps = {}\n",
    "for t in symbols:\n",
    "    stock = yf.Ticker(t)\n",
    "    mcaps[t] = stock.info[\"marketCap\"]\n",
    "mcaps"
   ]
  },
  {
   "cell_type": "markdown",
   "metadata": {},
   "source": [
    "### Setting up priors"
   ]
  },
  {
   "cell_type": "code",
   "execution_count": 82,
   "metadata": {},
   "outputs": [
    {
     "name": "stdout",
     "output_type": "stream",
     "text": [
      "Covariance Matrix:\n",
      "Ticker      ABBV       AZN       BMY       GSK       JNJ       MRK       NVS  \\\n",
      "Ticker                                                                         \n",
      "ABBV    0.000276  0.000087  0.000108  0.000075  0.000082  0.000095  0.000078   \n",
      "AZN     0.000087  0.000236  0.000082  0.000105  0.000065  0.000076  0.000093   \n",
      "BMY     0.000108  0.000082  0.000227  0.000071  0.000076  0.000078  0.000067   \n",
      "GSK     0.000075  0.000105  0.000071  0.000156  0.000063  0.000078  0.000082   \n",
      "JNJ     0.000082  0.000065  0.000076  0.000063  0.000121  0.000078  0.000060   \n",
      "MRK     0.000095  0.000076  0.000078  0.000078  0.000078  0.000174  0.000072   \n",
      "NVS     0.000078  0.000093  0.000067  0.000082  0.000060  0.000072  0.000134   \n",
      "PFE     0.000101  0.000080  0.000093  0.000073  0.000081  0.000089  0.000072   \n",
      "RHHBY   0.000065  0.000091  0.000060  0.000074  0.000054  0.000060  0.000092   \n",
      "SNY     0.000080  0.000104  0.000071  0.000102  0.000066  0.000076  0.000094   \n",
      "\n",
      "Ticker       PFE     RHHBY       SNY  \n",
      "Ticker                                \n",
      "ABBV    0.000101  0.000065  0.000080  \n",
      "AZN     0.000080  0.000091  0.000104  \n",
      "BMY     0.000093  0.000060  0.000071  \n",
      "GSK     0.000073  0.000074  0.000102  \n",
      "JNJ     0.000081  0.000054  0.000066  \n",
      "MRK     0.000089  0.000060  0.000076  \n",
      "NVS     0.000072  0.000092  0.000094  \n",
      "PFE     0.000194  0.000065  0.000079  \n",
      "RHHBY   0.000065  0.000169  0.000093  \n",
      "SNY     0.000079  0.000093  0.000211  \n"
     ]
    }
   ],
   "source": [
    "# Compute daily returns\n",
    "returns = portfolio.pct_change().dropna()\n",
    "\n",
    "# Calculate covariance matrix\n",
    "cov_matrix = returns.cov()\n",
    "\n",
    "# Display covariance matrix\n",
    "print(\"Covariance Matrix:\")\n",
    "print(cov_matrix)"
   ]
  },
  {
   "cell_type": "code",
   "execution_count": 83,
   "metadata": {},
   "outputs": [
    {
     "name": "stdout",
     "output_type": "stream",
     "text": [
      "Ticker      ABBV       AZN       BMY       GSK       JNJ       MRK       NVS  \\\n",
      "Ticker                                                                         \n",
      "ABBV    0.039508  0.012356  0.015278  0.010669  0.011609  0.013477  0.011054   \n",
      "AZN     0.012356  0.062263  0.023735  0.031849  0.017940  0.025104  0.026046   \n",
      "BMY     0.015278  0.023735  0.056421  0.020418  0.019019  0.026641  0.018410   \n",
      "GSK     0.010669  0.031849  0.020418  0.044380  0.017099  0.023643  0.023365   \n",
      "JNJ     0.011609  0.017940  0.019019  0.017099  0.029112  0.022525  0.015310   \n",
      "MRK     0.013477  0.025104  0.026641  0.023643  0.022525  0.062812  0.021071   \n",
      "NVS     0.011054  0.026046  0.018410  0.023365  0.015310  0.021071  0.037635   \n",
      "PFE     0.014278  0.025214  0.027225  0.022447  0.021664  0.030384  0.020744   \n",
      "RHHBY   0.009147  0.026437  0.017591  0.022816  0.014796  0.019576  0.026893   \n",
      "SNY     0.011295  0.033819  0.024496  0.030652  0.019787  0.026998  0.029043   \n",
      "\n",
      "Ticker       PFE     RHHBY       SNY  \n",
      "Ticker                                \n",
      "ABBV    0.014278  0.009147  0.011295  \n",
      "AZN     0.025214  0.026437  0.033819  \n",
      "BMY     0.027225  0.017591  0.024496  \n",
      "GSK     0.022447  0.022816  0.030652  \n",
      "JNJ     0.021664  0.014796  0.019787  \n",
      "MRK     0.030384  0.019576  0.026998  \n",
      "NVS     0.020744  0.026893  0.029043  \n",
      "PFE     0.054239  0.020131  0.026962  \n",
      "RHHBY   0.020131  0.052383  0.030958  \n",
      "SNY     0.026962  0.030958  0.064829  \n"
     ]
    },
    {
     "data": {
      "text/plain": [
       "2.5495991751139644"
      ]
     },
     "execution_count": 83,
     "metadata": {},
     "output_type": "execute_result"
    }
   ],
   "source": [
    "# Calculate Sigma(S), the covariance matrix, using the Ledoit-Wolf method\n",
    "# Ledoit-Wolf is a particular form of shrinkage, where the shrinkage coefficient is computed using O\n",
    "S = risk_models.CovarianceShrinkage(portfolio).ledoit_wolf()\n",
    "print(S)\n",
    "\n",
    "delta = black_litterman.market_implied_risk_aversion(market_prices)\n",
    "delta"
   ]
  },
  {
   "cell_type": "code",
   "execution_count": 84,
   "metadata": {},
   "outputs": [
    {
     "data": {
      "text/plain": [
       "<Axes: xlabel='Ticker', ylabel='Ticker'>"
      ]
     },
     "execution_count": 84,
     "metadata": {},
     "output_type": "execute_result"
    },
    {
     "data": {
      "image/png": "[encoded data removed]",
      "text/plain": [
       "<Figure size 640x480 with 2 Axes>"
      ]
     },
     "metadata": {},
     "output_type": "display_data"
    }
   ],
   "source": [
    "# Visualize the Covariant Correlation\n",
    "sns.heatmap(S.corr(), cmap='coolwarm')"
   ]
  },
  {
   "cell_type": "code",
   "execution_count": 85,
   "metadata": {},
   "outputs": [
    {
     "data": {
      "text/plain": [
       "Ticker\n",
       "ABBV     0.060489\n",
       "AZN      0.089653\n",
       "BMY      0.077946\n",
       "GSK      0.077600\n",
       "JNJ      0.069906\n",
       "MRK      0.093365\n",
       "NVS      0.075735\n",
       "PFE      0.084085\n",
       "RHHBY    0.077887\n",
       "SNY      0.089464\n",
       "dtype: float64"
      ]
     },
     "execution_count": 85,
     "metadata": {},
     "output_type": "execute_result"
    }
   ],
   "source": [
    "market_prior = black_litterman.market_implied_prior_returns(mcaps, delta, S)\n",
    "market_prior"
   ]
  },
  {
   "cell_type": "code",
   "execution_count": 86,
   "metadata": {},
   "outputs": [
    {
     "data": {
      "text/plain": [
       "<Axes: ylabel='Ticker'>"
      ]
     },
     "execution_count": 86,
     "metadata": {},
     "output_type": "execute_result"
    },
    {
     "data": {
      "image/png": "[encoded data removed]",
      "text/plain": [
       "<Figure size 1000x500 with 1 Axes>"
      ]
     },
     "metadata": {},
     "output_type": "display_data"
    }
   ],
   "source": [
    "# What am I looking at here?\n",
    "market_prior.plot.barh(figsize=(10,5))"
   ]
  },
  {
   "cell_type": "markdown",
   "metadata": {},
   "source": [
    "### Integrating views"
   ]
  },
  {
   "cell_type": "code",
   "execution_count": 87,
   "metadata": {},
   "outputs": [],
   "source": [
    "# You don't have to provide views on all the assets\n",
    "viewdict = {'PFE': 0.1,\n",
    "            'GSK': 0.1,\n",
    "            'AZN': -0.05,\n",
    "            'BMY': 0.25,\n",
    "            'MRK': 0.09,\n",
    "            'RHHBY': -0.12,\n",
    "            'SNY': 0.07,\n",
    "            'NVS': -0.21,\n",
    "            'ABBV': 0.21,\n",
    "            'JNJ': 0.2}\n",
    "\n",
    "bl = BlackLittermanModel(S, pi=market_prior, absolute_views=viewdict)"
   ]
  },
  {
   "cell_type": "markdown",
   "metadata": {},
   "source": [
    "#### Creating confidences\n",
    "\n",
    "We can calculate the uncertainty matrix directly by specifying 1 standard deviation confidence intervals, i.e bounds which we think will contain the true return 68% of the time. This may be easier than coming up with somewhat arbitrary percentage confidences"
   ]
  },
  {
   "cell_type": "code",
   "execution_count": 88,
   "metadata": {},
   "outputs": [],
   "source": [
    "intervals = [\n",
    "    (0, 0.25),\n",
    "    (0.1, 0.4),\n",
    "    (-0.1, 0.15),\n",
    "    (-0.05, 0.1),\n",
    "    (0.03, 0.1),\n",
    "    (-0.1, 0),\n",
    "    (0.1, 0.2),\n",
    "    (-0.08, 0.12),\n",
    "    (0.1, 0.9),\n",
    "    (0, 0.3)\n",
    "]"
   ]
  },
  {
   "cell_type": "code",
   "execution_count": 89,
   "metadata": {},
   "outputs": [
    {
     "name": "stdout",
     "output_type": "stream",
     "text": [
      "[0.015625, 0.022500000000000006, 0.015625, 0.0056250000000000015, 0.0012250000000000002, 0.0025000000000000005, 0.0025000000000000005, 0.010000000000000002, 0.16000000000000003, 0.0225]\n"
     ]
    }
   ],
   "source": [
    "variances = []\n",
    "for lb, ub in intervals: # lb: lower bound, ub: upper bound\n",
    "    sigma = (ub - lb)/2\n",
    "    variances.append(sigma ** 2)\n",
    "\n",
    "print(variances)\n",
    "omega = np.diag(variances)"
   ]
  },
  {
   "cell_type": "markdown",
   "metadata": {},
   "source": [
    "### Calculate Posterior Estimate Returns"
   ]
  },
  {
   "cell_type": "code",
   "execution_count": 90,
   "metadata": {},
   "outputs": [
    {
     "data": {
      "image/png": "[encoded data removed]",
      "text/plain": [
       "<Figure size 700x700 with 1 Axes>"
      ]
     },
     "metadata": {},
     "output_type": "display_data"
    }
   ],
   "source": [
    "fig, ax = plt.subplots(figsize=(7,7))\n",
    "im = ax.imshow(omega)\n",
    "\n",
    "# We want to show all ticks...\n",
    "ax.set_xticks(np.arange(len(bl.tickers)))\n",
    "ax.set_yticks(np.arange(len(bl.tickers)))\n",
    "\n",
    "ax.set_xticklabels(bl.tickers)\n",
    "ax.set_yticklabels(bl.tickers)\n",
    "plt.show()"
   ]
  },
  {
   "cell_type": "code",
   "execution_count": 91,
   "metadata": {},
   "outputs": [],
   "source": [
    "# We are using the shortcut to automatically compute market-implied prior\n",
    "bl = BlackLittermanModel(S, pi=\"market\", market_caps=mcaps, risk_aversion=delta,\n",
    "                        absolute_views=viewdict, omega=omega)"
   ]
  },
  {
   "cell_type": "code",
   "execution_count": 92,
   "metadata": {},
   "outputs": [
    {
     "data": {
      "text/plain": [
       "Ticker\n",
       "ABBV     0.044703\n",
       "AZN      0.038799\n",
       "BMY      0.101859\n",
       "GSK      0.040102\n",
       "JNJ      0.053916\n",
       "MRK      0.083479\n",
       "NVS      0.009078\n",
       "PFE      0.067678\n",
       "RHHBY   -0.026087\n",
       "SNY      0.049626\n",
       "dtype: float64"
      ]
     },
     "execution_count": 92,
     "metadata": {},
     "output_type": "execute_result"
    }
   ],
   "source": [
    "# Posterior estimate of returns\n",
    "ret_bl = bl.bl_returns()\n",
    "ret_bl"
   ]
  },
  {
   "cell_type": "code",
   "execution_count": 93,
   "metadata": {},
   "outputs": [
    {
     "data": {
      "text/html": [
       "<div>\n",
       "<style scoped>\n",
       "    .dataframe tbody tr th:only-of-type {\n",
       "        vertical-align: middle;\n",
       "    }\n",
       "\n",
       "    .dataframe tbody tr th {\n",
       "        vertical-align: top;\n",
       "    }\n",
       "\n",
       "    .dataframe thead th {\n",
       "        text-align: right;\n",
       "    }\n",
       "</style>\n",
       "<table border=\"1\" class=\"dataframe\">\n",
       "  <thead>\n",
       "    <tr style=\"text-align: right;\">\n",
       "      <th></th>\n",
       "      <th>Prior</th>\n",
       "      <th>Posterior</th>\n",
       "      <th>Views</th>\n",
       "    </tr>\n",
       "  </thead>\n",
       "  <tbody>\n",
       "    <tr>\n",
       "      <th>ABBV</th>\n",
       "      <td>0.060489</td>\n",
       "      <td>0.044703</td>\n",
       "      <td>0.21</td>\n",
       "    </tr>\n",
       "    <tr>\n",
       "      <th>AZN</th>\n",
       "      <td>0.089653</td>\n",
       "      <td>0.038799</td>\n",
       "      <td>-0.05</td>\n",
       "    </tr>\n",
       "    <tr>\n",
       "      <th>BMY</th>\n",
       "      <td>0.077946</td>\n",
       "      <td>0.101859</td>\n",
       "      <td>0.25</td>\n",
       "    </tr>\n",
       "    <tr>\n",
       "      <th>GSK</th>\n",
       "      <td>0.077600</td>\n",
       "      <td>0.040102</td>\n",
       "      <td>0.10</td>\n",
       "    </tr>\n",
       "    <tr>\n",
       "      <th>JNJ</th>\n",
       "      <td>0.069906</td>\n",
       "      <td>0.053916</td>\n",
       "      <td>0.20</td>\n",
       "    </tr>\n",
       "    <tr>\n",
       "      <th>MRK</th>\n",
       "      <td>0.093365</td>\n",
       "      <td>0.083479</td>\n",
       "      <td>0.09</td>\n",
       "    </tr>\n",
       "    <tr>\n",
       "      <th>NVS</th>\n",
       "      <td>0.075735</td>\n",
       "      <td>0.009078</td>\n",
       "      <td>-0.21</td>\n",
       "    </tr>\n",
       "    <tr>\n",
       "      <th>PFE</th>\n",
       "      <td>0.084085</td>\n",
       "      <td>0.067678</td>\n",
       "      <td>0.10</td>\n",
       "    </tr>\n",
       "    <tr>\n",
       "      <th>RHHBY</th>\n",
       "      <td>0.077887</td>\n",
       "      <td>-0.026087</td>\n",
       "      <td>-0.12</td>\n",
       "    </tr>\n",
       "    <tr>\n",
       "      <th>SNY</th>\n",
       "      <td>0.089464</td>\n",
       "      <td>0.049626</td>\n",
       "      <td>0.07</td>\n",
       "    </tr>\n",
       "  </tbody>\n",
       "</table>\n",
       "</div>"
      ],
      "text/plain": [
       "          Prior  Posterior  Views\n",
       "ABBV   0.060489   0.044703   0.21\n",
       "AZN    0.089653   0.038799  -0.05\n",
       "BMY    0.077946   0.101859   0.25\n",
       "GSK    0.077600   0.040102   0.10\n",
       "JNJ    0.069906   0.053916   0.20\n",
       "MRK    0.093365   0.083479   0.09\n",
       "NVS    0.075735   0.009078  -0.21\n",
       "PFE    0.084085   0.067678   0.10\n",
       "RHHBY  0.077887  -0.026087  -0.12\n",
       "SNY    0.089464   0.049626   0.07"
      ]
     },
     "execution_count": 93,
     "metadata": {},
     "output_type": "execute_result"
    }
   ],
   "source": [
    "rets_df = pd.DataFrame([market_prior, ret_bl, pd.Series(viewdict)],\n",
    "             index=[\"Prior\", \"Posterior\", \"Views\"]).T\n",
    "rets_df"
   ]
  },
  {
   "cell_type": "code",
   "execution_count": 94,
   "metadata": {},
   "outputs": [
    {
     "data": {
      "text/plain": [
       "<Axes: >"
      ]
     },
     "execution_count": 94,
     "metadata": {},
     "output_type": "execute_result"
    },
    {
     "data": {
      "image/png": "[encoded data removed]",
      "text/plain": [
       "<Figure size 1200x800 with 1 Axes>"
      ]
     },
     "metadata": {},
     "output_type": "display_data"
    }
   ],
   "source": [
    "rets_df.plot.bar(figsize=(12,8))"
   ]
  },
  {
   "cell_type": "code",
   "execution_count": 95,
   "metadata": {},
   "outputs": [
    {
     "name": "stdout",
     "output_type": "stream",
     "text": [
      "Ticker      ABBV       AZN       BMY       GSK       JNJ       MRK       NVS  \\\n",
      "Ticker                                                                         \n",
      "ABBV    0.041274  0.012560  0.015594  0.010839  0.011889  0.013595  0.011257   \n",
      "AZN     0.012560  0.064196  0.024039  0.032507  0.018184  0.025264  0.026464   \n",
      "BMY     0.015594  0.024039  0.057996  0.020666  0.019318  0.026833  0.018609   \n",
      "GSK     0.010839  0.032507  0.020666  0.045759  0.017369  0.023813  0.023757   \n",
      "JNJ     0.011889  0.018184  0.019318  0.017369  0.030072  0.022736  0.015522   \n",
      "MRK     0.013595  0.025264  0.026833  0.023813  0.022736  0.063633  0.021204   \n",
      "NVS     0.011257  0.026464  0.018609  0.023757  0.015522  0.021204  0.038692   \n",
      "PFE     0.014568  0.025563  0.027660  0.022760  0.022078  0.030650  0.021014   \n",
      "RHHBY   0.009231  0.026739  0.017714  0.023072  0.014933  0.019651  0.027273   \n",
      "SNY     0.011386  0.034213  0.024698  0.031032  0.019984  0.027118  0.029378   \n",
      "\n",
      "Ticker       PFE     RHHBY       SNY  \n",
      "Ticker                                \n",
      "ABBV    0.014568  0.009231  0.011386  \n",
      "AZN     0.025563  0.026739  0.034213  \n",
      "BMY     0.027660  0.017714  0.024698  \n",
      "GSK     0.022760  0.023072  0.031032  \n",
      "JNJ     0.022078  0.014933  0.019984  \n",
      "MRK     0.030650  0.019651  0.027118  \n",
      "NVS     0.021014  0.027273  0.029378  \n",
      "PFE     0.055920  0.020308  0.027218  \n",
      "RHHBY   0.020308  0.053489  0.031231  \n",
      "SNY     0.027218  0.031231  0.066026  \n"
     ]
    },
    {
     "data": {
      "text/plain": [
       "<Axes: >"
      ]
     },
     "execution_count": 95,
     "metadata": {},
     "output_type": "execute_result"
    },
    {
     "data": {
      "image/png": "[encoded data removed]",
      "text/plain": [
       "<Figure size 640x480 with 2 Axes>"
      ]
     },
     "metadata": {},
     "output_type": "display_data"
    }
   ],
   "source": [
    "S_bl = bl.bl_cov()\n",
    "print(S_bl)\n",
    "plotting.plot_covariance(S_bl)"
   ]
  },
  {
   "cell_type": "markdown",
   "metadata": {},
   "source": [
    "### Portfolio allocation"
   ]
  },
  {
   "cell_type": "code",
   "execution_count": 96,
   "metadata": {},
   "outputs": [
    {
     "name": "stderr",
     "output_type": "stream",
     "text": [
      "c:\\Users\\JoyChang\\anaconda3\\Lib\\site-packages\\pypfopt\\efficient_frontier\\efficient_frontier.py:259: UserWarning: max_sharpe transforms the optimization problem so additional objectives may not work as expected.\n",
      "  warnings.warn(\n"
     ]
    },
    {
     "data": {
      "text/plain": [
       "OrderedDict([('ABBV', 0.0776),\n",
       "             ('AZN', 0.04503),\n",
       "             ('BMY', 0.2765),\n",
       "             ('GSK', 0.05283),\n",
       "             ('JNJ', 0.10742),\n",
       "             ('MRK', 0.20687),\n",
       "             ('NVS', 0.0),\n",
       "             ('PFE', 0.14991),\n",
       "             ('RHHBY', 0.0),\n",
       "             ('SNY', 0.08384)])"
      ]
     },
     "execution_count": 96,
     "metadata": {},
     "output_type": "execute_result"
    }
   ],
   "source": [
    "ef = EfficientFrontier(ret_bl, S_bl)\n",
    "\n",
    "# A regularization term added to the optimization objective to improve the stability and robustness \n",
    "# of the optimized portfolio by penalizing extreme portfolio weights\n",
    "ef.add_objective(objective_functions.L2_reg)\n",
    "\n",
    "ef.max_sharpe()\n",
    "weights = ef.clean_weights()\n",
    "weights"
   ]
  },
  {
   "cell_type": "code",
   "execution_count": 97,
   "metadata": {},
   "outputs": [
    {
     "data": {
      "text/plain": [
       "<Axes: >"
      ]
     },
     "execution_count": 97,
     "metadata": {},
     "output_type": "execute_result"
    },
    {
     "data": {
      "image/png": "[encoded data removed]",
      "text/plain": [
       "<Figure size 700x700 with 1 Axes>"
      ]
     },
     "metadata": {},
     "output_type": "display_data"
    }
   ],
   "source": [
    "pd.Series(weights).plot.pie(figsize=(7,7))"
   ]
  },
  {
   "cell_type": "code",
   "execution_count": 98,
   "metadata": {},
   "outputs": [
    {
     "name": "stdout",
     "output_type": "stream",
     "text": [
      "Expected annual return: 7.3%\n",
      "Annual volatility: 17.0%\n",
      "Sharpe Ratio: 0.31\n"
     ]
    },
    {
     "name": "stderr",
     "output_type": "stream",
     "text": [
      "c:\\Users\\JoyChang\\anaconda3\\Lib\\site-packages\\pypfopt\\efficient_frontier\\efficient_frontier.py:259: UserWarning: max_sharpe transforms the optimization problem so additional objectives may not work as expected.\n",
      "  warnings.warn(\n",
      "c:\\Users\\JoyChang\\anaconda3\\Lib\\site-packages\\pypfopt\\efficient_frontier\\efficient_frontier.py:441: UserWarning: The risk_free_rate provided to portfolio_performance is different to the one used by max_sharpe. Using the previous value.\n",
      "  warnings.warn(\n"
     ]
    },
    {
     "data": {
      "text/plain": [
       "(0.07286596828089714, 0.1700642677881232, 0.3108587651508364)"
      ]
     },
     "execution_count": 98,
     "metadata": {},
     "output_type": "execute_result"
    },
    {
     "data": {
      "image/png": "[encoded data removed]",
      "text/plain": [
       "<Figure size 640x480 with 1 Axes>"
      ]
     },
     "metadata": {},
     "output_type": "display_data"
    }
   ],
   "source": [
    "from pypfopt.plotting import plot_weights\n",
    "\n",
    "# Maximum Sharpe\n",
    "ef = EfficientFrontier(ret_bl, S_bl)\n",
    "ef.add_objective(objective_functions.L2_reg)\n",
    "ef.max_sharpe()\n",
    "weights = ef.clean_weights()\n",
    "\n",
    "plot_weights(weights)\n",
    "ef.portfolio_performance(verbose = True, risk_free_rate = 0.009)"
   ]
  },
  {
   "cell_type": "code",
   "execution_count": 99,
   "metadata": {},
   "outputs": [],
   "source": [
    "import torch"
   ]
  },
  {
   "cell_type": "code",
   "execution_count": 100,
   "metadata": {},
   "outputs": [],
   "source": [
    "# Extract the posterior estimate returns from the Black-Litterman model\n",
    "exp_returns = ret_bl.values\n",
    "cov_matrix = S_bl.values\n",
    "\n",
    "# Convert the posterior returns to a torch tensor\n",
    "exp_returns_tensor = torch.Tensor(exp_returns).float()\n",
    "cov_matrix_tensor = torch.Tensor(cov_matrix).float()"
   ]
  },
  {
   "cell_type": "markdown",
   "metadata": {},
   "source": [
    "# Note and Todo:"
   ]
  },
  {
   "cell_type": "markdown",
   "metadata": {},
   "source": [
    "* Note: I finshed the code in the pricing_model.py file but haven't had the time to test it.\n",
    "* The trainining data you'll use has been computed in param_data folder\n",
    "* read the data from the csv file and convert it to multiple torch tensor of length 6 vectors."
   ]
  },
  {
   "cell_type": "markdown",
   "metadata": {},
   "source": [
    "* TODO: Refine the model contained in the pricing_model.py"
   ]
  },
  {
   "cell_type": "code",
   "execution_count": 101,
   "metadata": {},
   "outputs": [
    {
     "ename": "ModuleNotFoundError",
     "evalue": "No module named 'pricing_model'",
     "output_type": "error",
     "traceback": [
      "\u001b[1;31m---------------------------------------------------------------------------\u001b[0m",
      "\u001b[1;31mModuleNotFoundError\u001b[0m                       Traceback (most recent call last)",
      "Cell \u001b[1;32mIn[101], line 1\u001b[0m\n\u001b[1;32m----> 1\u001b[0m \u001b[38;5;28;01mfrom\u001b[39;00m \u001b[38;5;21;01mpricing_model\u001b[39;00m \u001b[38;5;28;01mimport\u001b[39;00m CNNLSTMModel, huber_loss_with_fft\n\u001b[0;32m      2\u001b[0m model \u001b[38;5;241m=\u001b[39m CNNLSTMModel(num_features\u001b[38;5;241m=\u001b[39m\u001b[38;5;241m10\u001b[39m, num_output_features\u001b[38;5;241m=\u001b[39m\u001b[38;5;241m1\u001b[39m)\n\u001b[0;32m      3\u001b[0m optimizer \u001b[38;5;241m=\u001b[39m torch\u001b[38;5;241m.\u001b[39moptim\u001b[38;5;241m.\u001b[39mAdam(model\u001b[38;5;241m.\u001b[39mparameters(), lr\u001b[38;5;241m=\u001b[39m\u001b[38;5;241m0.001\u001b[39m)\n",
      "\u001b[1;31mModuleNotFoundError\u001b[0m: No module named 'pricing_model'"
     ]
    }
   ],
   "source": [
    "\n",
    "from pricing_model import CNNLSTMModel, huber_loss_with_fft\n",
    "model = CNNLSTMModel(num_features=10, num_output_features=1)\n",
    "optimizer = torch.optim.Adam(model.parameters(), lr=0.001)\n",
    "num_epochs = 20\n",
    "# ex code\n",
    "for epoch in range(num_epochs):\n",
    "    for batch in train_loader:\n",
    "        x, y = batch  # Assuming x and y are prepared correctly\n",
    "        optimizer.zero_grad()\n",
    "        y_pred = model(x)\n",
    "        loss = huber_loss_with_fft(y, y_pred)\n",
    "        loss.backward()\n",
    "        optimizer.step()\n",
    "    print(f\"Epoch {epoch}, Loss: {loss.item()}\")"
   ]
  }
 ],
 "metadata": {
  "kernelspec": {
   "display_name": "base",
   "language": "python",
   "name": "python3"
  },
  "language_info": {
   "codemirror_mode": {
    "name": "ipython",
    "version": 3
   },
   "file_extension": ".py",
   "mimetype": "text/x-python",
   "name": "python",
   "nbconvert_exporter": "python",
   "pygments_lexer": "ipython3",
   "version": "3.11.5"
  }
 },
 "nbformat": 4,
 "nbformat_minor": 2
}
