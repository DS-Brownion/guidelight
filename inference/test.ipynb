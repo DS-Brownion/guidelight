{
 "cells": [
  {
   "cell_type": "code",
   "execution_count": 1,
   "metadata": {},
   "outputs": [],
   "source": [
    "from dotenv import load_dotenv\n",
    "from polygon import RESTClient\n",
    "from datetime import datetime,timezone\n",
    "import os"
   ]
  },
  {
   "cell_type": "code",
   "execution_count": 2,
   "metadata": {},
   "outputs": [],
   "source": [
    "import pandas as pd"
   ]
  },
  {
   "cell_type": "code",
   "execution_count": 8,
   "metadata": {},
   "outputs": [],
   "source": [
    "import numpy as np"
   ]
  },
  {
   "cell_type": "code",
   "execution_count": 3,
   "metadata": {},
   "outputs": [],
   "source": [
    "\n",
    "load_dotenv(\"../guidelight-api/.env\")\n",
    "token = os.getenv(\"POLYGON_TOKEN\")"
   ]
  },
  {
   "cell_type": "code",
   "execution_count": 4,
   "metadata": {},
   "outputs": [],
   "source": [
    "\n",
    "client = RESTClient(api_key=token)"
   ]
  },
  {
   "cell_type": "code",
   "execution_count": 5,
   "metadata": {},
   "outputs": [
    {
     "name": "stdout",
     "output_type": "stream",
     "text": [
      "926635\n"
     ]
    }
   ],
   "source": [
    "ticker = \"AAPL\"\n",
    "\n",
    "# List Aggregates (Bars)\n",
    "aggs = []\n",
    "for a in client.list_aggs(ticker=ticker, multiplier=1, timespan=\"minute\", from_=\"2019-01-01\", to=\"2023-12-30\", limit=50000):\n",
    "    aggs.append(a)\n",
    "\n",
    "print(len(aggs))\n",
    "\n"
   ]
  },
  {
   "cell_type": "code",
   "execution_count": 6,
   "metadata": {},
   "outputs": [
    {
     "data": {
      "text/plain": [
       "Agg(open=192.1505, high=192.1505, low=192.1501, close=192.1501, volume=2147, vwap=192.1512, timestamp=1703897940000, transactions=12, otc=None)"
      ]
     },
     "execution_count": 6,
     "metadata": {},
     "output_type": "execute_result"
    }
   ],
   "source": [
    "aggs[-1]"
   ]
  },
  {
   "cell_type": "code",
   "execution_count": 13,
   "metadata": {},
   "outputs": [
    {
     "data": {
      "text/html": [
       "<div>\n",
       "<style scoped>\n",
       "    .dataframe tbody tr th:only-of-type {\n",
       "        vertical-align: middle;\n",
       "    }\n",
       "\n",
       "    .dataframe tbody tr th {\n",
       "        vertical-align: top;\n",
       "    }\n",
       "\n",
       "    .dataframe thead th {\n",
       "        text-align: right;\n",
       "    }\n",
       "</style>\n",
       "<table border=\"1\" class=\"dataframe\">\n",
       "  <thead>\n",
       "    <tr style=\"text-align: right;\">\n",
       "      <th></th>\n",
       "      <th>day</th>\n",
       "      <th>timestamp</th>\n",
       "      <th>close</th>\n",
       "      <th>volume</th>\n",
       "      <th>low</th>\n",
       "      <th>high</th>\n",
       "    </tr>\n",
       "  </thead>\n",
       "  <tbody>\n",
       "    <tr>\n",
       "      <th>0</th>\n",
       "      <td>2019-04-04</td>\n",
       "      <td>2019-04-04, 08:00</td>\n",
       "      <td>48.9100</td>\n",
       "      <td>2900.0</td>\n",
       "      <td>48.9100</td>\n",
       "      <td>48.9100</td>\n",
       "    </tr>\n",
       "    <tr>\n",
       "      <th>1</th>\n",
       "      <td>2019-04-04</td>\n",
       "      <td>2019-04-04, 08:01</td>\n",
       "      <td>48.9100</td>\n",
       "      <td>8800.0</td>\n",
       "      <td>48.9100</td>\n",
       "      <td>48.9275</td>\n",
       "    </tr>\n",
       "    <tr>\n",
       "      <th>2</th>\n",
       "      <td>2019-04-04</td>\n",
       "      <td>2019-04-04, 08:06</td>\n",
       "      <td>48.9250</td>\n",
       "      <td>400.0</td>\n",
       "      <td>48.9250</td>\n",
       "      <td>48.9250</td>\n",
       "    </tr>\n",
       "    <tr>\n",
       "      <th>3</th>\n",
       "      <td>2019-04-04</td>\n",
       "      <td>2019-04-04, 08:15</td>\n",
       "      <td>48.9175</td>\n",
       "      <td>3292.0</td>\n",
       "      <td>48.9175</td>\n",
       "      <td>48.9175</td>\n",
       "    </tr>\n",
       "    <tr>\n",
       "      <th>4</th>\n",
       "      <td>2019-04-04</td>\n",
       "      <td>2019-04-04, 08:18</td>\n",
       "      <td>48.9125</td>\n",
       "      <td>708.0</td>\n",
       "      <td>48.9125</td>\n",
       "      <td>48.9125</td>\n",
       "    </tr>\n",
       "    <tr>\n",
       "      <th>...</th>\n",
       "      <td>...</td>\n",
       "      <td>...</td>\n",
       "      <td>...</td>\n",
       "      <td>...</td>\n",
       "      <td>...</td>\n",
       "      <td>...</td>\n",
       "    </tr>\n",
       "    <tr>\n",
       "      <th>926630</th>\n",
       "      <td>2023-12-30</td>\n",
       "      <td>2023-12-30, 00:55</td>\n",
       "      <td>192.2400</td>\n",
       "      <td>717.0</td>\n",
       "      <td>192.2400</td>\n",
       "      <td>192.2400</td>\n",
       "    </tr>\n",
       "    <tr>\n",
       "      <th>926631</th>\n",
       "      <td>2023-12-30</td>\n",
       "      <td>2023-12-30, 00:56</td>\n",
       "      <td>192.2300</td>\n",
       "      <td>532.0</td>\n",
       "      <td>192.2300</td>\n",
       "      <td>192.2300</td>\n",
       "    </tr>\n",
       "    <tr>\n",
       "      <th>926632</th>\n",
       "      <td>2023-12-30</td>\n",
       "      <td>2023-12-30, 00:57</td>\n",
       "      <td>192.2200</td>\n",
       "      <td>662.0</td>\n",
       "      <td>192.2200</td>\n",
       "      <td>192.2300</td>\n",
       "    </tr>\n",
       "    <tr>\n",
       "      <th>926633</th>\n",
       "      <td>2023-12-30</td>\n",
       "      <td>2023-12-30, 00:58</td>\n",
       "      <td>192.1000</td>\n",
       "      <td>2154.0</td>\n",
       "      <td>192.1000</td>\n",
       "      <td>192.2200</td>\n",
       "    </tr>\n",
       "    <tr>\n",
       "      <th>926634</th>\n",
       "      <td>2023-12-30</td>\n",
       "      <td>2023-12-30, 00:59</td>\n",
       "      <td>192.1501</td>\n",
       "      <td>2147.0</td>\n",
       "      <td>192.1501</td>\n",
       "      <td>192.1505</td>\n",
       "    </tr>\n",
       "  </tbody>\n",
       "</table>\n",
       "<p>926635 rows × 6 columns</p>\n",
       "</div>"
      ],
      "text/plain": [
       "               day          timestamp     close  volume       low      high\n",
       "0       2019-04-04  2019-04-04, 08:00   48.9100  2900.0   48.9100   48.9100\n",
       "1       2019-04-04  2019-04-04, 08:01   48.9100  8800.0   48.9100   48.9275\n",
       "2       2019-04-04  2019-04-04, 08:06   48.9250   400.0   48.9250   48.9250\n",
       "3       2019-04-04  2019-04-04, 08:15   48.9175  3292.0   48.9175   48.9175\n",
       "4       2019-04-04  2019-04-04, 08:18   48.9125   708.0   48.9125   48.9125\n",
       "...            ...                ...       ...     ...       ...       ...\n",
       "926630  2023-12-30  2023-12-30, 00:55  192.2400   717.0  192.2400  192.2400\n",
       "926631  2023-12-30  2023-12-30, 00:56  192.2300   532.0  192.2300  192.2300\n",
       "926632  2023-12-30  2023-12-30, 00:57  192.2200   662.0  192.2200  192.2300\n",
       "926633  2023-12-30  2023-12-30, 00:58  192.1000  2154.0  192.1000  192.2200\n",
       "926634  2023-12-30  2023-12-30, 00:59  192.1501  2147.0  192.1501  192.1505\n",
       "\n",
       "[926635 rows x 6 columns]"
      ]
     },
     "execution_count": 13,
     "metadata": {},
     "output_type": "execute_result"
    }
   ],
   "source": [
    "#unix millisecond timestamp to datetime\n",
    "# from pytz import timezone\n",
    "\n",
    "# Convert timestamp to datetime in UTC timezone\n",
    "def ts_to_dt(timestamp):\n",
    "    return datetime.fromtimestamp(timestamp/1000, tz=timezone.utc)\n",
    "\n",
    "timestamps = np.vectorize(ts_to_dt)\n",
    "\n",
    "# Example usage\n",
    "a = np.array([a.timestamp for a in aggs])\n",
    "times = timestamps(a)\n",
    "aapl_aggs = pd.DataFrame({\"day\": [time.strftime(\"%Y-%m-%d\") for time in times],\n",
    "                            \"timestamp\": [time.strftime(\"%Y-%m-%d, %H:%M\") for time in times],\n",
    "                           \"close\": [a.close for a in aggs], \n",
    "                           \"volume\": [a.volume for a in aggs],\n",
    "                           \"low\": [a.low for a in aggs],\n",
    "                           \"high\": [a.high for a in aggs]})\n",
    "\n"
   ]
  },
  {
   "cell_type": "code",
   "execution_count": 55,
   "metadata": {},
   "outputs": [],
   "source": [
    "from heston_param import *"
   ]
  },
  {
   "cell_type": "code",
   "execution_count": 17,
   "metadata": {},
   "outputs": [
    {
     "data": {
      "text/plain": [
       "<pandas.core.groupby.generic.DataFrameGroupBy object at 0x16f132a50>"
      ]
     },
     "execution_count": 17,
     "metadata": {},
     "output_type": "execute_result"
    }
   ],
   "source": [
    "aapl_aggs.groupby(\"day\")"
   ]
  },
  {
   "cell_type": "code",
   "execution_count": 42,
   "metadata": {},
   "outputs": [],
   "source": [
    "daily_aggs =  [aapl_aggs.groupby('day').get_group(x) for x in aapl_aggs['day'].unique()]"
   ]
  },
  {
   "cell_type": "code",
   "execution_count": 57,
   "metadata": {},
   "outputs": [
    {
     "name": "stdout",
     "output_type": "stream",
     "text": [
      "tensor([0.0004, 0.0004, 0.0005,  ..., 0.0003, 0.0003, 0.0002])\n"
     ]
    }
   ],
   "source": [
    "hist_voilatilities = torch.empty(len(daily_aggs))\n",
    "for i, day in enumerate(daily_aggs):\n",
    "\thist_voilatilities[i] = estimate_historical_volatility(day['close'].values)\n",
    "\n",
    "# calculate the historical volatility for each day\n",
    "\n",
    "\n",
    "\n",
    "# historical_volatility\n",
    "print(hist_voilatilities)"
   ]
  }
 ],
 "metadata": {
  "kernelspec": {
   "display_name": "guidelight-Popvxsqg",
   "language": "python",
   "name": "python3"
  },
  "language_info": {
   "codemirror_mode": {
    "name": "ipython",
    "version": 3
   },
   "file_extension": ".py",
   "mimetype": "text/x-python",
   "name": "python",
   "nbconvert_exporter": "python",
   "pygments_lexer": "ipython3",
   "version": "3.11.6"
  }
 },
 "nbformat": 4,
 "nbformat_minor": 2
}
