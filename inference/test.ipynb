{
 "cells": [
  {
   "cell_type": "code",
   "execution_count": 3,
   "metadata": {},
   "outputs": [],
   "source": [
    "from dotenv import load_dotenv\n",
    "from polygon import RESTClient\n",
    "from datetime import datetime,timezone\n",
    "import os"
   ]
  },
  {
   "cell_type": "code",
   "execution_count": 4,
   "metadata": {},
   "outputs": [],
   "source": [
    "import pandas as pd"
   ]
  },
  {
   "cell_type": "code",
   "execution_count": 5,
   "metadata": {},
   "outputs": [],
   "source": [
    "import numpy as np"
   ]
  },
  {
   "cell_type": "code",
   "execution_count": 6,
   "metadata": {},
   "outputs": [],
   "source": [
    "\n",
    "load_dotenv(\"../guidelight-api/.env\")\n",
    "token = os.getenv(\"POLYGON_TOKEN\")"
   ]
  },
  {
   "cell_type": "code",
   "execution_count": 7,
   "metadata": {},
   "outputs": [],
   "source": [
    "\n",
    "client = RESTClient(api_key=token)"
   ]
  },
  {
   "cell_type": "code",
   "execution_count": 8,
   "metadata": {},
   "outputs": [
    {
     "name": "stdout",
     "output_type": "stream",
     "text": [
      "393359\n"
     ]
    }
   ],
   "source": [
    "ticker = \"AAPL\"\n",
    "\n",
    "# List Aggregates (Bars)\n",
    "aggs = []\n",
    "for a in client.list_aggs(ticker=ticker, multiplier=1, timespan=\"minute\", from_=\"2022-01-01\", to=\"2023-12-30\", limit=50000):\n",
    "    aggs.append(a)\n",
    "\n",
    "print(len(aggs))\n",
    "\n"
   ]
  },
  {
   "cell_type": "code",
   "execution_count": 9,
   "metadata": {},
   "outputs": [
    {
     "data": {
      "text/plain": [
       "Agg(open=192.1505, high=192.1505, low=192.1501, close=192.1501, volume=2147, vwap=192.1512, timestamp=1703897940000, transactions=12, otc=None)"
      ]
     },
     "execution_count": 9,
     "metadata": {},
     "output_type": "execute_result"
    }
   ],
   "source": [
    "aggs[-1]"
   ]
  },
  {
   "cell_type": "code",
   "execution_count": 10,
   "metadata": {},
   "outputs": [],
   "source": [
    "#unix millisecond timestamp to datetime\n",
    "# from pytz import timezone\n",
    "\n",
    "# Convert timestamp to datetime in UTC timezone\n",
    "def ts_to_dt(timestamp):\n",
    "    return datetime.fromtimestamp(timestamp/1000, tz=timezone.utc)\n",
    "\n",
    "timestamps = np.vectorize(ts_to_dt)\n",
    "\n",
    "# Example usage\n",
    "a = np.array([a.timestamp for a in aggs])\n",
    "times = timestamps(a)\n",
    "aapl_aggs = pd.DataFrame({\"day\": [time.strftime(\"%Y-%m-%d\") for time in times],\n",
    "                            \"timestamp\": [time.strftime(\"%Y-%m-%d, %H:%M\") for time in times],\n",
    "                           \"close\": [a.close for a in aggs], \n",
    "                           \"volume\": [a.volume for a in aggs],\n",
    "                           \"low\": [a.low for a in aggs],\n",
    "                           \"high\": [a.high for a in aggs]})\n",
    "\n"
   ]
  },
  {
   "cell_type": "code",
   "execution_count": 11,
   "metadata": {},
   "outputs": [],
   "source": [
    "from heston_param import *"
   ]
  },
  {
   "cell_type": "code",
   "execution_count": 12,
   "metadata": {},
   "outputs": [
    {
     "data": {
      "text/plain": [
       "<pandas.core.groupby.generic.DataFrameGroupBy object at 0x14631e810>"
      ]
     },
     "execution_count": 12,
     "metadata": {},
     "output_type": "execute_result"
    }
   ],
   "source": [
    "aapl_aggs.groupby(\"day\")"
   ]
  },
  {
   "cell_type": "code",
   "execution_count": 13,
   "metadata": {},
   "outputs": [],
   "source": [
    "daily_aggs =  [aapl_aggs.groupby('day').get_group(x) for x in aapl_aggs['day'].unique()]"
   ]
  },
  {
   "cell_type": "code",
   "execution_count": 14,
   "metadata": {},
   "outputs": [],
   "source": [
    "hist_voilatilities = torch.empty(len(daily_aggs))\n",
    "for i, day in enumerate(daily_aggs):\n",
    "\thist_voilatilities[i] = estimate_historical_volatility(day['close'].values)\n",
    "\n",
    "# calculate the historical volatility for each day\n",
    "\n",
    "\n",
    "\n"
   ]
  },
  {
   "cell_type": "code",
   "execution_count": 1,
   "metadata": {},
   "outputs": [],
   "source": [
    "import pickle\n",
    "from heston_param import *\n",
    "hist_voilatilities = pickle.load(open(\"hist_voilatilities.pkl\", \"rb\"))\n",
    "daily_aggs = pickle.load(open(\"daily_aggs.pkl\", \"rb\"))"
   ]
  },
  {
   "cell_type": "code",
   "execution_count": 2,
   "metadata": {},
   "outputs": [
    {
     "name": "stdout",
     "output_type": "stream",
     "text": [
      "tensor([ 0.1798,  0.1025,  0.7553, -0.0219,  0.4685], dtype=torch.float64)\n"
     ]
    }
   ],
   "source": [
    "print(calibrate_daily_parameters(hist_voilatilities[0], 0.1, daily_aggs[0][\"close\"].values, 0.0237, daily_aggs[0][\"close\"].values.shape[0], 50))"
   ]
  },
  {
   "cell_type": "code",
   "execution_count": 3,
   "metadata": {},
   "outputs": [
    {
     "name": "stdout",
     "output_type": "stream",
     "text": [
      "tensor([3.4741, 0.2184, 0.6046, 0.8979, 0.2477], dtype=torch.float64)\n"
     ]
    }
   ],
   "source": [
    "while True:\n",
    "\ttry:\n",
    "\t\tprint(calibrate_daily_parameters(hist_voilatilities[0], 0.1, daily_aggs[0][\"close\"].values, 0.0237, daily_aggs[0][\"close\"].values.shape[0], 50))\n",
    "\t\tbreak\n",
    "\texcept RuntimeError:\n",
    "\t\tcontinue"
   ]
  },
  {
   "cell_type": "code",
   "execution_count": null,
   "metadata": {},
   "outputs": [],
   "source": [
    "def single_day_calibration(args):\n",
    "\t\ti, day = args\n",
    "\t\twhile True:\n",
    "\t\t\ttry:\n",
    "\t\t\t\tparams = calibrate_daily_parameters(hist_volatilities[i], 0.1, day[\"close\"].values, 0.0237, day[\"close\"].values.shape[0], 300)\n",
    "\t\t\t\t\n",
    "\t\t\t\treturn i, params\n",
    "\t\t\texcept RuntimeError:\n",
    "\t\t\t\tcontinue"
   ]
  },
  {
   "cell_type": "code",
   "execution_count": 8,
   "metadata": {},
   "outputs": [
    {
     "data": {
      "text/plain": [
       "1273"
      ]
     },
     "execution_count": 8,
     "metadata": {},
     "output_type": "execute_result"
    }
   ],
   "source": [
    "len(daily_aggs)"
   ]
  },
  {
   "cell_type": "code",
   "execution_count": 6,
   "metadata": {},
   "outputs": [
    {
     "name": "stdout",
     "output_type": "stream",
     "text": [
      "1.82% completed.\n",
      "2.42% completed.\n"
     ]
    },
    {
     "data": {
      "text/plain": [
       "array([[ 7.97825366e+000,  2.72294350e-002,  9.72123831e-001,\n",
       "         5.28063392e-001,  8.81649295e-001],\n",
       "       [ 4.26833676e+000,  4.63777140e-001,  9.20422583e-001,\n",
       "        -3.24032695e-002,  3.25410263e-002],\n",
       "       [ 2.76040058e+000,  3.63141695e-001,  3.23396977e-001,\n",
       "        -8.56510357e-001,  2.62603938e-001],\n",
       "       ...,\n",
       "       [ 9.72245510e-067,  4.42132206e-062,  1.05249949e-153,\n",
       "         3.86045603e-224,  5.58166871e-091],\n",
       "       [ 9.72245510e-067,  4.42132206e-062,  1.05249949e-153,\n",
       "         3.86046015e-224,  5.58166871e-091],\n",
       "       [ 9.72245510e-067,  4.42132206e-062,  1.05249949e-153,\n",
       "         3.86046427e-224,  5.58166871e-091]])"
      ]
     },
     "execution_count": 6,
     "metadata": {},
     "output_type": "execute_result"
    }
   ],
   "source": [
    "daily_params = np.empty((len(daily_aggs), 5))\n",
    "for i, day in enumerate((daily_aggs[:20])):\n",
    "\twhile True:\n",
    "\t\ttry:\n",
    "\t\t\tdaily_params[i] = calibrate_daily_parameters(hist_voilatilities[i], 0.1, daily_aggs[i][\"close\"].values, 0.0237, daily_aggs[i][\"close\"].values.shape[0], 50)\n",
    "\t\t\tif (i + 1) % 10 == 0:\n",
    "\t\t\t\t\trate =  100 *  np.round((i + 1) /day[\"close\"].values.shape[0], 2)\n",
    "\t\t\t\t\tprint(f\"{rate}% completed.\")\n",
    "\t\t\t\n",
    "\t\t\tbreak\n",
    "\t\texcept RuntimeError:\n",
    "\t\t\tcontinue\n",
    "\n",
    "daily_params"
   ]
  }
 ],
 "metadata": {
  "kernelspec": {
   "display_name": "guidelight-Popvxsqg",
   "language": "python",
   "name": "python3"
  },
  "language_info": {
   "codemirror_mode": {
    "name": "ipython",
    "version": 3
   },
   "file_extension": ".py",
   "mimetype": "text/x-python",
   "name": "python",
   "nbconvert_exporter": "python",
   "pygments_lexer": "ipython3",
   "version": "3.11.6"
  }
 },
 "nbformat": 4,
 "nbformat_minor": 2
}
