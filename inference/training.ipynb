{
 "cells": [
  {
   "cell_type": "code",
   "execution_count": 34,
   "metadata": {},
   "outputs": [],
   "source": [
    "from dotenv import load_dotenv\n",
    "import pandas as pd\n",
    "import numpy as np\n",
    "from polygon import RESTClient\n",
    "from datetime import datetime, timedelta\n",
    "import pandas_market_calendars as mcal\n",
    "import polygon\n",
    "import os, pickle\n",
    "from scipy.optimize import minimize"
   ]
  },
  {
   "cell_type": "code",
   "execution_count": 5,
   "metadata": {},
   "outputs": [],
   "source": [
    "datetime_diff = lambda date1, date2 : (datetime.strptime(date1, '%Y-%m-%d') - datetime.strptime(date2, '%Y-%m-%d')).days"
   ]
  },
  {
   "cell_type": "markdown",
   "metadata": {},
   "source": [
    "### Data Collection"
   ]
  },
  {
   "cell_type": "code",
   "execution_count": 6,
   "metadata": {},
   "outputs": [],
   "source": [
    "load_dotenv(\"/Users/brad/mlprojects/guidelight/guidelight-api/.env\")\n",
    "token = os.getenv(\"POLYGON_TOKEN\")"
   ]
  },
  {
   "cell_type": "code",
   "execution_count": 7,
   "metadata": {},
   "outputs": [],
   "source": [
    "client = RESTClient(api_key=token)"
   ]
  },
  {
   "cell_type": "code",
   "execution_count": 8,
   "metadata": {},
   "outputs": [],
   "source": [
    "import pickle\n",
    "# pickle.dump(data, open(\"options_data/AAPL-2023-03-27.pkl\", \"wb\"))\n",
    "if not os.path.exists(\"all_contracts.pkl\"):\n",
    "\treqs = client.list_options_contracts(\"AAPL\",as_of=\"2024-04-16\", expired=True, expiration_date_gt=\"2023-04-16\")\n",
    "\tall_contracts = list(reqs)\n",
    "\tpickle.dump(all_contracts, open(\"all_contracts.pkl\", \"wb\"))\n",
    "else:\n",
    "\tall_contracts = pickle.load(open(\"all_contracts.pkl\", \"rb\"))"
   ]
  },
  {
   "cell_type": "code",
   "execution_count": 9,
   "metadata": {},
   "outputs": [
    {
     "data": {
      "text/plain": [
       "6164"
      ]
     },
     "execution_count": 9,
     "metadata": {},
     "output_type": "execute_result"
    }
   ],
   "source": [
    "len(all_contracts)"
   ]
  },
  {
   "cell_type": "code",
   "execution_count": 10,
   "metadata": {},
   "outputs": [],
   "source": [
    "import pandas as pd\n",
    "\n",
    "# data = {\n",
    "#     ('AAPL_2207C00500000', '2023-07-21'): [\n",
    "#         {'trading_date': '2023-07-01', 'strike': 500, 'open': 15.5, 'high': 16.0, 'low': 15.0, 'close': 15.75, 'volume': 300},\n",
    "#         {'trading_date': '2023-07-02', 'strike': 500, 'open': 15.6, 'high': 17.0, 'low': 15.2, 'close': 16.50, 'volume': 350}\n",
    "#     ],\n",
    "#     ('MSFT_2207P00250000', '2023-07-21'): [\n",
    "#         {'trading_date': '2023-07-01', 'strike': 250, 'open': 8.5, 'high': 9.0, 'low': 8.0, 'close': 8.75, 'volume': 200},\n",
    "#         {'trading_date': '2023-07-02', 'strike': 250, 'open': 8.6, 'high': 10.0, 'low': 8.1, 'close': 9.75, 'volume': 250}\n",
    "#     ]\n",
    "# }\n",
    "if not os.path.exists(\"data.pkl\"):\n",
    "    indices = [(contract.ticker, contract.expiration_date, contract.strike_price) for contract in all_contracts]\n",
    "    data = {}\n",
    "    for index in indices:\n",
    "        ticker, expiration_date, strike_price = index\n",
    "        current_date = datetime.strptime(expiration_date, \"%Y-%m-%d\")\n",
    "        past_date = current_date - timedelta(days=14)\n",
    "\n",
    "        # get key value data for each agg\n",
    "\n",
    "        a = [vars(agg) for agg in client.get_aggs(ticker, 1, 'day', past_date, current_date)]\n",
    "        data[index] = a\n",
    "\n",
    "\n",
    "    pickle.dump(data, open(\"data.pkl\", \"wb\"))\n",
    "\n",
    "else:\n",
    "    data = pickle.load(open(\"data.pkl\", \"rb\"))"
   ]
  },
  {
   "cell_type": "code",
   "execution_count": 134,
   "metadata": {},
   "outputs": [],
   "source": [
    "\n",
    "# dataset = pd.DataFrame(columns=['Weight', 'price', 'maturity', 'S'])\n",
    "# dataset['Weight'] = df['volume'] / df.volume.sum()\n",
    "# dataset['price']  = df['price']\n",
    "# dataset['maturity'] = df['maturity']\n",
    "# dataset['S']        = df['strike_price']\n",
    "# dataset['time_from_last_trade'] = -df['days since last trade']\n",
    "# dataset"
   ]
  },
  {
   "cell_type": "code",
   "execution_count": 11,
   "metadata": {},
   "outputs": [],
   "source": [
    "# Flatten the data while preserving the option ticker and expiration date\n",
    "flattened_data = []\n",
    "for (ticker, expiration, strike_price), entries in data.items():\n",
    "    for entry in entries:\n",
    "        entry.update({\n",
    "            \"ticker\": ticker,\n",
    "            \"expiration_date\": expiration,\n",
    "            \"strike_price\": strike_price\n",
    "        })\n",
    "        flattened_data.append(entry)\n",
    "\n",
    "# Create a DataFrame\n",
    "df = pd.DataFrame(flattened_data)\n",
    "\n",
    "# Set a MultiIndex using the ticker, expiration date, and trading date\n",
    "df.set_index(['ticker', \"strike_price\", 'expiration_date'], inplace=True)\n",
    "\n",
    "# get by ticker\n",
    "# 1681099200000\n",
    "df['timestamp'] = pd.to_datetime(df['timestamp'], unit='ms').dt.strftime(\"%Y-%m-%d\")\n",
    "# df.index = df.index.set_levels(pd.to_datetime(df.index.get_level_values('timestamp'), unit='ms').strftime('%Y-%m-%d %H:%M:%S'), level='timestamp')"
   ]
  },
  {
   "cell_type": "code",
   "execution_count": 12,
   "metadata": {},
   "outputs": [],
   "source": [
    "df.to_csv(\"options_data-aapl.csv\", index_label=['ticker', \"strike_price\", 'expiration_date'])"
   ]
  },
  {
   "cell_type": "code",
   "execution_count": 13,
   "metadata": {},
   "outputs": [
    {
     "data": {
      "text/plain": [
       "9"
      ]
     },
     "execution_count": 13,
     "metadata": {},
     "output_type": "execute_result"
    }
   ],
   "source": [
    "df2 = pd.read_csv('options_data-aapl.csv', index_col=[0, 1, 2])\n",
    "# get only the tickers traded on 2023-04-10\n",
    "# df2.groupby('timestamp').filter(lambda x: x['timestamp']== '2023-04-10')\n",
    "# get the level values\n",
    "\n",
    "agg_series= df.loc[('O:AAPL230421C00050000', slice(None), slice(None))]\n",
    "target_timestamp = '2023-04-19'\n",
    "\n",
    "# Create a boolean mask for rows where the timestamp matches the target\n",
    "i = np.where(agg_series['timestamp'].values == target_timestamp)[0][0]\n",
    "# agg_series\n",
    "diff = datetime_diff(agg_series['timestamp'].iloc[i], agg_series['timestamp'].iloc[i-1])\n",
    "diff"
   ]
  },
  {
   "cell_type": "code",
   "execution_count": 24,
   "metadata": {},
   "outputs": [],
   "source": [
    "def daily_option_data(underlying_ticker:str, date:str):\n",
    "\t# client = RESTClient(api_key=token)\n",
    "\tif os.path.exists(f\"options_data/{underlying_ticker}-{date}.csv\"):\n",
    "\t\treturn pd.read_csv(f\"options_data/{underlying_ticker}-{date}.csv\")\n",
    "\n",
    "\tdf = pd.read_csv(f'options_data-{underlying_ticker}.csv', index_col=[0, 1, 2])\n",
    "\toption_contracts = df.loc[df['timestamp'] == date]\n",
    "\toption_contracts.reset_index(inplace=True)\n",
    "\t# print(option_contracts)\n",
    "\tcolnames = [\"ticker\", \"maturity\", \"Weight\", 'price', 'days since last trade', 'strike', 'S']\n",
    "\tvolsurface = pd.DataFrame(columns=colnames)\n",
    "\n",
    "\tfor ticker in option_contracts['ticker'].unique():\n",
    "\t\tagg_series= df.loc[(ticker, slice(None), slice(None))]\n",
    "\t\ti = np.where(agg_series['timestamp'].values == date)[0][0]\n",
    "\t# agg_series\n",
    "\t\tif i <= 0:\n",
    "\t\t\tcontinue\n",
    "\n",
    "\t\tdiff = datetime_diff(agg_series['timestamp'].iloc[i], agg_series['timestamp'].iloc[i-1])\n",
    "\t\tif diff <= 3:\n",
    "\t\t\texpiration_date = agg_series.index.get_level_values(1).unique()[0]\n",
    "\t\t\trow = pd.DataFrame({\n",
    "\t\t\t\t'ticker': ticker,\n",
    "\t\t\t\t'maturity': datetime_diff(expiration_date, date) / 365,\n",
    "\t\t\t\t'price': agg_series[\"vwap\"].values[i],\n",
    "\t\t\t\t'Weight': agg_series[\"volume\"].values[i] / agg_series[\"volume\"].sum(),\n",
    "\t\t\t\t'days since last trade': diff,\n",
    "\t\t\t\t'strike': agg_series.index.get_level_values(0).unique()[0],\n",
    "\t\t\t\t'S': agg_series['open'].values[i]\n",
    "\t\t\t}, columns=colnames, index=[0])\n",
    "\n",
    "\t\t\tvolsurface = pd.concat([volsurface, row], ignore_index=True)\n",
    "\t\t\t\n",
    "\n",
    "\t\n",
    "\tvolsurface.to_csv( os.path.join(os.getcwd(), f\"options_data/{underlying_ticker}-{date}.csv\"))\n",
    "\treturn volsurface"
   ]
  },
  {
   "cell_type": "code",
   "execution_count": 25,
   "metadata": {},
   "outputs": [],
   "source": [
    "cleaned = daily_option_data(\"AAPL\", \"2023-04-18\")"
   ]
  },
  {
   "cell_type": "code",
   "execution_count": 26,
   "metadata": {},
   "outputs": [
    {
     "data": {
      "text/html": [
       "<div>\n",
       "<style scoped>\n",
       "    .dataframe tbody tr th:only-of-type {\n",
       "        vertical-align: middle;\n",
       "    }\n",
       "\n",
       "    .dataframe tbody tr th {\n",
       "        vertical-align: top;\n",
       "    }\n",
       "\n",
       "    .dataframe thead th {\n",
       "        text-align: right;\n",
       "    }\n",
       "</style>\n",
       "<table border=\"1\" class=\"dataframe\">\n",
       "  <thead>\n",
       "    <tr style=\"text-align: right;\">\n",
       "      <th></th>\n",
       "      <th>Unnamed: 0</th>\n",
       "      <th>ticker</th>\n",
       "      <th>maturity</th>\n",
       "      <th>Weight</th>\n",
       "      <th>price</th>\n",
       "      <th>days since last trade</th>\n",
       "      <th>strike</th>\n",
       "      <th>S</th>\n",
       "    </tr>\n",
       "  </thead>\n",
       "  <tbody>\n",
       "    <tr>\n",
       "      <th>0</th>\n",
       "      <td>0</td>\n",
       "      <td>O:AAPL230421C00100000</td>\n",
       "      <td>0.008219</td>\n",
       "      <td>0.012232</td>\n",
       "      <td>66.7050</td>\n",
       "      <td>1</td>\n",
       "      <td>100.0</td>\n",
       "      <td>67.00</td>\n",
       "    </tr>\n",
       "    <tr>\n",
       "      <th>1</th>\n",
       "      <td>1</td>\n",
       "      <td>O:AAPL230421C00115000</td>\n",
       "      <td>0.008219</td>\n",
       "      <td>0.217021</td>\n",
       "      <td>51.6200</td>\n",
       "      <td>1</td>\n",
       "      <td>115.0</td>\n",
       "      <td>51.62</td>\n",
       "    </tr>\n",
       "    <tr>\n",
       "      <th>2</th>\n",
       "      <td>2</td>\n",
       "      <td>O:AAPL230421C00120000</td>\n",
       "      <td>0.008219</td>\n",
       "      <td>0.011641</td>\n",
       "      <td>46.5000</td>\n",
       "      <td>1</td>\n",
       "      <td>120.0</td>\n",
       "      <td>46.50</td>\n",
       "    </tr>\n",
       "    <tr>\n",
       "      <th>3</th>\n",
       "      <td>3</td>\n",
       "      <td>O:AAPL230421C00125000</td>\n",
       "      <td>0.008219</td>\n",
       "      <td>0.094000</td>\n",
       "      <td>41.2028</td>\n",
       "      <td>1</td>\n",
       "      <td>125.0</td>\n",
       "      <td>41.35</td>\n",
       "    </tr>\n",
       "    <tr>\n",
       "      <th>4</th>\n",
       "      <td>4</td>\n",
       "      <td>O:AAPL230421C00130000</td>\n",
       "      <td>0.008219</td>\n",
       "      <td>0.061602</td>\n",
       "      <td>36.0035</td>\n",
       "      <td>1</td>\n",
       "      <td>130.0</td>\n",
       "      <td>35.37</td>\n",
       "    </tr>\n",
       "    <tr>\n",
       "      <th>...</th>\n",
       "      <td>...</td>\n",
       "      <td>...</td>\n",
       "      <td>...</td>\n",
       "      <td>...</td>\n",
       "      <td>...</td>\n",
       "      <td>...</td>\n",
       "      <td>...</td>\n",
       "      <td>...</td>\n",
       "    </tr>\n",
       "    <tr>\n",
       "      <th>110</th>\n",
       "      <td>110</td>\n",
       "      <td>O:AAPL230428P00170000</td>\n",
       "      <td>0.027397</td>\n",
       "      <td>0.042426</td>\n",
       "      <td>4.3512</td>\n",
       "      <td>1</td>\n",
       "      <td>170.0</td>\n",
       "      <td>4.70</td>\n",
       "    </tr>\n",
       "    <tr>\n",
       "      <th>111</th>\n",
       "      <td>111</td>\n",
       "      <td>O:AAPL230428P00172500</td>\n",
       "      <td>0.027397</td>\n",
       "      <td>0.026523</td>\n",
       "      <td>6.2053</td>\n",
       "      <td>1</td>\n",
       "      <td>172.5</td>\n",
       "      <td>5.85</td>\n",
       "    </tr>\n",
       "    <tr>\n",
       "      <th>112</th>\n",
       "      <td>112</td>\n",
       "      <td>O:AAPL230428P00175000</td>\n",
       "      <td>0.027397</td>\n",
       "      <td>0.002534</td>\n",
       "      <td>8.2420</td>\n",
       "      <td>1</td>\n",
       "      <td>175.0</td>\n",
       "      <td>8.00</td>\n",
       "    </tr>\n",
       "    <tr>\n",
       "      <th>113</th>\n",
       "      <td>113</td>\n",
       "      <td>O:AAPL230428P00177500</td>\n",
       "      <td>0.027397</td>\n",
       "      <td>0.010563</td>\n",
       "      <td>12.2000</td>\n",
       "      <td>1</td>\n",
       "      <td>177.5</td>\n",
       "      <td>12.55</td>\n",
       "    </tr>\n",
       "    <tr>\n",
       "      <th>114</th>\n",
       "      <td>114</td>\n",
       "      <td>O:AAPL230428P00180000</td>\n",
       "      <td>0.027397</td>\n",
       "      <td>0.018182</td>\n",
       "      <td>13.3650</td>\n",
       "      <td>1</td>\n",
       "      <td>180.0</td>\n",
       "      <td>13.83</td>\n",
       "    </tr>\n",
       "  </tbody>\n",
       "</table>\n",
       "<p>115 rows × 8 columns</p>\n",
       "</div>"
      ],
      "text/plain": [
       "     Unnamed: 0                 ticker  maturity    Weight    price  \\\n",
       "0             0  O:AAPL230421C00100000  0.008219  0.012232  66.7050   \n",
       "1             1  O:AAPL230421C00115000  0.008219  0.217021  51.6200   \n",
       "2             2  O:AAPL230421C00120000  0.008219  0.011641  46.5000   \n",
       "3             3  O:AAPL230421C00125000  0.008219  0.094000  41.2028   \n",
       "4             4  O:AAPL230421C00130000  0.008219  0.061602  36.0035   \n",
       "..          ...                    ...       ...       ...      ...   \n",
       "110         110  O:AAPL230428P00170000  0.027397  0.042426   4.3512   \n",
       "111         111  O:AAPL230428P00172500  0.027397  0.026523   6.2053   \n",
       "112         112  O:AAPL230428P00175000  0.027397  0.002534   8.2420   \n",
       "113         113  O:AAPL230428P00177500  0.027397  0.010563  12.2000   \n",
       "114         114  O:AAPL230428P00180000  0.027397  0.018182  13.3650   \n",
       "\n",
       "     days since last trade  strike      S  \n",
       "0                        1   100.0  67.00  \n",
       "1                        1   115.0  51.62  \n",
       "2                        1   120.0  46.50  \n",
       "3                        1   125.0  41.35  \n",
       "4                        1   130.0  35.37  \n",
       "..                     ...     ...    ...  \n",
       "110                      1   170.0   4.70  \n",
       "111                      1   172.5   5.85  \n",
       "112                      1   175.0   8.00  \n",
       "113                      1   177.5  12.55  \n",
       "114                      1   180.0  13.83  \n",
       "\n",
       "[115 rows x 8 columns]"
      ]
     },
     "execution_count": 26,
     "metadata": {},
     "output_type": "execute_result"
    }
   ],
   "source": [
    "cleaned"
   ]
  },
  {
   "cell_type": "markdown",
   "metadata": {},
   "source": [
    "# Multiprocessing "
   ]
  },
  {
   "cell_type": "code",
   "execution_count": 16,
   "metadata": {},
   "outputs": [],
   "source": [
    "import pandas as pd\n",
    "from multiprocessing import Pool\n",
    "import os\n",
    "\n",
    "def worker(date, underlying_ticker, contract_type):\n",
    "    load_dotenv(\"/Users/brad/mlprojects/guidelight/guidelight-api/.env\")\n",
    "    token = os.getenv(\"POLYGON_TOKEN\")\n",
    "    return daily_option_data(underlying_ticker)\n",
    "\n",
    "\n",
    "def process_multiple_days(underlying_ticker, start_date, end_date):\n",
    "    # Generate list of dates\n",
    "    dates = mcal.get_calendar(\"NYSE\").valid_days(start_date=start_date, end_date=end_date)\n",
    "    \n",
    "    # Define a helper to wrap your existing function for use with starmap\n",
    "    \n",
    "\n",
    "    # Setup multiprocessing pool\n",
    "    with Pool() as pool:\n",
    "        pool.starmap(worker, [(date, underlying_ticker) for date in dates])\n",
    "\n",
    "    print(\"Data processing complete for all specified dates.\")\n",
    "\n",
    "\n",
    "\n",
    "\n",
    "# process_multiple_days('AAPL', '2023-04-17', '2024-04-16')"
   ]
  },
  {
   "cell_type": "code",
   "execution_count": 41,
   "metadata": {},
   "outputs": [
    {
     "name": "stdout",
     "output_type": "stream",
     "text": [
      "03/27/2023\n"
     ]
    },
    {
     "data": {
      "text/plain": [
       "array([4.22, 4.47, 4.91, 4.9 , 4.86, 4.51, 3.94, 3.79, 3.59, 3.57, 3.53,\n",
       "       3.9 , 3.77])"
      ]
     },
     "execution_count": 41,
     "metadata": {},
     "output_type": "execute_result"
    }
   ],
   "source": [
    "yield_rates = pd.read_csv(\"five-year-rates.csv\")\n",
    "d = datetime.strftime(datetime.strptime(\"2023-03-27\", \"%Y-%m-%d\"), \"%m/%d/%Y\")\n",
    "yields = yield_rates.loc[yield_rates[\"Date\"]==d].values[:,1:].astype(np.float64).reshape(-1)\n",
    "yields\n",
    "# "
   ]
  },
  {
   "cell_type": "code",
   "execution_count": 147,
   "metadata": {},
   "outputs": [
    {
     "ename": "NameError",
     "evalue": "name 'aapl_aggs' is not defined",
     "output_type": "error",
     "traceback": [
      "\u001b[0;31m---------------------------------------------------------------------------\u001b[0m",
      "\u001b[0;31mNameError\u001b[0m                                 Traceback (most recent call last)",
      "Cell \u001b[0;32mIn[147], line 1\u001b[0m\n\u001b[0;32m----> 1\u001b[0m \u001b[43maapl_aggs\u001b[49m\u001b[38;5;241m.\u001b[39mgroupby(\u001b[38;5;124m\"\u001b[39m\u001b[38;5;124mday\u001b[39m\u001b[38;5;124m\"\u001b[39m)\n",
      "\u001b[0;31mNameError\u001b[0m: name 'aapl_aggs' is not defined"
     ]
    }
   ],
   "source": [
    "aapl_aggs.groupby(\"day\")"
   ]
  },
  {
   "cell_type": "code",
   "execution_count": null,
   "metadata": {},
   "outputs": [],
   "source": [
    "daily_aggs =  [aapl_aggs.groupby('day').get_group(x) for x in aapl_aggs['day'].unique()]"
   ]
  },
  {
   "cell_type": "code",
   "execution_count": null,
   "metadata": {},
   "outputs": [],
   "source": [
    "hist_voilatilities = torch.empty(len(daily_aggs))\n",
    "for i, day in enumerate(daily_aggs):\n",
    "\thist_voilatilities[i] = estimate_historical_volatility(day['close'].values)\n",
    "\n",
    "# calculate the historical volatility for each day\n",
    "\n",
    "\n",
    "\n"
   ]
  },
  {
   "cell_type": "code",
   "execution_count": null,
   "metadata": {},
   "outputs": [],
   "source": [
    "import pickle\n",
    "from heston_param import *\n",
    "hist_voilatilities = pickle.load(open(\"hist_voilatilities.pkl\", \"rb\"))\n",
    "daily_aggs = pickle.load(open(\"daily_aggs.pkl\", \"rb\"))"
   ]
  },
  {
   "cell_type": "code",
   "execution_count": null,
   "metadata": {},
   "outputs": [],
   "source": [
    "while True:\n",
    "\ttry:\n",
    "\t\tprint(calibrate_daily_parameters(hist_voilatilities[0], 0.1, daily_aggs[0][\"close\"].values, 0.0237, daily_aggs[0][\"close\"].values.shape[0], 50))\n",
    "\t\tbreak\n",
    "\texcept RuntimeError:\n",
    "\t\tcontinue"
   ]
  },
  {
   "cell_type": "code",
   "execution_count": null,
   "metadata": {},
   "outputs": [],
   "source": [
    "def single_day_calibration(args):\n",
    "\t\ti, hist_volatilities, daily_agg = args\n",
    "\t\twhile True:\n",
    "\t\t\ttry:\n",
    "\t\t\t\tparams = calibrate_daily_parameters(hist_volatilities[i], 0.1, day[\"close\"].values, 0.0237, day[\"close\"].values.shape[0], 300)\n",
    "\t\t\t\t\n",
    "\t\t\t\treturn i, params\n",
    "\t\t\texcept RuntimeError:\n",
    "\t\t\t\tcontinue"
   ]
  },
  {
   "cell_type": "code",
   "execution_count": null,
   "metadata": {},
   "outputs": [],
   "source": [
    "len(daily_aggs)"
   ]
  },
  {
   "cell_type": "markdown",
   "metadata": {},
   "source": [
    "### Naive Monte Carlo:\n",
    "Runtime: 1.15 Hour. Suboptimal."
   ]
  },
  {
   "cell_type": "code",
   "execution_count": null,
   "metadata": {},
   "outputs": [],
   "source": [
    "daily_params = np.empty((len(daily_aggs), 5))\n",
    "for i, day in enumerate((daily_aggs[:20])):\n",
    "\twhile True:\n",
    "\t\ttry:\n",
    "\t\t\tdaily_params[i] = calibrate_daily_parameters(hist_voilatilities[i], 0.1, daily_aggs[i][\"close\"].values, 0.0237, daily_aggs[i][\"close\"].values.shape[0], 50)\n",
    "\t\t\tif (i + 1) % 10 == 0:\n",
    "\t\t\t\t\trate =  100 *  np.round((i + 1) /len(daily_params[:20]), 2)\n",
    "\t\t\t\t\tprint(f\"{rate}% completed.\")\n",
    "\t\t\t\n",
    "\t\t\tbreak\n",
    "\t\texcept RuntimeError:\n",
    "\t\t\tcontinue\n",
    "\n"
   ]
  },
  {
   "cell_type": "code",
   "execution_count": null,
   "metadata": {},
   "outputs": [],
   "source": [
    "def calibrate_worker(args):\n",
    "\tsingle_day_calibration(args)"
   ]
  },
  {
   "cell_type": "code",
   "execution_count": null,
   "metadata": {},
   "outputs": [],
   "source": [
    "daily_params = pickle.load(open(\"parameters.pkl\", \"rb\"))"
   ]
  },
  {
   "cell_type": "code",
   "execution_count": null,
   "metadata": {},
   "outputs": [],
   "source": [
    "# runtime is 1.5 hours\n",
    "daily_params.shape"
   ]
  },
  {
   "cell_type": "code",
   "execution_count": null,
   "metadata": {},
   "outputs": [],
   "source": [
    "from multiprocess import Pool\n",
    "\n",
    "def calibrate_parameters_multiprocessing(daily_aggs, hist_volatilities):\n",
    "    # Prepare arguments for each task\n",
    "    tasks = [(i, hist_volatilities[i], daily_aggs[i]) for i in range(len(daily_aggs))]\n",
    "\n",
    "    # Number of processes, could be set to the number of CPUs or cores\n",
    "    num_processes = 4\n",
    "\n",
    "    # Create a multiprocessing pool and map tasks to worker function\n",
    "    with Pool(processes=num_processes) as pool:\n",
    "        results = pool.map(calibrate_worker, tasks)\n",
    "\n",
    "    # Process results\n",
    "    daily_params = np.empty((len(daily_aggs[:20]), 5))\n",
    "    for index, params in results:\n",
    "        if params is not None:\n",
    "            daily_params[index] = params\n",
    "        else:\n",
    "            print(f\"Calibration failed for index {index}\")\n",
    "\n",
    "    return daily_params\n",
    "\n"
   ]
  },
  {
   "cell_type": "code",
   "execution_count": null,
   "metadata": {},
   "outputs": [],
   "source": [
    "calibrate_parameters_multiprocessing(daily_aggs[:20], hist_voilatilities[:20])"
   ]
  },
  {
   "cell_type": "markdown",
   "metadata": {},
   "source": [
    "###  Simulation using FFT for the characteristic equations"
   ]
  },
  {
   "cell_type": "markdown",
   "metadata": {},
   "source": [
    "https://medium.com/@alexander.tsoskounoglou/pricing-options-with-fourier-series-p3-the-heston-model-d157369a217a"
   ]
  },
  {
   "cell_type": "code",
   "execution_count": 148,
   "metadata": {},
   "outputs": [],
   "source": [
    "def heston_char(u, params):\n",
    "    kappa, theta, zeta, rho, v0, r, q, T, S0 = params \n",
    "    t0 = 0.0 ;  q = 0.0\n",
    "    m = np.log(S0) + (r - q)*(T-t0)\n",
    "    D = np.sqrt((rho*zeta*1j*u - kappa)**2 + zeta**2*(1j*u + u**2))\n",
    "    C = (kappa - rho*zeta*1j*u - D) / (kappa - rho*zeta*1j*u + D)\n",
    "    beta = ((kappa - rho*zeta*1j*u - D)*(1-np.exp(-D*(T-t0)))) / (zeta**2*(1-C*np.exp(-D*(T-t0))))\n",
    "    alpha = ((kappa*theta)/(zeta**2))*((kappa - rho*zeta*1j*u - D)*(T-t0) - 2*np.log((1-C*np.exp(-D*(T-t0))/(1-C))))\n",
    "    return np.exp(1j*u*m + alpha + beta*v0)"
   ]
  },
  {
   "cell_type": "code",
   "execution_count": 149,
   "metadata": {},
   "outputs": [],
   "source": [
    "import numpy as np\n",
    "from numpy import sqrt, exp, pi, cos, sin, log, abs\n",
    "from numba import njit\n",
    "\n",
    "@njit\n",
    "def Fourier_Heston_Put(S0, K, T, r, \n",
    "                  # Heston Model Paramters\n",
    "                  kappa, # Speed of the mean reversion \n",
    "                  theta, # Long term mean\n",
    "                  rho,   # correlation between 2 random variables\n",
    "                  zeta,  # Volatility of volatility\n",
    "                  v0,    # Initial volatility \n",
    "                  opt_type,\n",
    "                  N = 1_012,\n",
    "                  z = 24\n",
    "                  ):\n",
    "\n",
    "  def heston_char(u): \n",
    "    t0 = 0.0 ;  q = 0.0\n",
    "    m = log(S0) + (r - q)*(T-t0)\n",
    "    D = sqrt((rho*zeta*1j*u - kappa)**2 + zeta**2*(1j*u + u**2))\n",
    "    C = (kappa - rho*zeta*1j*u - D) / (kappa - rho*zeta*1j*u + D)\n",
    "    beta = ((kappa - rho*zeta*1j*u - D)*(1-exp(-D*(T-t0)))) / (zeta**2*(1-C*exp(-D*(T-t0))))\n",
    "    alpha = ((kappa*theta)/(zeta**2))*((kappa - rho*zeta*1j*u - D)*(T-t0) - 2*log((1-C*exp(-D*(T-t0))/(1-C))))\n",
    "    return exp(1j*u*m + alpha + beta*v0)\n",
    "  \n",
    "  # # Parameters for the Function to make sure the approximations are correct.\n",
    "  c1 = log(S0) + r*T - .5*theta*T\n",
    "  c2 = theta/(8*kappa**3)*(-zeta**2*exp(-2*kappa*T) + 4*zeta*exp(-kappa*T)*(zeta-2*kappa*rho) \n",
    "        + 2*kappa*T*(4*kappa**2 + zeta**2 - 4*kappa*zeta*rho) + zeta*(8*kappa*rho - 3*zeta))\n",
    "  a = c1 - z*sqrt(abs(c2))\n",
    "  b = c1 + z*sqrt(abs(c2))\n",
    "  \n",
    "  h       = lambda n : (n*pi) / (b-a) \n",
    "  g_n     = lambda n : (exp(a) - (K/h(n))*sin(h(n)*(a - log(K))) - K*cos(h(n)*(a - log(K)))) / (1 + h(n)**2)\n",
    "  g0      = K*(log(K) - a - 1) + exp(a)\n",
    "  \n",
    "  F = g0 \n",
    "  for n in range(1, N+1):\n",
    "    h_n = h(n)\n",
    "    F += 2*heston_char(h_n) * exp(-1j*a*h_n) * g_n(n)\n",
    "\n",
    "  F = exp(-r*T)/(b-a) * np.real(F)\n",
    "  F = F if opt_type == 'p' else F + S0 - K*exp(-r*T)\n",
    "  return F if F > 0 else 0\n",
    "\n",
    "\n"
   ]
  },
  {
   "cell_type": "code",
   "execution_count": 150,
   "metadata": {},
   "outputs": [],
   "source": [
    "S0      = 100.      # initial asset price\n",
    "K       = 50.       # strike\n",
    "r       = 0.03      # risk free rate\n",
    "T       = 1/365     # time to maturity\n",
    "\n",
    "v0=0.4173 ; kappa=0.4352 ; theta=0.2982 ; zeta=1.3856 ; rho=-0.0304"
   ]
  },
  {
   "cell_type": "code",
   "execution_count": 151,
   "metadata": {},
   "outputs": [],
   "source": [
    "import py_vollib_vectorized\n",
    "\n",
    "price = 0.10 ; S = 95 ; K = 100 ; t = .2 ; r = .2 ; flag = 'c'\n",
    "\n",
    "def implied_volatility(price, S, K, t, r, flag):\n",
    "  return py_vollib_vectorized.vectorized_implied_volatility(\n",
    "    price, S, K, t, r, flag, q=0.0, on_error='ignore', model='black_scholes_merton',return_as='numpy') \n"
   ]
  },
  {
   "cell_type": "code",
   "execution_count": 152,
   "metadata": {},
   "outputs": [
    {
     "name": "stdout",
     "output_type": "stream",
     "text": [
      "Speed Analysis of the implied volatility Function: Per Option\n",
      "432 µs ± 127 µs per loop (mean ± std. dev. of 7 runs, 1 loop each)\n"
     ]
    }
   ],
   "source": [
    "print('Speed Analysis of the implied volatility Function: Per Option')\n",
    "%timeit implied_volatility(price, S, K, t, r, flag)"
   ]
  },
  {
   "cell_type": "code",
   "execution_count": 153,
   "metadata": {},
   "outputs": [],
   "source": [
    "# %pip install pyFFTW\n",
    "import pyfftw"
   ]
  },
  {
   "cell_type": "code",
   "execution_count": 154,
   "metadata": {},
   "outputs": [],
   "source": [
    "import numpy as np\n",
    "from numpy import exp, pi, log, sqrt\n",
    "# from  numpy.fft import fft\n",
    "import pyfftw\n",
    "# @njit\n",
    "def heston_fft2(S0, K, T, r, kappa, theta, rho, zeta, v0, opt_type, N=1024, alpha=1.5):\n",
    "    eta = 0.25  # Grid spacing for the integration variable\n",
    "    lambda_u = 2 * pi / (N * eta)  # Grid spacing for log strike\n",
    "\n",
    "    # Adjustments for the damping factor\n",
    "    alpha = alpha  # Damping factor, typically 1 or 1.5\n",
    "\n",
    "    # Characteristic function for the Heston model as before\n",
    "    def heston_char(u):\n",
    "        t0 = 0.0 ; q = 0.0\n",
    "        m = log(S0) + (r - q) * (T - t0)\n",
    "        D = sqrt((rho * zeta * 1j * u - kappa) ** 2 + zeta ** 2 * (1j * u + u ** 2))\n",
    "        C = (kappa - rho * zeta * 1j * u - D) / (kappa - rho * zeta * 1j * u + D)\n",
    "        beta = ((kappa - rho * zeta * 1j * u - D) * (1 - exp(-D * (T - t0)))) / (zeta ** 2 * (1 - C * exp(-D * (T - t0))))\n",
    "        alpha = ((kappa * theta) / (zeta ** 2)) * ((kappa - rho * zeta * 1j * u - D) * (T - t0) - 2 * log((1 - C * exp(-D * (T - t0))) / (1 - C)))\n",
    "        return exp(1j * u * m + alpha + beta * v0)\n",
    "\n",
    "    # Array of discretized u values (integration variable)\n",
    "    u = np.arange(1, N) * eta\n",
    "    u = np.hstack((np.array([0.000001]), u))  # Avoid division by zero in calculations\n",
    "\n",
    "    # Weights for the integration\n",
    "    weights = np.ones(N)\n",
    "    weights[0] = 0.5  # Trapezoidal rule: first weight is 0.5\n",
    "    weights = weights * eta\n",
    "\n",
    "    # Damping factor applied to characteristic function\n",
    "    adjusted_char_fn = exp(-r * T) * (heston_char(u - (alpha + 1) * 1j) / (alpha ** 2 + alpha - u ** 2 + 1j * (2 * alpha + 1) * u))\n",
    "\n",
    "    # FFT calculation\n",
    "    fft_object = pyfftw.builders.rfft(adjusted_char_fn.real * weights, threads=4)\n",
    "    fft_values = fft_object()\n",
    "    fft_values = fft_values[:N // 2]  # Only need the first half of the FFT output\n",
    "\n",
    "    # Calculate strike prices corresponding to FFT output\n",
    "    strikes = S0 * exp(-lambda_u * np.arange(N // 2))\n",
    "\n",
    "    # Option prices\n",
    "    prices = np.exp(-alpha * np.log(strikes)) / pi * fft_values.real\n",
    "\n",
    "    # Find the index of the strike closest to K\n",
    "    index = np.argmin(np.abs(strikes - K))\n",
    "    price = prices[index]\n",
    "    return price if opt_type == 'p' else price + S0 - K * exp(-r * T)\n",
    "\n",
    "# Example call to function\n",
    "price = heston_fft2(S0=100, K=100, T=1, r=0.05, kappa=0.2, theta=0.04, rho=-0.7, zeta=0.2, v0=0.04, opt_type='p')\n",
    "                   \n"
   ]
  },
  {
   "cell_type": "code",
   "execution_count": 155,
   "metadata": {},
   "outputs": [
    {
     "data": {
      "text/plain": [
       "0.09904877056696768"
      ]
     },
     "execution_count": 155,
     "metadata": {},
     "output_type": "execute_result"
    }
   ],
   "source": [
    "price"
   ]
  },
  {
   "cell_type": "code",
   "execution_count": 156,
   "metadata": {},
   "outputs": [
    {
     "data": {
      "text/plain": [
       "8.117640116356107"
      ]
     },
     "execution_count": 156,
     "metadata": {},
     "output_type": "execute_result"
    }
   ],
   "source": [
    "Fourier_Heston_Put(S0=100, K=100, T=1, r=0.05, kappa=0.2, theta=0.04, rho=-0.7, zeta=0.2, v0=0.04, opt_type='p')"
   ]
  },
  {
   "cell_type": "code",
   "execution_count": 157,
   "metadata": {},
   "outputs": [],
   "source": [
    "from nelson_siegel_svensson.calibrate import calibrate_nss_ols\n",
    "yield_maturities = np.array([1/12, 2/12, 3/12, 4/12, 6/12, 1, 2, 3, 5, 7, 10, 20, 30])\n",
    "# yields  = np.array([5.30,5.39,5.50,5.50,5.44,5.11,4.33,3.98,3.70,3.66,3.61,3.98,3.84])\n",
    "# get the first row of the yield rates\n",
    "yields = yield_rates.iloc[0].values[1:].astype(np.float64)\n",
    "curve_fit, status = calibrate_nss_ols(yield_maturities,yields)\n",
    "# yields"
   ]
  },
  {
   "cell_type": "code",
   "execution_count": 158,
   "metadata": {},
   "outputs": [
    {
     "data": {
      "text/plain": [
       "(NelsonSiegelSvenssonCurve(beta0=-5.345961485007193, beta1=10.920561543787652, beta2=11.074852298011132, beta3=-4.034323942085258, tau1=43.44535134546507, tau2=3.30260991718184),\n",
       "   message: Desired error not necessarily achieved due to precision loss.\n",
       "   success: False\n",
       "    status: 2\n",
       "       fun: 0.010378206853388534\n",
       "         x: [ 4.345e+01  3.303e+00]\n",
       "       nit: 31\n",
       "       jac: [ 7.105e-07 -6.778e-05]\n",
       "  hess_inv: [[ 3.425e+04 -2.641e+02]\n",
       "             [-2.641e+02  2.338e+01]]\n",
       "      nfev: 312\n",
       "      njev: 100)"
      ]
     },
     "execution_count": 158,
     "metadata": {},
     "output_type": "execute_result"
    }
   ],
   "source": [
    "curve_fit, status"
   ]
  },
  {
   "cell_type": "code",
   "execution_count": 159,
   "metadata": {},
   "outputs": [
    {
     "name": "stdout",
     "output_type": "stream",
     "text": [
      "Speed Analysis of Fourier_Heston_Put: Per Option\n",
      "269 µs ± 20.5 µs per loop (mean ± std. dev. of 7 runs, 1 loop each)\n"
     ]
    }
   ],
   "source": [
    "print('Speed Analysis of Fourier_Heston_Put: Per Option')\n",
    "%timeit Fourier_Heston_Put(S0,K, T, r, kappa, theta, rho, zeta, v0, 'p', N = 1_012, z = 24)"
   ]
  },
  {
   "cell_type": "code",
   "execution_count": 51,
   "metadata": {},
   "outputs": [],
   "source": [
    "def get_implied_volatility(price, S, K, t, r, flag):\n",
    "    return py_vollib_vectorized.vectorized_implied_volatility(\n",
    "        price, S, K, t, r, flag, q=0.0, on_error='ignore', model='black_scholes_merton',return_as='numpy') "
   ]
  },
  {
   "cell_type": "code",
   "execution_count": 48,
   "metadata": {},
   "outputs": [],
   "source": [
    "def SqErr(x, volSurface):\n",
    "    v0, kappa, theta, zeta, rho = x\n",
    "    \n",
    "    # Calculate prices using Heston Model\n",
    "    Price_Heston = get_resutls_array_Heston(\n",
    "        volSurface, v0, kappa, theta, zeta, rho, N=1_012, z=24\n",
    "    )\n",
    "    \n",
    "    # Calculate implied volatilities\n",
    "    IV_Heston = get_implied_volatility(\n",
    "        price=Price_Heston, S=_S, K=_K, t=_T, r=_r, flag=_type\n",
    "    )\n",
    "    \n",
    "    # Handle undefined IV calculations\n",
    "    diff = IV_Heston - _IV\n",
    "    idx = np.isnan(diff) | np.isinf(diff)\n",
    "    diff[idx] = 0 - _IV[idx]\n",
    "    IV_Heston[idx] = 0\n",
    "    \n",
    "    # Calculate RMSE\n",
    "    rmse = sqrt(np.mean((diff * 100) ** 2 * _Weight))\n",
    "    \n",
    "    # Debugging info\n",
    "    zeros = int(np.where(IV_Heston == 0, 1, 0).sum())\n",
    "    wmae  = np.mean(np.abs(diff * 100) * _Weight)\n",
    "    print_debug_info(v0, kappa, theta, zeta, rho, wmae, idx, zeros, rmse)\n",
    "    \n",
    "    return rmse\n",
    "def get_error_Heston(volSurface, v0, kappa, theta, zeta, rho):\n",
    "    \"\"\"Calculates the error between the Heston model and the market prices.\n",
    "    Arguments:\n",
    "        volSurface: DataFrame with the market prices.\n",
    "        v0: Initial variance.\n",
    "        kappa: Mean reversion speed.\n",
    "        theta: Long-run variance.\n",
    "        zeta: Volatility of volatility.\n",
    "        rho: Correlation between the variance and the asset.\n",
    "    \"\"\"\n",
    "    error = 0\n",
    "    for _, row in volSurface.iterrows():\n",
    "        P = row['price']\n",
    "        HP = Fourier_Heston_Put(S0=row['S'], K=row['strike'], v0=v0, kappa=kappa, theta=theta, zeta=zeta, rho=rho, T=row['maturity'], r=row['rate'], N=2048)\n",
    "        error += (P - HP)**2\n",
    "\n",
    "    return error / volSurface.shape[0]\n",
    "\n",
    "def get_resutls_array_Heston(volSurface, v0, kappa, theta, zeta, rho, N=10_000, z=64):\n",
    "    # Initialize the results array\n",
    "    results = -np.ones(volSurface.shape[0])\n",
    "    # reset the index of the options dataframe\n",
    "    volSurface.index = np.arange(0, volSurface.shape[0])\n",
    "    # loop through the rows of the options dataframe and run the Fourier_Heston_Put function\n",
    "    for idx, row in volSurface.iterrows():\n",
    "        results[idx] = Fourier_Heston_Put(S0=int(row['S']), K=int(row['strike']), v0=v0, kappa=kappa, theta=theta, zeta=zeta, rho=rho, T=row['maturity'], r=row['rate'], N=N, opt_type='p',z=z)\n",
    "    return results\n",
    "\n",
    "def get_resutls_df_Heston(volSurface, v0, kappa, theta, zeta, rho, N=2048, z=100):\n",
    "    observed = volSurface.copy(deep=True)\n",
    "    heston = volSurface.copy(deep=True)\n",
    "    observed['source'] = 'Observed'\n",
    "    heston['source'] = 'Heston Model'\n",
    "\n",
    "    heston_prices = [] \n",
    "    implied_volatilities = []\n",
    "    for _, row in volSurface.iterrows():\n",
    "        heston_price = Fourier_Heston_Put(S0=row['S'], K=row['strike'], v0=v0, kappa=kappa, theta=theta, zeta=zeta, rho=rho, T=row['maturity'], r=row['rate'], N=N, opt_type='p', z=z)\n",
    "        heston_prices.append(heston_price)\n",
    "        # np.array(... , ndmin=1) So the type of the input is compatible with what numba expects\n",
    "        maturity  = np.array(row['maturity'],ndmin=1)\n",
    "        observed_price  = np.array(heston_price,ndmin=1)\n",
    "        S0 = np.array(row['S'],ndmin=1)\n",
    "        K  = np.array(row['strike'],ndmin=1)\n",
    "        r  = np.array(row['rate'],ndmin=1)\n",
    "        implied_volatility = get_implied_volatility(price=observed_price, S=S0, K=K, t=maturity, r=r, flag=option_type)\n",
    "        implied_volatilities.append(implied_volatility[0])\n",
    "\n",
    "    heston['price'] = heston_prices\n",
    "    heston['IV']    = implied_volatilities\n",
    "\n",
    "    return pd.concat([observed, heston])\n",
    "\n",
    "def get_error_df_Heston(volSurface, v0, kappa, theta, zeta, rho, diff='Price', error='Error', weighted=True, N=10_000, z=64):\n",
    "    if   error == 'Error':          _name = f'Weighted Error {diff}'             if weighted else f'Error {diff}'\n",
    "    elif error == 'Perc Error':     _name = f'Weighted Persentage Error {diff}'  if weighted else f'Persentage Error {diff}'\n",
    "    elif error == 'Squared Error':  _name = f'Weighted Squared Error {diff}'     if weighted else f'Squared Error {diff}'\n",
    "    else: raise Exception(\"Error: variable 'error' is not defined correctly\")\n",
    "    \n",
    "    results_df = {'strike':[], 'maturity':[], _name:[], 'Opt. Type':[], 'Weight':[]}\n",
    "\n",
    "    for _, row in volSurface.copy(deep=True).iterrows():\n",
    "        _P = Fourier_Heston_Put(S0=row['S'], K=row['strike'], v0=v0, kappa=kappa, theta=theta, zeta=zeta, rho=rho, T=row['maturity'], r=row['rate'], N=N, z=z, opt_type=row['Type'])\n",
    "        # np.array(... , ndmin=1) So the type of the input is compatible with what numba expects\n",
    "        _T  = np.array(row['maturity'],ndmin=1)\n",
    "        _C  = np.array(_P,ndmin=1)\n",
    "        _P  = np.array(row['price'],ndmin=1)\n",
    "        _S0 = np.array(row['S'],ndmin=1)\n",
    "        _K  = np.array(row['strike'],ndmin=1)\n",
    "        _r  = np.array(row['rate'],ndmin=1)\n",
    "\n",
    "        _IV  = get_implied_volatility(price=_C, S=_S0, K=_K, t=_T, r=_r, flag='p')\n",
    "        _IV2 = get_implied_volatility(price=row['price'], S=_S0, K=_K, t=_T, r=_r, flag='p')\n",
    "\n",
    "        if error    == 'Error':\n",
    "            if diff == 'IV':  _error  = (_IV - _IV2) *                (row['Weight'] if weighted else 1)\n",
    "            else           :  _error  = (_C - _P) *                   (row['Weight'] if weighted else 1)\n",
    "        elif error  == 'Perc Error':\n",
    "            if diff == 'IV':  _error  = ((_IV - _IV2)/_IV2) * 100 *   (row['Weight'] if weighted else 1)\n",
    "            else           :  _error  = ((_C - _P)/_P) * 100 *        (row['Weight'] if weighted else 1)\n",
    "        elif error  == 'Squared Error':\n",
    "            if diff == 'IV':  _error  = (_IV - _IV2)**2 *             (row['Weight'] if weighted else 1)\n",
    "            else           :  _error  = (_C - _P)**2 *                (row['Weight'] if weighted else 1)\n",
    "\n",
    "        results_df[_name].append(_error[0])\n",
    "        results_df['maturity'].append(_T[0])\n",
    "        results_df['strike'].append(_K[0])\n",
    "        results_df['Weight'].append(row['Weight']*10)\n",
    "\n",
    "    return pd.DataFrame(results_df)"
   ]
  },
  {
   "cell_type": "code",
   "execution_count": 60,
   "metadata": {},
   "outputs": [],
   "source": [
    "import py_vollib_vectorized\n",
    "def heston_volSurface(cleaned_df, yields):\n",
    " \n",
    "    volSurface = cleaned_df.drop(columns=['days since last trade', 'ticker'])\n",
    "    price = 0.10 ; S = 95 ; K = 100 ; t = .2 ; r = .2 ; flag = 'c'\n",
    "\n",
    "    \n",
    "\n",
    "    def implied_volatility(price, S, K, t, r, flag):\n",
    "        return py_vollib_vectorized.vectorized_implied_volatility(\n",
    "            price, S, K, t, r, flag, q=0.0, on_error='ignore', model='black_scholes_merton',return_as='numpy')\n",
    "\n",
    "    yield_maturities = np.array([1/12, 2/12, 3/12, 4/12, 6/12, 1, 2, 3, 5, 7, 10, 20, 30])\n",
    "    # yields  = np.array([5.30,5.39,5.50,5.50,5.44,5.11,4.33,3.98,3.70,3.66,3.61,3.98,3.84])\n",
    "    # get the first row of the yield rates\n",
    "    # TODO: set K's\n",
    "    \n",
    "    curve_fit, status = calibrate_nss_ols(yield_maturities,yields)\n",
    "    volSurface['rate'] = volSurface['maturity'].apply(curve_fit) / 100\n",
    "    volSurface['IV'] = implied_volatility(volSurface['price'], volSurface['S'], volSurface['strike'], volSurface['maturity'], volSurface['rate'], flag)\n",
    "    return volSurface\n",
    "\n",
    "def heston_daily_volSurface(underlying_ticker, date):\n",
    "    cleaned = daily_option_data(underlying_ticker, date)\n",
    "    yield_rates = pd.read_csv(\"five-year-rates.csv\")\n",
    "    d = datetime.strftime(datetime.strptime(\"2023-03-27\", \"%Y-%m-%d\"), \"%m/%d/%Y\")\n",
    "    yields = yield_rates.loc[yield_rates[\"Date\"]==d].values[:,1:].astype(np.float64).reshape(-1)\n",
    "    volSurface = heston_volSurface(cleaned, yields)\n",
    "    return volSurface\n",
    "\n",
    "\n",
    "def heston_parameters(VolSurface):\n",
    "\t# Extract data from dailyVolSurface DataFrame\n",
    "    _K = VolSurface['strike'].to_numpy()\n",
    "\n",
    "    _C = VolSurface['price'].to_numpy()\n",
    "    _T      = VolSurface['maturity'].to_numpy()\n",
    "    _r      = VolSurface['rate'].to_numpy()\n",
    "    _S      = VolSurface['S'].to_numpy()\n",
    "    _IV     = VolSurface['IV'].to_numpy()\n",
    "    _Weight = VolSurface['Weight'].to_numpy()\n",
    "\n",
    "    # Initial parameters and bounds for optimization\n",
    "    params = {\n",
    "        \"v0\": {\"x0\": 0.002874, \"lbub\": [1e-3, 1.2]},\n",
    "        \"kappa\": {\"x0\": 1.6891, \"lbub\": [1e-3, 10]},\n",
    "        \"theta\": {\"x0\": 0.0190, \"lbub\": [1e-3, 1.2]},\n",
    "        \"zeta\": {\"x0\": 3.7472, \"lbub\": [1e-2, 4]},\n",
    "        \"rho\": {\"x0\": -0.2731, \"lbub\": [-1, 1]}\n",
    "    }\n",
    "    x0 = [param[\"x0\"] for _, param in params.items()]\n",
    "    bnds = [param[\"lbub\"] for _, param in params.items()]\n",
    "    result = minimize(\n",
    "    SqErr, x0, args=(VolSurface),  tol=1e-5, method='SLSQP',\n",
    "    options={'maxiter': 80, 'ftol': 1e-5, 'disp': True},\n",
    "    bounds=bnds, jac='3-point'\n",
    "\t)\n",
    "\n",
    "    return result.x\n",
    "\n",
    "def heston_day_params(underlying_ticker, date):\n",
    "    volSurface = heston_daily_volSurface(underlying_ticker, date)\n",
    "    return heston_parameters(volSurface)"
   ]
  },
  {
   "cell_type": "code",
   "execution_count": 61,
   "metadata": {},
   "outputs": [
    {
     "ename": "NameError",
     "evalue": "name '_S' is not defined",
     "output_type": "error",
     "traceback": [
      "\u001b[0;31m---------------------------------------------------------------------------\u001b[0m",
      "\u001b[0;31mNameError\u001b[0m                                 Traceback (most recent call last)",
      "Cell \u001b[0;32mIn[61], line 2\u001b[0m\n\u001b[1;32m      1\u001b[0m \u001b[38;5;28;01mfrom\u001b[39;00m \u001b[38;5;21;01mnelson_siegel_svensson\u001b[39;00m\u001b[38;5;21;01m.\u001b[39;00m\u001b[38;5;21;01mcalibrate\u001b[39;00m \u001b[38;5;28;01mimport\u001b[39;00m calibrate_nss_ols\n\u001b[0;32m----> 2\u001b[0m \u001b[43mheston_day_params\u001b[49m\u001b[43m(\u001b[49m\u001b[38;5;124;43m'\u001b[39;49m\u001b[38;5;124;43mAAPL\u001b[39;49m\u001b[38;5;124;43m'\u001b[39;49m\u001b[43m,\u001b[49m\u001b[43m \u001b[49m\u001b[38;5;124;43m\"\u001b[39;49m\u001b[38;5;124;43m2023-04-18\u001b[39;49m\u001b[38;5;124;43m\"\u001b[39;49m\u001b[43m)\u001b[49m\n",
      "Cell \u001b[0;32mIn[60], line 63\u001b[0m, in \u001b[0;36mheston_day_params\u001b[0;34m(underlying_ticker, date)\u001b[0m\n\u001b[1;32m     61\u001b[0m \u001b[38;5;28;01mdef\u001b[39;00m \u001b[38;5;21mheston_day_params\u001b[39m(underlying_ticker, date):\n\u001b[1;32m     62\u001b[0m     volSurface \u001b[38;5;241m=\u001b[39m heston_daily_volSurface(underlying_ticker, date)\n\u001b[0;32m---> 63\u001b[0m     \u001b[38;5;28;01mreturn\u001b[39;00m \u001b[43mheston_parameters\u001b[49m\u001b[43m(\u001b[49m\u001b[43mvolSurface\u001b[49m\u001b[43m)\u001b[49m\n",
      "Cell \u001b[0;32mIn[60], line 53\u001b[0m, in \u001b[0;36mheston_parameters\u001b[0;34m(VolSurface)\u001b[0m\n\u001b[1;32m     51\u001b[0m     x0 \u001b[38;5;241m=\u001b[39m [param[\u001b[38;5;124m\"\u001b[39m\u001b[38;5;124mx0\u001b[39m\u001b[38;5;124m\"\u001b[39m] \u001b[38;5;28;01mfor\u001b[39;00m _, param \u001b[38;5;129;01min\u001b[39;00m params\u001b[38;5;241m.\u001b[39mitems()]\n\u001b[1;32m     52\u001b[0m     bnds \u001b[38;5;241m=\u001b[39m [param[\u001b[38;5;124m\"\u001b[39m\u001b[38;5;124mlbub\u001b[39m\u001b[38;5;124m\"\u001b[39m] \u001b[38;5;28;01mfor\u001b[39;00m _, param \u001b[38;5;129;01min\u001b[39;00m params\u001b[38;5;241m.\u001b[39mitems()]\n\u001b[0;32m---> 53\u001b[0m     result \u001b[38;5;241m=\u001b[39m \u001b[43mminimize\u001b[49m\u001b[43m(\u001b[49m\n\u001b[1;32m     54\u001b[0m \u001b[43m    \u001b[49m\u001b[43mSqErr\u001b[49m\u001b[43m,\u001b[49m\u001b[43m \u001b[49m\u001b[43mx0\u001b[49m\u001b[43m,\u001b[49m\u001b[43m \u001b[49m\u001b[43margs\u001b[49m\u001b[38;5;241;43m=\u001b[39;49m\u001b[43m(\u001b[49m\u001b[43mVolSurface\u001b[49m\u001b[43m)\u001b[49m\u001b[43m,\u001b[49m\u001b[43m  \u001b[49m\u001b[43mtol\u001b[49m\u001b[38;5;241;43m=\u001b[39;49m\u001b[38;5;241;43m1e-5\u001b[39;49m\u001b[43m,\u001b[49m\u001b[43m \u001b[49m\u001b[43mmethod\u001b[49m\u001b[38;5;241;43m=\u001b[39;49m\u001b[38;5;124;43m'\u001b[39;49m\u001b[38;5;124;43mSLSQP\u001b[39;49m\u001b[38;5;124;43m'\u001b[39;49m\u001b[43m,\u001b[49m\n\u001b[1;32m     55\u001b[0m \u001b[43m    \u001b[49m\u001b[43moptions\u001b[49m\u001b[38;5;241;43m=\u001b[39;49m\u001b[43m{\u001b[49m\u001b[38;5;124;43m'\u001b[39;49m\u001b[38;5;124;43mmaxiter\u001b[39;49m\u001b[38;5;124;43m'\u001b[39;49m\u001b[43m:\u001b[49m\u001b[43m \u001b[49m\u001b[38;5;241;43m80\u001b[39;49m\u001b[43m,\u001b[49m\u001b[43m \u001b[49m\u001b[38;5;124;43m'\u001b[39;49m\u001b[38;5;124;43mftol\u001b[39;49m\u001b[38;5;124;43m'\u001b[39;49m\u001b[43m:\u001b[49m\u001b[43m \u001b[49m\u001b[38;5;241;43m1e-5\u001b[39;49m\u001b[43m,\u001b[49m\u001b[43m \u001b[49m\u001b[38;5;124;43m'\u001b[39;49m\u001b[38;5;124;43mdisp\u001b[39;49m\u001b[38;5;124;43m'\u001b[39;49m\u001b[43m:\u001b[49m\u001b[43m \u001b[49m\u001b[38;5;28;43;01mTrue\u001b[39;49;00m\u001b[43m}\u001b[49m\u001b[43m,\u001b[49m\n\u001b[1;32m     56\u001b[0m \u001b[43m    \u001b[49m\u001b[43mbounds\u001b[49m\u001b[38;5;241;43m=\u001b[39;49m\u001b[43mbnds\u001b[49m\u001b[43m,\u001b[49m\u001b[43m \u001b[49m\u001b[43mjac\u001b[49m\u001b[38;5;241;43m=\u001b[39;49m\u001b[38;5;124;43m'\u001b[39;49m\u001b[38;5;124;43m3-point\u001b[39;49m\u001b[38;5;124;43m'\u001b[39;49m\n\u001b[1;32m     57\u001b[0m \u001b[43m\t\u001b[49m\u001b[43m)\u001b[49m\n\u001b[1;32m     59\u001b[0m     \u001b[38;5;28;01mreturn\u001b[39;00m result\u001b[38;5;241m.\u001b[39mx\n",
      "File \u001b[0;32m~/.local/share/virtualenvs/guidelight-Popvxsqg/lib/python3.11/site-packages/scipy/optimize/_minimize.py:722\u001b[0m, in \u001b[0;36mminimize\u001b[0;34m(fun, x0, args, method, jac, hess, hessp, bounds, constraints, tol, callback, options)\u001b[0m\n\u001b[1;32m    719\u001b[0m     res \u001b[38;5;241m=\u001b[39m _minimize_cobyla(fun, x0, args, constraints, callback\u001b[38;5;241m=\u001b[39mcallback,\n\u001b[1;32m    720\u001b[0m                            bounds\u001b[38;5;241m=\u001b[39mbounds, \u001b[38;5;241m*\u001b[39m\u001b[38;5;241m*\u001b[39moptions)\n\u001b[1;32m    721\u001b[0m \u001b[38;5;28;01melif\u001b[39;00m meth \u001b[38;5;241m==\u001b[39m \u001b[38;5;124m'\u001b[39m\u001b[38;5;124mslsqp\u001b[39m\u001b[38;5;124m'\u001b[39m:\n\u001b[0;32m--> 722\u001b[0m     res \u001b[38;5;241m=\u001b[39m \u001b[43m_minimize_slsqp\u001b[49m\u001b[43m(\u001b[49m\u001b[43mfun\u001b[49m\u001b[43m,\u001b[49m\u001b[43m \u001b[49m\u001b[43mx0\u001b[49m\u001b[43m,\u001b[49m\u001b[43m \u001b[49m\u001b[43margs\u001b[49m\u001b[43m,\u001b[49m\u001b[43m \u001b[49m\u001b[43mjac\u001b[49m\u001b[43m,\u001b[49m\u001b[43m \u001b[49m\u001b[43mbounds\u001b[49m\u001b[43m,\u001b[49m\n\u001b[1;32m    723\u001b[0m \u001b[43m                          \u001b[49m\u001b[43mconstraints\u001b[49m\u001b[43m,\u001b[49m\u001b[43m \u001b[49m\u001b[43mcallback\u001b[49m\u001b[38;5;241;43m=\u001b[39;49m\u001b[43mcallback\u001b[49m\u001b[43m,\u001b[49m\u001b[43m \u001b[49m\u001b[38;5;241;43m*\u001b[39;49m\u001b[38;5;241;43m*\u001b[39;49m\u001b[43moptions\u001b[49m\u001b[43m)\u001b[49m\n\u001b[1;32m    724\u001b[0m \u001b[38;5;28;01melif\u001b[39;00m meth \u001b[38;5;241m==\u001b[39m \u001b[38;5;124m'\u001b[39m\u001b[38;5;124mtrust-constr\u001b[39m\u001b[38;5;124m'\u001b[39m:\n\u001b[1;32m    725\u001b[0m     res \u001b[38;5;241m=\u001b[39m _minimize_trustregion_constr(fun, x0, args, jac, hess, hessp,\n\u001b[1;32m    726\u001b[0m                                        bounds, constraints,\n\u001b[1;32m    727\u001b[0m                                        callback\u001b[38;5;241m=\u001b[39mcallback, \u001b[38;5;241m*\u001b[39m\u001b[38;5;241m*\u001b[39moptions)\n",
      "File \u001b[0;32m~/.local/share/virtualenvs/guidelight-Popvxsqg/lib/python3.11/site-packages/scipy/optimize/_slsqp_py.py:383\u001b[0m, in \u001b[0;36m_minimize_slsqp\u001b[0;34m(func, x0, args, jac, bounds, constraints, maxiter, ftol, iprint, disp, eps, callback, finite_diff_rel_step, **unknown_options)\u001b[0m\n\u001b[1;32m    380\u001b[0m     xu[infbnd[:, \u001b[38;5;241m1\u001b[39m]] \u001b[38;5;241m=\u001b[39m np\u001b[38;5;241m.\u001b[39mnan\n\u001b[1;32m    382\u001b[0m \u001b[38;5;66;03m# ScalarFunction provides function and gradient evaluation\u001b[39;00m\n\u001b[0;32m--> 383\u001b[0m sf \u001b[38;5;241m=\u001b[39m \u001b[43m_prepare_scalar_function\u001b[49m\u001b[43m(\u001b[49m\u001b[43mfunc\u001b[49m\u001b[43m,\u001b[49m\u001b[43m \u001b[49m\u001b[43mx\u001b[49m\u001b[43m,\u001b[49m\u001b[43m \u001b[49m\u001b[43mjac\u001b[49m\u001b[38;5;241;43m=\u001b[39;49m\u001b[43mjac\u001b[49m\u001b[43m,\u001b[49m\u001b[43m \u001b[49m\u001b[43margs\u001b[49m\u001b[38;5;241;43m=\u001b[39;49m\u001b[43margs\u001b[49m\u001b[43m,\u001b[49m\u001b[43m \u001b[49m\u001b[43mepsilon\u001b[49m\u001b[38;5;241;43m=\u001b[39;49m\u001b[43meps\u001b[49m\u001b[43m,\u001b[49m\n\u001b[1;32m    384\u001b[0m \u001b[43m                              \u001b[49m\u001b[43mfinite_diff_rel_step\u001b[49m\u001b[38;5;241;43m=\u001b[39;49m\u001b[43mfinite_diff_rel_step\u001b[49m\u001b[43m,\u001b[49m\n\u001b[1;32m    385\u001b[0m \u001b[43m                              \u001b[49m\u001b[43mbounds\u001b[49m\u001b[38;5;241;43m=\u001b[39;49m\u001b[43mnew_bounds\u001b[49m\u001b[43m)\u001b[49m\n\u001b[1;32m    386\u001b[0m \u001b[38;5;66;03m# gh11403 SLSQP sometimes exceeds bounds by 1 or 2 ULP, make sure this\u001b[39;00m\n\u001b[1;32m    387\u001b[0m \u001b[38;5;66;03m# doesn't get sent to the func/grad evaluator.\u001b[39;00m\n\u001b[1;32m    388\u001b[0m wrapped_fun \u001b[38;5;241m=\u001b[39m _clip_x_for_func(sf\u001b[38;5;241m.\u001b[39mfun, new_bounds)\n",
      "File \u001b[0;32m~/.local/share/virtualenvs/guidelight-Popvxsqg/lib/python3.11/site-packages/scipy/optimize/_optimize.py:288\u001b[0m, in \u001b[0;36m_prepare_scalar_function\u001b[0;34m(fun, x0, jac, args, bounds, epsilon, finite_diff_rel_step, hess)\u001b[0m\n\u001b[1;32m    284\u001b[0m     bounds \u001b[38;5;241m=\u001b[39m (\u001b[38;5;241m-\u001b[39mnp\u001b[38;5;241m.\u001b[39minf, np\u001b[38;5;241m.\u001b[39minf)\n\u001b[1;32m    286\u001b[0m \u001b[38;5;66;03m# ScalarFunction caches. Reuse of fun(x) during grad\u001b[39;00m\n\u001b[1;32m    287\u001b[0m \u001b[38;5;66;03m# calculation reduces overall function evaluations.\u001b[39;00m\n\u001b[0;32m--> 288\u001b[0m sf \u001b[38;5;241m=\u001b[39m \u001b[43mScalarFunction\u001b[49m\u001b[43m(\u001b[49m\u001b[43mfun\u001b[49m\u001b[43m,\u001b[49m\u001b[43m \u001b[49m\u001b[43mx0\u001b[49m\u001b[43m,\u001b[49m\u001b[43m \u001b[49m\u001b[43margs\u001b[49m\u001b[43m,\u001b[49m\u001b[43m \u001b[49m\u001b[43mgrad\u001b[49m\u001b[43m,\u001b[49m\u001b[43m \u001b[49m\u001b[43mhess\u001b[49m\u001b[43m,\u001b[49m\n\u001b[1;32m    289\u001b[0m \u001b[43m                    \u001b[49m\u001b[43mfinite_diff_rel_step\u001b[49m\u001b[43m,\u001b[49m\u001b[43m \u001b[49m\u001b[43mbounds\u001b[49m\u001b[43m,\u001b[49m\u001b[43m \u001b[49m\u001b[43mepsilon\u001b[49m\u001b[38;5;241;43m=\u001b[39;49m\u001b[43mepsilon\u001b[49m\u001b[43m)\u001b[49m\n\u001b[1;32m    291\u001b[0m \u001b[38;5;28;01mreturn\u001b[39;00m sf\n",
      "File \u001b[0;32m~/.local/share/virtualenvs/guidelight-Popvxsqg/lib/python3.11/site-packages/scipy/optimize/_differentiable_functions.py:166\u001b[0m, in \u001b[0;36mScalarFunction.__init__\u001b[0;34m(self, fun, x0, args, grad, hess, finite_diff_rel_step, finite_diff_bounds, epsilon)\u001b[0m\n\u001b[1;32m    163\u001b[0m     \u001b[38;5;28mself\u001b[39m\u001b[38;5;241m.\u001b[39mf \u001b[38;5;241m=\u001b[39m fun_wrapped(\u001b[38;5;28mself\u001b[39m\u001b[38;5;241m.\u001b[39mx)\n\u001b[1;32m    165\u001b[0m \u001b[38;5;28mself\u001b[39m\u001b[38;5;241m.\u001b[39m_update_fun_impl \u001b[38;5;241m=\u001b[39m update_fun\n\u001b[0;32m--> 166\u001b[0m \u001b[38;5;28;43mself\u001b[39;49m\u001b[38;5;241;43m.\u001b[39;49m\u001b[43m_update_fun\u001b[49m\u001b[43m(\u001b[49m\u001b[43m)\u001b[49m\n\u001b[1;32m    168\u001b[0m \u001b[38;5;66;03m# Gradient evaluation\u001b[39;00m\n\u001b[1;32m    169\u001b[0m \u001b[38;5;28;01mif\u001b[39;00m \u001b[38;5;28mcallable\u001b[39m(grad):\n",
      "File \u001b[0;32m~/.local/share/virtualenvs/guidelight-Popvxsqg/lib/python3.11/site-packages/scipy/optimize/_differentiable_functions.py:262\u001b[0m, in \u001b[0;36mScalarFunction._update_fun\u001b[0;34m(self)\u001b[0m\n\u001b[1;32m    260\u001b[0m \u001b[38;5;28;01mdef\u001b[39;00m \u001b[38;5;21m_update_fun\u001b[39m(\u001b[38;5;28mself\u001b[39m):\n\u001b[1;32m    261\u001b[0m     \u001b[38;5;28;01mif\u001b[39;00m \u001b[38;5;129;01mnot\u001b[39;00m \u001b[38;5;28mself\u001b[39m\u001b[38;5;241m.\u001b[39mf_updated:\n\u001b[0;32m--> 262\u001b[0m         \u001b[38;5;28;43mself\u001b[39;49m\u001b[38;5;241;43m.\u001b[39;49m\u001b[43m_update_fun_impl\u001b[49m\u001b[43m(\u001b[49m\u001b[43m)\u001b[49m\n\u001b[1;32m    263\u001b[0m         \u001b[38;5;28mself\u001b[39m\u001b[38;5;241m.\u001b[39mf_updated \u001b[38;5;241m=\u001b[39m \u001b[38;5;28;01mTrue\u001b[39;00m\n",
      "File \u001b[0;32m~/.local/share/virtualenvs/guidelight-Popvxsqg/lib/python3.11/site-packages/scipy/optimize/_differentiable_functions.py:163\u001b[0m, in \u001b[0;36mScalarFunction.__init__.<locals>.update_fun\u001b[0;34m()\u001b[0m\n\u001b[1;32m    162\u001b[0m \u001b[38;5;28;01mdef\u001b[39;00m \u001b[38;5;21mupdate_fun\u001b[39m():\n\u001b[0;32m--> 163\u001b[0m     \u001b[38;5;28mself\u001b[39m\u001b[38;5;241m.\u001b[39mf \u001b[38;5;241m=\u001b[39m \u001b[43mfun_wrapped\u001b[49m\u001b[43m(\u001b[49m\u001b[38;5;28;43mself\u001b[39;49m\u001b[38;5;241;43m.\u001b[39;49m\u001b[43mx\u001b[49m\u001b[43m)\u001b[49m\n",
      "File \u001b[0;32m~/.local/share/virtualenvs/guidelight-Popvxsqg/lib/python3.11/site-packages/scipy/optimize/_differentiable_functions.py:145\u001b[0m, in \u001b[0;36mScalarFunction.__init__.<locals>.fun_wrapped\u001b[0;34m(x)\u001b[0m\n\u001b[1;32m    141\u001b[0m \u001b[38;5;28mself\u001b[39m\u001b[38;5;241m.\u001b[39mnfev \u001b[38;5;241m+\u001b[39m\u001b[38;5;241m=\u001b[39m \u001b[38;5;241m1\u001b[39m\n\u001b[1;32m    142\u001b[0m \u001b[38;5;66;03m# Send a copy because the user may overwrite it.\u001b[39;00m\n\u001b[1;32m    143\u001b[0m \u001b[38;5;66;03m# Overwriting results in undefined behaviour because\u001b[39;00m\n\u001b[1;32m    144\u001b[0m \u001b[38;5;66;03m# fun(self.x) will change self.x, with the two no longer linked.\u001b[39;00m\n\u001b[0;32m--> 145\u001b[0m fx \u001b[38;5;241m=\u001b[39m \u001b[43mfun\u001b[49m\u001b[43m(\u001b[49m\u001b[43mnp\u001b[49m\u001b[38;5;241;43m.\u001b[39;49m\u001b[43mcopy\u001b[49m\u001b[43m(\u001b[49m\u001b[43mx\u001b[49m\u001b[43m)\u001b[49m\u001b[43m,\u001b[49m\u001b[43m \u001b[49m\u001b[38;5;241;43m*\u001b[39;49m\u001b[43margs\u001b[49m\u001b[43m)\u001b[49m\n\u001b[1;32m    146\u001b[0m \u001b[38;5;66;03m# Make sure the function returns a true scalar\u001b[39;00m\n\u001b[1;32m    147\u001b[0m \u001b[38;5;28;01mif\u001b[39;00m \u001b[38;5;129;01mnot\u001b[39;00m np\u001b[38;5;241m.\u001b[39misscalar(fx):\n",
      "Cell \u001b[0;32mIn[48], line 11\u001b[0m, in \u001b[0;36mSqErr\u001b[0;34m(x, volSurface)\u001b[0m\n\u001b[1;32m      5\u001b[0m Price_Heston \u001b[38;5;241m=\u001b[39m get_resutls_array_Heston(\n\u001b[1;32m      6\u001b[0m     volSurface, v0, kappa, theta, zeta, rho, N\u001b[38;5;241m=\u001b[39m\u001b[38;5;241m1_012\u001b[39m, z\u001b[38;5;241m=\u001b[39m\u001b[38;5;241m24\u001b[39m\n\u001b[1;32m      7\u001b[0m )\n\u001b[1;32m      9\u001b[0m \u001b[38;5;66;03m# Calculate implied volatilities\u001b[39;00m\n\u001b[1;32m     10\u001b[0m IV_Heston \u001b[38;5;241m=\u001b[39m get_implied_volatility(\n\u001b[0;32m---> 11\u001b[0m     price\u001b[38;5;241m=\u001b[39mPrice_Heston, S\u001b[38;5;241m=\u001b[39m\u001b[43m_S\u001b[49m, K\u001b[38;5;241m=\u001b[39m_K, t\u001b[38;5;241m=\u001b[39m_T, r\u001b[38;5;241m=\u001b[39m_r, flag\u001b[38;5;241m=\u001b[39m_type\n\u001b[1;32m     12\u001b[0m )\n\u001b[1;32m     14\u001b[0m \u001b[38;5;66;03m# Handle undefined IV calculations\u001b[39;00m\n\u001b[1;32m     15\u001b[0m diff \u001b[38;5;241m=\u001b[39m IV_Heston \u001b[38;5;241m-\u001b[39m _IV\n",
      "\u001b[0;31mNameError\u001b[0m: name '_S' is not defined"
     ]
    }
   ],
   "source": [
    "from nelson_siegel_svensson.calibrate import calibrate_nss_ols\n",
    "heston_day_params('AAPL', \"2023-04-18\")"
   ]
  },
  {
   "cell_type": "code",
   "execution_count": 52,
   "metadata": {},
   "outputs": [
    {
     "name": "stdout",
     "output_type": "stream",
     "text": [
      "Speed Analysis of Fourier_Heston_Put: Per Option. N = 1012 : 4.2574521354627604e-05\n",
      "117 µs ± 12.7 µs per loop (mean ± std. dev. of 7 runs, 10,000 loops each)\n"
     ]
    }
   ],
   "source": [
    "import numpy as np\n",
    "from numpy import sqrt, exp, pi, cos, sin, log, abs\n",
    "from numba import njit, prange\n",
    "\n",
    "S0      = 100.      # initial asset price\n",
    "K       = 50.       # strike\n",
    "r       = 0.03      # risk free rate\n",
    "T       = 1/365     # time to maturity\n",
    "\n",
    "v0=0.4173 ; kappa=0.4352 ; theta=0.2982 ; zeta=1.3856 ; rho=-0.0304\n",
    "\n",
    "@njit(parallel=True, fastmath=False, cache=True)\n",
    "def Fourier_Heston_Put(S0, K, T, r, \n",
    "                    # Heston Model Paramters\n",
    "                    kappa, # Speed of the mean reversion \n",
    "                    theta, # Long term mean\n",
    "                    rho,   # correlation between 2 random variables\n",
    "                    zeta,  # Volatility of volatility\n",
    "                    v0,    # Initial volatility \n",
    "                    opt_type,\n",
    "                    N = 10_012,\n",
    "                    z = 24\n",
    "                    ):\n",
    "\n",
    "    def heston_char(u): \n",
    "        t0 = 0.0 ;  q = 0.0\n",
    "        m = log(S0) + (r - q)*(T-t0)\n",
    "        D = sqrt((rho*zeta*1j*u - kappa)**2 + zeta**2*(1j*u + u**2))\n",
    "        C = (kappa - rho*zeta*1j*u - D) / (kappa - rho*zeta*1j*u + D)\n",
    "        beta = ((kappa - rho*zeta*1j*u - D)*(1-exp(-D*(T-t0)))) / (zeta**2*(1-C*exp(-D*(T-t0))))\n",
    "        alpha = ((kappa*theta)/(zeta**2))*((kappa - rho*zeta*1j*u - D)*(T-t0) - 2*log((1-C*exp(-D*(T-t0))/(1-C))))\n",
    "        return exp(1j*u*m + alpha + beta*v0)\n",
    "    \n",
    "    c1 = log(S0) + r*T - .5*theta*T\n",
    "    c2 = theta/(8*kappa**3)*(-zeta**2*exp(-2*kappa*T) + 4*zeta*exp(-kappa*T)*(zeta-2*kappa*rho) \n",
    "            + 2*kappa*T*(4*kappa**2 + zeta**2 - 4*kappa*zeta*rho) + zeta*(8*kappa*rho - 3*zeta))\n",
    "    a = c1 - z*sqrt(abs(c2))\n",
    "    b = c1 + z*sqrt(abs(c2))\n",
    "    \n",
    "    h       = lambda n : (n*pi) / (b-a) \n",
    "    g_n     = lambda n : (exp(a) - (K/h(n))*sin(h(n)*(a - log(K))) - K*cos(h(n)*(a - log(K)))) / (1 + h(n)**2)\n",
    "    g0      = K*(log(K) - a - 1) + exp(a)\n",
    "    \n",
    "    F = g0 \n",
    "    for n in prange(1, N+1):\n",
    "        h_n = h(n)\n",
    "        F += 2*heston_char(h_n) * exp(-1j*a*h_n) * g_n(n)\n",
    "\n",
    "    F = exp(-r*T)/(b-a) * np.real(F)\n",
    "    F = F if opt_type == 'p' else F + S0 - K*exp(-r*T)\n",
    "    return F if F > 0 else 0\n",
    "\n",
    "N = 1_012\n",
    "print(f\"Speed Analysis of Fourier_Heston_Put: Per Option. N = {N} : {Fourier_Heston_Put(S0,K, T, r, kappa, theta, rho, zeta, v0, 'p', N = N, z = 24)}\")\n",
    "%timeit Fourier_Heston_Put(S0,K, T, r, kappa, theta, rho, zeta, v0, 'p', N = N, z = 24)"
   ]
  }
 ],
 "metadata": {
  "kernelspec": {
   "display_name": "guidelight-Popvxsqg",
   "language": "python",
   "name": "python3"
  },
  "language_info": {
   "codemirror_mode": {
    "name": "ipython",
    "version": 3
   },
   "file_extension": ".py",
   "mimetype": "text/x-python",
   "name": "python",
   "nbconvert_exporter": "python",
   "pygments_lexer": "ipython3",
   "version": "3.11.9"
  }
 },
 "nbformat": 4,
 "nbformat_minor": 2
}
