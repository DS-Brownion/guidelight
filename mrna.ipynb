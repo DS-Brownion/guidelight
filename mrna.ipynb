{
 "cells": [
  {
   "cell_type": "code",
   "execution_count": 4,
   "id": "9c20e824-a739-43a9-823c-c9b9b51ab6fd",
   "metadata": {},
   "outputs": [],
   "source": [
    "import yfinance as yf"
   ]
  },
  {
   "cell_type": "code",
   "execution_count": 5,
   "id": "982196ee-9750-47eb-ae14-bb63888e0b2d",
   "metadata": {},
   "outputs": [
    {
     "name": "stderr",
     "output_type": "stream",
     "text": [
      "[*********************100%%**********************]  1 of 1 completed\n"
     ]
    }
   ],
   "source": [
    "ticker = yf.download('MRNA', start=\"2021-05-24\", end=\"2024-01-25\")"
   ]
  },
  {
   "cell_type": "code",
   "execution_count": 13,
   "id": "2d47a972-21da-46d4-925e-bddf5223d2c3",
   "metadata": {},
   "outputs": [
    {
     "data": {
      "text/html": [
       "<div>\n",
       "<style scoped>\n",
       "    .dataframe tbody tr th:only-of-type {\n",
       "        vertical-align: middle;\n",
       "    }\n",
       "\n",
       "    .dataframe tbody tr th {\n",
       "        vertical-align: top;\n",
       "    }\n",
       "\n",
       "    .dataframe thead th {\n",
       "        text-align: right;\n",
       "    }\n",
       "</style>\n",
       "<table border=\"1\" class=\"dataframe\">\n",
       "  <thead>\n",
       "    <tr style=\"text-align: right;\">\n",
       "      <th></th>\n",
       "      <th>Open</th>\n",
       "      <th>High</th>\n",
       "      <th>Low</th>\n",
       "      <th>Close</th>\n",
       "      <th>Adj Close</th>\n",
       "      <th>Volume</th>\n",
       "    </tr>\n",
       "    <tr>\n",
       "      <th>Date</th>\n",
       "      <th></th>\n",
       "      <th></th>\n",
       "      <th></th>\n",
       "      <th></th>\n",
       "      <th></th>\n",
       "      <th></th>\n",
       "    </tr>\n",
       "  </thead>\n",
       "  <tbody>\n",
       "    <tr>\n",
       "      <th>2021-05-24</th>\n",
       "      <td>162.880997</td>\n",
       "      <td>166.800003</td>\n",
       "      <td>161.009995</td>\n",
       "      <td>164.169998</td>\n",
       "      <td>164.169998</td>\n",
       "      <td>4501300</td>\n",
       "    </tr>\n",
       "    <tr>\n",
       "      <th>2021-05-25</th>\n",
       "      <td>166.559998</td>\n",
       "      <td>171.740005</td>\n",
       "      <td>165.100006</td>\n",
       "      <td>169.259995</td>\n",
       "      <td>169.259995</td>\n",
       "      <td>7759900</td>\n",
       "    </tr>\n",
       "    <tr>\n",
       "      <th>2021-05-26</th>\n",
       "      <td>168.699997</td>\n",
       "      <td>175.619995</td>\n",
       "      <td>168.509995</td>\n",
       "      <td>175.589996</td>\n",
       "      <td>175.589996</td>\n",
       "      <td>6885200</td>\n",
       "    </tr>\n",
       "    <tr>\n",
       "      <th>2021-05-27</th>\n",
       "      <td>174.199997</td>\n",
       "      <td>180.000000</td>\n",
       "      <td>173.630005</td>\n",
       "      <td>179.539993</td>\n",
       "      <td>179.539993</td>\n",
       "      <td>10844900</td>\n",
       "    </tr>\n",
       "    <tr>\n",
       "      <th>2021-05-28</th>\n",
       "      <td>178.623001</td>\n",
       "      <td>186.639999</td>\n",
       "      <td>178.360001</td>\n",
       "      <td>185.009995</td>\n",
       "      <td>185.009995</td>\n",
       "      <td>8567200</td>\n",
       "    </tr>\n",
       "    <tr>\n",
       "      <th>...</th>\n",
       "      <td>...</td>\n",
       "      <td>...</td>\n",
       "      <td>...</td>\n",
       "      <td>...</td>\n",
       "      <td>...</td>\n",
       "      <td>...</td>\n",
       "    </tr>\n",
       "    <tr>\n",
       "      <th>2024-01-18</th>\n",
       "      <td>100.010002</td>\n",
       "      <td>100.010002</td>\n",
       "      <td>96.650002</td>\n",
       "      <td>99.070000</td>\n",
       "      <td>99.070000</td>\n",
       "      <td>3781800</td>\n",
       "    </tr>\n",
       "    <tr>\n",
       "      <th>2024-01-19</th>\n",
       "      <td>98.430000</td>\n",
       "      <td>100.440002</td>\n",
       "      <td>97.080002</td>\n",
       "      <td>99.699997</td>\n",
       "      <td>99.699997</td>\n",
       "      <td>3732000</td>\n",
       "    </tr>\n",
       "    <tr>\n",
       "      <th>2024-01-22</th>\n",
       "      <td>100.250000</td>\n",
       "      <td>102.970001</td>\n",
       "      <td>98.599998</td>\n",
       "      <td>99.699997</td>\n",
       "      <td>99.699997</td>\n",
       "      <td>3403300</td>\n",
       "    </tr>\n",
       "    <tr>\n",
       "      <th>2024-01-23</th>\n",
       "      <td>100.500000</td>\n",
       "      <td>102.940002</td>\n",
       "      <td>99.540001</td>\n",
       "      <td>101.919998</td>\n",
       "      <td>101.919998</td>\n",
       "      <td>2818600</td>\n",
       "    </tr>\n",
       "    <tr>\n",
       "      <th>2024-01-24</th>\n",
       "      <td>103.199997</td>\n",
       "      <td>104.269997</td>\n",
       "      <td>101.010002</td>\n",
       "      <td>101.110001</td>\n",
       "      <td>101.110001</td>\n",
       "      <td>2595600</td>\n",
       "    </tr>\n",
       "  </tbody>\n",
       "</table>\n",
       "<p>672 rows × 6 columns</p>\n",
       "</div>"
      ],
      "text/plain": [
       "                  Open        High         Low       Close   Adj Close  \\\n",
       "Date                                                                     \n",
       "2021-05-24  162.880997  166.800003  161.009995  164.169998  164.169998   \n",
       "2021-05-25  166.559998  171.740005  165.100006  169.259995  169.259995   \n",
       "2021-05-26  168.699997  175.619995  168.509995  175.589996  175.589996   \n",
       "2021-05-27  174.199997  180.000000  173.630005  179.539993  179.539993   \n",
       "2021-05-28  178.623001  186.639999  178.360001  185.009995  185.009995   \n",
       "...                ...         ...         ...         ...         ...   \n",
       "2024-01-18  100.010002  100.010002   96.650002   99.070000   99.070000   \n",
       "2024-01-19   98.430000  100.440002   97.080002   99.699997   99.699997   \n",
       "2024-01-22  100.250000  102.970001   98.599998   99.699997   99.699997   \n",
       "2024-01-23  100.500000  102.940002   99.540001  101.919998  101.919998   \n",
       "2024-01-24  103.199997  104.269997  101.010002  101.110001  101.110001   \n",
       "\n",
       "              Volume  \n",
       "Date                  \n",
       "2021-05-24   4501300  \n",
       "2021-05-25   7759900  \n",
       "2021-05-26   6885200  \n",
       "2021-05-27  10844900  \n",
       "2021-05-28   8567200  \n",
       "...              ...  \n",
       "2024-01-18   3781800  \n",
       "2024-01-19   3732000  \n",
       "2024-01-22   3403300  \n",
       "2024-01-23   2818600  \n",
       "2024-01-24   2595600  \n",
       "\n",
       "[672 rows x 6 columns]"
      ]
     },
     "execution_count": 13,
     "metadata": {},
     "output_type": "execute_result"
    }
   ],
   "source": [
    "ticker"
   ]
  },
  {
   "cell_type": "code",
   "execution_count": 10,
   "id": "aa409a6d-997b-4b90-abd2-76af3c6ea559",
   "metadata": {},
   "outputs": [],
   "source": [
    "GetMRNAInfo = yf.Ticker('MRNA')"
   ]
  },
  {
   "cell_type": "code",
   "execution_count": 7,
   "id": "705076eb-eeda-49ed-95c0-9bcead418be9",
   "metadata": {},
   "outputs": [
    {
     "name": "stdout",
     "output_type": "stream",
     "text": [
      "Company Sector:  Healthcare\n"
     ]
    }
   ],
   "source": [
    "print(\"Company Sector: \",GetMRNAInfo.info['sector'])"
   ]
  },
  {
   "cell_type": "code",
   "execution_count": 8,
   "id": "bbaf0fea-a786-4441-a362-66daf48d72a3",
   "metadata": {},
   "outputs": [
    {
     "ename": "KeyError",
     "evalue": "'trailingPE'",
     "output_type": "error",
     "traceback": [
      "\u001b[0;31m---------------------------------------------------------------------------\u001b[0m",
      "\u001b[0;31mKeyError\u001b[0m                                  Traceback (most recent call last)",
      "Cell \u001b[0;32mIn[8], line 1\u001b[0m\n\u001b[0;32m----> 1\u001b[0m \u001b[38;5;28mprint\u001b[39m(\u001b[38;5;124m\"\u001b[39m\u001b[38;5;124mPrice Earnings Ratio: \u001b[39m\u001b[38;5;124m\"\u001b[39m, \u001b[43mGetMRNAInfo\u001b[49m\u001b[38;5;241;43m.\u001b[39;49m\u001b[43minfo\u001b[49m\u001b[43m[\u001b[49m\u001b[38;5;124;43m'\u001b[39;49m\u001b[38;5;124;43mtrailingPE\u001b[39;49m\u001b[38;5;124;43m'\u001b[39;49m\u001b[43m]\u001b[49m)\n",
      "\u001b[0;31mKeyError\u001b[0m: 'trailingPE'"
     ]
    }
   ],
   "source": [
    "print(\"Price Earnings Ratio: \", GetMRNAInfo.info['trailingPE'])"
   ]
  },
  {
   "cell_type": "code",
   "execution_count": 14,
   "id": "40ca7eee-c751-4e22-a768-4274b1d25423",
   "metadata": {},
   "outputs": [
    {
     "name": "stdout",
     "output_type": "stream",
     "text": [
      "Company Beta:  1.651\n"
     ]
    }
   ],
   "source": [
    "print(\"Company Beta: \", GetMRNAInfo.info['beta'])"
   ]
  },
  {
   "cell_type": "code",
   "execution_count": 15,
   "id": "87c1397d-8505-4faf-91b3-ea1de2374dc9",
   "metadata": {},
   "outputs": [
    {
     "name": "stdout",
     "output_type": "stream",
     "text": [
      "address1 : 200 Technology Square\n",
      "city : Cambridge\n",
      "state : MA\n",
      "zip : 02139\n",
      "country : United States\n",
      "phone : 617 714 6500\n",
      "website : https://www.modernatx.com\n",
      "industry : Biotechnology\n",
      "industryKey : biotechnology\n",
      "industryDisp : Biotechnology\n",
      "sector : Healthcare\n",
      "sectorKey : healthcare\n",
      "sectorDisp : Healthcare\n",
      "longBusinessSummary : Moderna, Inc., a biotechnology company, discovers, develops, and commercializes messenger RNA therapeutics and vaccines for the treatment of infectious diseases, immuno-oncology, rare diseases, autoimmune, and cardiovascular diseases in the United States, Europe, and internationally. Its respiratory vaccines include COVID-19, influenza, respiratory syncytial virus, spikevax, and hMPV/PIV3 vaccines; latent vaccines comprise cytomegalovirus, epstein-barr virus, herpes simplex virus, varicella-zoster virus, and human immunodeficiency virus vaccines; and public health vaccines consists of Zika and Nipah vaccines. The company also offers systemic secreted and cell surface therapeutics; cancer vaccines, such as personalized cancer, KRAS, and checkpoint vaccines; intratumoral immuno-oncology products; localized regenerative, systemic intracellular, and inhaled pulmonary therapeutics. It has strategic alliances and collaborations with AstraZeneca; Merck; Vertex Pharmaceuticals Incorporated; Vertex Pharmaceuticals (Europe) Limited; Chiesi Farmaceutici S.p.A.; Metagenomi, Inc.; Carisma Therapeutics, Inc.; CytomX Therapeutics; Defense Advanced Research Projects Agency; Biomedical Advanced Research and Development Authority; Institute for Life Changing Medicines; and The Bill & Melinda Gates Foundation, as well as a strategic partnership with Caris Life Sciences to advance mRNA-Based oncology therapeutics. The company was formerly known as Moderna Therapeutics, Inc. and changed its name to Moderna, Inc. in August 2018. Moderna, Inc. was founded in 2010 and is headquartered in Cambridge, Massachusetts.\n",
      "fullTimeEmployees : 3900\n",
      "companyOfficers : [{'maxAge': 1, 'name': 'Mr. Stephane  Bancel', 'age': 50, 'title': 'CEO & Director', 'yearBorn': 1973, 'fiscalYear': 2022, 'totalPay': 4974639, 'exercisedValue': 392583584, 'unexercisedValue': 1314587520}, {'maxAge': 1, 'name': 'Dr. Stephen  Hoge M.D.', 'age': 47, 'title': 'President', 'yearBorn': 1976, 'fiscalYear': 2022, 'totalPay': 2411581, 'exercisedValue': 56523360, 'unexercisedValue': 557569280}, {'maxAge': 1, 'name': 'Mr. James M. Mock', 'age': 46, 'title': 'Chief Financial Officer', 'yearBorn': 1977, 'fiscalYear': 2022, 'totalPay': 1491856, 'exercisedValue': 0, 'unexercisedValue': 0}, {'maxAge': 1, 'name': 'Dr. Jerh  Collins Ph.D.', 'age': 57, 'title': 'Chief Technical Operations & Quality Officer', 'yearBorn': 1966, 'fiscalYear': 2022, 'exercisedValue': 0, 'unexercisedValue': 0}, {'maxAge': 1, 'name': 'Dr. Melissa J. Moore Ph.D.', 'title': 'Chief Scientific Officer & Member of Scientific Advisory Board', 'fiscalYear': 2022, 'exercisedValue': 0, 'unexercisedValue': 0}, {'maxAge': 1, 'name': 'Mr. Brad  Miller', 'age': 50, 'title': 'Chief Information Officer', 'yearBorn': 1973, 'fiscalYear': 2022, 'exercisedValue': 0, 'unexercisedValue': 0}, {'maxAge': 1, 'name': 'Ms. Lavina  Talukdar CFA', 'title': 'Senior VP & Head of Investor Relations', 'fiscalYear': 2022, 'exercisedValue': 0, 'unexercisedValue': 0}, {'maxAge': 1, 'name': 'Ms. Shannon Thyme Klinger', 'age': 52, 'title': 'Chief Legal Officer & Corporate Secretary', 'yearBorn': 1971, 'fiscalYear': 2022, 'totalPay': 1761250, 'exercisedValue': 0, 'unexercisedValue': 0}, {'maxAge': 1, 'name': 'Colleen  Hussey', 'title': 'Senior Director of Corporate Communications', 'fiscalYear': 2022, 'exercisedValue': 0, 'unexercisedValue': 0}, {'maxAge': 1, 'name': 'Ms. Tracey  Franklin', 'age': 43, 'title': 'Chief Human Resources Officer', 'yearBorn': 1980, 'fiscalYear': 2022, 'exercisedValue': 0, 'unexercisedValue': 0}]\n",
      "auditRisk : 8\n",
      "boardRisk : 9\n",
      "compensationRisk : 9\n",
      "shareHolderRightsRisk : 10\n",
      "overallRisk : 10\n",
      "governanceEpochDate : 1706745600\n",
      "compensationAsOfEpochDate : 1672444800\n",
      "maxAge : 86400\n",
      "priceHint : 2\n",
      "previousClose : 99.02\n",
      "open : 97.39\n",
      "dayLow : 95.3\n",
      "dayHigh : 98.21\n",
      "regularMarketPreviousClose : 99.02\n",
      "regularMarketOpen : 97.39\n",
      "regularMarketDayLow : 95.3\n",
      "regularMarketDayHigh : 98.21\n",
      "beta : 1.651\n",
      "forwardPE : -14.19214\n",
      "volume : 3352347\n",
      "regularMarketVolume : 3352347\n",
      "averageVolume : 4742219\n",
      "averageVolume10days : 2915520\n",
      "averageDailyVolume10Day : 2915520\n",
      "bidSize : 1400\n",
      "askSize : 800\n",
      "marketCap : 37175189504\n",
      "fiftyTwoWeekLow : 62.55\n",
      "fiftyTwoWeekHigh : 177.37\n",
      "priceToSalesTrailing12Months : 4.07578\n",
      "fiftyDayAverage : 93.6211\n",
      "twoHundredDayAverage : 106.475624\n",
      "currency : USD\n",
      "enterpriseValue : 31057188864\n",
      "profitMargins : -0.38\n",
      "floatShares : 344028737\n",
      "sharesOutstanding : 381284000\n",
      "sharesShort : 23065749\n",
      "sharesShortPriorMonth : 21884094\n",
      "sharesShortPreviousMonthDate : 1702598400\n",
      "dateShortInterest : 1705017600\n",
      "sharesPercentSharesOut : 0.060500003\n",
      "heldPercentInsiders : 0.0963\n",
      "heldPercentInstitutions : 0.693\n",
      "shortRatio : 3.24\n",
      "shortPercentOfFloat : 0.0805\n",
      "impliedSharesOutstanding : 381284000\n",
      "bookValue : 35.315\n",
      "priceToBook : 2.7608666\n",
      "lastFiscalYearEnd : 1672444800\n",
      "nextFiscalYearEnd : 1703980800\n",
      "mostRecentQuarter : 1696032000\n",
      "netIncomeToCommon : -3465999872\n",
      "trailingEps : -9.23\n",
      "forwardEps : -6.87\n",
      "pegRatio : 0.13\n",
      "enterpriseToRevenue : 3.405\n",
      "enterpriseToEbitda : -14.338\n",
      "52WeekChange : -0.42738003\n",
      "SandP52WeekChange : 0.20615757\n",
      "exchange : NMS\n",
      "quoteType : EQUITY\n",
      "symbol : MRNA\n",
      "underlyingSymbol : MRNA\n",
      "shortName : Moderna, Inc.\n",
      "longName : Moderna, Inc.\n",
      "firstTradeDateEpochUtc : 1544193000\n",
      "timeZoneFullName : America/New_York\n",
      "timeZoneShortName : EST\n",
      "uuid : 210c0d72-66a5-36d2-944f-611b6274a1fc\n",
      "messageBoardId : finmb_128680956\n",
      "gmtOffSetMilliseconds : -18000000\n",
      "currentPrice : 97.5\n",
      "targetHighPrice : 310.0\n",
      "targetLowPrice : 60.0\n",
      "targetMeanPrice : 129.29\n",
      "targetMedianPrice : 119.0\n",
      "recommendationMean : 2.4\n",
      "recommendationKey : buy\n",
      "numberOfAnalystOpinions : 20\n",
      "totalCash : 7573000192\n",
      "totalCashPerShare : 19.862\n",
      "ebitda : -2166000128\n",
      "totalDebt : 1455000064\n",
      "quickRatio : 2.216\n",
      "currentRatio : 2.463\n",
      "totalRevenue : 9121000448\n",
      "debtToEquity : 10.814\n",
      "revenuePerShare : 23.784\n",
      "returnOnAssets : -0.0732\n",
      "returnOnEquity : -0.22042999\n",
      "freeCashflow : -1105874944\n",
      "operatingCashflow : -2078000000\n",
      "revenueGrowth : -0.456\n",
      "grossMargins : -0.13277\n",
      "ebitdaMargins : -0.23747\n",
      "operatingMargins : -1.09885\n",
      "financialCurrency : USD\n",
      "trailingPegRatio : None\n"
     ]
    }
   ],
   "source": [
    "for key, value in GetMRNAInfo.info.items():\n",
    "    print(key, \":\", value)"
   ]
  },
  {
   "cell_type": "code",
   "execution_count": 16,
   "id": "d202ca9c-dd19-4da8-b976-3695205c6a92",
   "metadata": {},
   "outputs": [],
   "source": [
    "from pathlib import Path\n",
    "import os"
   ]
  },
  {
   "cell_type": "code",
   "execution_count": 17,
   "id": "f3634b7c-0afd-4a30-ab6f-cb107d5e5fa2",
   "metadata": {},
   "outputs": [],
   "source": [
    "import numpy as np\n",
    "import pandas as pd\n",
    "import matplotlib.pyplot as plt\n",
    "import seaborn as sns"
   ]
  },
  {
   "cell_type": "code",
   "execution_count": 18,
   "id": "ff35b03e-fe38-4669-b7ed-eed9a390fe22",
   "metadata": {},
   "outputs": [
    {
     "name": "stderr",
     "output_type": "stream",
     "text": [
      "[*********************100%%**********************]  1 of 1 completed\n"
     ]
    }
   ],
   "source": [
    "MRNAdata = yf.download(\"MRNA\", period='730d', interval='60m')"
   ]
  },
  {
   "cell_type": "code",
   "execution_count": 24,
   "id": "03b6aaaa-0b5a-4322-a192-d8344f964016",
   "metadata": {},
   "outputs": [],
   "source": [
    "path1 = 'E:/Desktop/Extracurriculars/Projects & Competitions/DS Guidelight/MRNAdata.csv'\n",
    "isExist = os.path.exists(path1)"
   ]
  },
  {
   "cell_type": "code",
   "execution_count": 26,
   "id": "7a920c14-03a4-4400-85c4-8e2e687dd5e2",
   "metadata": {},
   "outputs": [],
   "source": [
    "if isExist: # load the data if the file exists\n",
    "    HourlyPrice = pd.read_csv(path1)\n",
    "    \n",
    "else: # otherwise, set a path to convert data into a csv file\n",
    "    SetPath1 = Path(path1)\n",
    "    SetPath1.parent.mkdir(parents=True, exist_ok=True)  \n",
    "    MRNAdata.to_csv(SetPath1)"
   ]
  },
  {
   "cell_type": "code",
   "execution_count": 27,
   "id": "de1f5ee0-f918-4cc2-84d7-0abdf26ba0a5",
   "metadata": {},
   "outputs": [
    {
     "name": "stdout",
     "output_type": "stream",
     "text": [
      "              Datetime        Open        High         Low       Close  \\\n",
      "0  2021-03-11 09:30:00  132.981796  134.850006  131.520004  133.460007   \n",
      "1  2021-03-11 10:30:00  133.380005  137.580002  133.380005  136.889999   \n",
      "2  2021-03-11 11:30:00  137.000000  139.630005  136.750000  138.750000   \n",
      "3  2021-03-11 12:30:00  138.779999  139.500000  137.690002  138.330002   \n",
      "4  2021-03-11 13:30:00  138.440002  139.850006  138.100006  138.809998   \n",
      "5  2021-03-11 14:30:00  138.798492  140.740005  138.729996  140.548004   \n",
      "6  2021-03-11 15:30:00  140.630005  140.850006  139.699997  140.470001   \n",
      "7  2021-03-12 09:30:00  134.039993  138.742401  133.199997  135.279999   \n",
      "8  2021-03-12 10:30:00  135.330002  136.380005  133.889999  134.630005   \n",
      "9  2021-03-12 11:30:00  134.800003  136.399994  133.899994  136.139999   \n",
      "\n",
      "    Adj Close   Volume  \n",
      "0  133.460007  1637994  \n",
      "1  136.889999  1224227  \n",
      "2  138.750000  1212496  \n",
      "3  138.330002   738733  \n",
      "4  138.809998   629100  \n",
      "5  140.548004   893568  \n",
      "6  140.470001  1070649  \n",
      "7  135.279999  1542414  \n",
      "8  134.630005   779350  \n",
      "9  136.139999   636343  \n"
     ]
    }
   ],
   "source": [
    "print(HourlyPrice.head(10))"
   ]
  },
  {
   "cell_type": "code",
   "execution_count": 28,
   "id": "859a3c21-88b8-474f-8169-af4111ffbbed",
   "metadata": {},
   "outputs": [
    {
     "name": "stdout",
     "output_type": "stream",
     "text": [
      "              Open         High          Low        Close    Adj Close  \\\n",
      "count  5094.000000  5094.000000  5094.000000  5094.000000  5094.000000   \n",
      "mean    175.340065   177.033836   173.747577   175.410235   175.410235   \n",
      "std      82.730425    83.782955    81.749102    82.811738    82.811738   \n",
      "min      64.349998    69.135002    62.549999    68.035004    68.035004   \n",
      "25%     125.482502   126.372501   124.788853   125.523748   125.523748   \n",
      "50%     150.364998   151.960007   149.025505   150.440002   150.440002   \n",
      "75%     187.110004   188.664997   185.282501   187.169998   187.169998   \n",
      "max     488.625000   497.489990   481.399994   488.501709   488.501709   \n",
      "\n",
      "             Volume  \n",
      "count  5.094000e+03  \n",
      "mean   9.596257e+05  \n",
      "std    1.282873e+06  \n",
      "min    0.000000e+00  \n",
      "25%    3.548628e+05  \n",
      "50%    5.797315e+05  \n",
      "75%    1.037922e+06  \n",
      "max    1.904331e+07  \n"
     ]
    }
   ],
   "source": [
    "print(HourlyPrice.describe())"
   ]
  },
  {
   "cell_type": "code",
   "execution_count": 31,
   "id": "5c28784e-a301-4059-8135-baaa6a652410",
   "metadata": {},
   "outputs": [
    {
     "name": "stdout",
     "output_type": "stream",
     "text": [
      "Datetime     0\n",
      "Open         0\n",
      "High         0\n",
      "Low          0\n",
      "Close        0\n",
      "Adj Close    0\n",
      "Volume       0\n",
      "dtype: int64\n"
     ]
    }
   ],
   "source": [
    "print(HourlyPrice.isnull().sum())"
   ]
  },
  {
   "cell_type": "code",
   "execution_count": 29,
   "id": "41e3d8b9-f68a-4204-8aa3-e1bba7458224",
   "metadata": {},
   "outputs": [],
   "source": [
    "from sklearn.linear_model import LinearRegression"
   ]
  },
  {
   "cell_type": "code",
   "execution_count": 30,
   "id": "006d226d-b0ca-4d68-934a-2ab877665d87",
   "metadata": {},
   "outputs": [
    {
     "data": {
      "image/png": "[encoded data removed]",
      "text/plain": [
       "<Figure size 1500x480 with 1 Axes>"
      ]
     },
     "metadata": {},
     "output_type": "display_data"
    }
   ],
   "source": [
    "# set x-axis to be volume, y-axis to be high \n",
    "x = HourlyPrice[['Volume']]\n",
    "y = HourlyPrice[['High']]\n",
    "linear_model = LinearRegression().fit(x, y)\n",
    "\n",
    "# graph a linear regression plot\n",
    "fig, axes = plt.subplots(nrows=1, ncols=1)\n",
    "fig.set_figwidth(15)\n",
    "axes.scatter(x, y)\n",
    "axes.plot(x, linear_model.predict(x), color='red')\n",
    "plt.show()"
   ]
  },
  {
   "cell_type": "code",
   "execution_count": null,
   "id": "7fb67991-7e8b-4abf-aeef-ed68e1fe0f27",
   "metadata": {},
   "outputs": [],
   "source": []
  }
 ],
 "metadata": {
  "kernelspec": {
   "display_name": "Python 3 (ipykernel)",
   "language": "python",
   "name": "python3"
  },
  "language_info": {
   "codemirror_mode": {
    "name": "ipython",
    "version": 3
   },
   "file_extension": ".py",
   "mimetype": "text/x-python",
   "name": "python",
   "nbconvert_exporter": "python",
   "pygments_lexer": "ipython3",
   "version": "3.11.5"
  }
 },
 "nbformat": 4,
 "nbformat_minor": 5
}
