{
 "cells": [
  {
   "cell_type": "code",
   "execution_count": 2,
   "metadata": {},
   "outputs": [],
   "source": [
    "import yfinance as yf\n",
    "from datetime import datetime"
   ]
  },
  {
   "cell_type": "code",
   "execution_count": 3,
   "metadata": {},
   "outputs": [],
   "source": [
    "# pharma companies used for training\n",
    "pharma_list = ['BIIB', 'JNJ', 'PFE', 'ABBV']\n",
    "# end time \n",
    "end = datetime.now()\n",
    "start = datetime(end.year-5, end.month, end.day)"
   ]
  },
  {
   "cell_type": "code",
   "execution_count": 4,
   "metadata": {},
   "outputs": [
    {
     "name": "stderr",
     "output_type": "stream",
     "text": [
      "/Users/brad/.local/share/virtualenvs/guidelight-Popvxsqg/lib/python3.11/site-packages/yfinance/utils.py:775: FutureWarning: The 'unit' keyword in TimedeltaIndex construction is deprecated and will be removed in a future version. Use pd.to_timedelta instead.\n",
      "  df.index += _pd.TimedeltaIndex(dst_error_hours, 'h')\n",
      "[*********************100%%**********************]  1 of 1 completed\n",
      "/Users/brad/.local/share/virtualenvs/guidelight-Popvxsqg/lib/python3.11/site-packages/yfinance/utils.py:775: FutureWarning: The 'unit' keyword in TimedeltaIndex construction is deprecated and will be removed in a future version. Use pd.to_timedelta instead.\n",
      "  df.index += _pd.TimedeltaIndex(dst_error_hours, 'h')\n",
      "[*********************100%%**********************]  1 of 1 completed\n",
      "/Users/brad/.local/share/virtualenvs/guidelight-Popvxsqg/lib/python3.11/site-packages/yfinance/utils.py:775: FutureWarning: The 'unit' keyword in TimedeltaIndex construction is deprecated and will be removed in a future version. Use pd.to_timedelta instead.\n",
      "  df.index += _pd.TimedeltaIndex(dst_error_hours, 'h')\n",
      "[*********************100%%**********************]  1 of 1 completed\n",
      "/Users/brad/.local/share/virtualenvs/guidelight-Popvxsqg/lib/python3.11/site-packages/yfinance/utils.py:775: FutureWarning: The 'unit' keyword in TimedeltaIndex construction is deprecated and will be removed in a future version. Use pd.to_timedelta instead.\n",
      "  df.index += _pd.TimedeltaIndex(dst_error_hours, 'h')\n",
      "[*********************100%%**********************]  1 of 1 completed\n"
     ]
    },
    {
     "data": {
      "text/plain": [
       "{'BIIB':                   Open        High         Low       Close   Adj Close  \\\n",
       " Date                                                                     \n",
       " 2019-03-04  335.600006  336.570007  324.440002  327.260010  327.260010   \n",
       " 2019-03-05  327.750000  330.119995  325.040009  326.869995  326.869995   \n",
       " 2019-03-06  327.489990  328.410004  317.839996  317.970001  317.970001   \n",
       " 2019-03-07  317.109985  318.000000  314.179993  315.290009  315.290009   \n",
       " 2019-03-08  312.290009  313.329987  305.899994  307.929993  307.929993   \n",
       " ...                ...         ...         ...         ...         ...   \n",
       " 2024-02-27  223.720001  224.869995  220.199997  223.940002  223.940002   \n",
       " 2024-02-28  222.250000  224.119995  221.000000  221.740005  221.740005   \n",
       " 2024-02-29  221.759995  224.000000  216.699997  216.990005  216.990005   \n",
       " 2024-03-01  217.460007  222.020004  215.350006  220.949997  220.949997   \n",
       " 2024-03-04  221.169998  222.919998  219.759995  221.020004  221.020004   \n",
       " \n",
       "              Volume  \n",
       " Date                 \n",
       " 2019-03-04  1046900  \n",
       " 2019-03-05  1020400  \n",
       " 2019-03-06  1007800  \n",
       " 2019-03-07  1078700  \n",
       " 2019-03-08  1602100  \n",
       " ...             ...  \n",
       " 2024-02-27   983100  \n",
       " 2024-02-28  1038400  \n",
       " 2024-02-29  1917800  \n",
       " 2024-03-01  1085400  \n",
       " 2024-03-04  1083600  \n",
       " \n",
       " [1260 rows x 6 columns],\n",
       " 'JNJ':                   Open        High         Low       Close   Adj Close  \\\n",
       " Date                                                                     \n",
       " 2019-03-04  138.850006  139.410004  137.509995  138.479996  120.835808   \n",
       " 2019-03-05  138.809998  139.139999  138.360001  138.770004  121.088852   \n",
       " 2019-03-06  139.470001  139.649994  138.600006  139.089996  121.368057   \n",
       " 2019-03-07  138.529999  139.119995  137.699997  138.240005  120.626373   \n",
       " 2019-03-08  138.089996  139.300003  136.419998  138.059998  120.469299   \n",
       " ...                ...         ...         ...         ...         ...   \n",
       " 2024-02-27  160.339996  161.039993  159.639999  160.979996  160.979996   \n",
       " 2024-02-28  161.000000  161.610001  160.289993  161.550003  161.550003   \n",
       " 2024-02-29  162.000000  162.190002  160.940002  161.380005  161.380005   \n",
       " 2024-03-01  161.830002  162.570007  161.089996  162.119995  162.119995   \n",
       " 2024-03-04  161.320007  161.610001  158.270004  159.839996  159.839996   \n",
       " \n",
       "              Volume  \n",
       " Date                 \n",
       " 2019-03-04  8377700  \n",
       " 2019-03-05  6568900  \n",
       " 2019-03-06  6236900  \n",
       " 2019-03-07  6100400  \n",
       " 2019-03-08  7046700  \n",
       " ...             ...  \n",
       " 2024-02-27  5078600  \n",
       " 2024-02-28  6071100  \n",
       " 2024-02-29  9849100  \n",
       " 2024-03-01  5668000  \n",
       " 2024-03-04  8532900  \n",
       " \n",
       " [1260 rows x 6 columns],\n",
       " 'PFE':                  Open       High        Low      Close  Adj Close    Volume\n",
       " Date                                                                       \n",
       " 2019-03-04  41.214420  41.356735  40.683113  40.863377  33.541576  22805820\n",
       " 2019-03-05  40.882355  41.034157  40.654648  40.692600  33.401398  26529812\n",
       " 2019-03-06  40.626186  40.673622  39.487667  39.715370  32.599266  22410359\n",
       " 2019-03-07  39.715370  39.743832  39.136623  39.269451  32.233250  29046132\n",
       " 2019-03-08  39.212524  39.316887  38.273247  38.795067  31.843861  31306119\n",
       " ...               ...        ...        ...        ...        ...       ...\n",
       " 2024-02-27  27.120001  27.200001  26.809999  26.889999  26.889999  38598400\n",
       " 2024-02-28  26.959999  27.240000  26.820000  27.040001  27.040001  31010200\n",
       " 2024-02-29  27.070000  27.190001  26.549999  26.559999  26.559999  54643200\n",
       " 2024-03-01  26.830000  26.900000  26.510000  26.590000  26.590000  46213600\n",
       " 2024-03-04  26.299999  26.459999  25.610001  25.889999  25.889999  86650300\n",
       " \n",
       " [1260 rows x 6 columns],\n",
       " 'ABBV':                   Open        High         Low       Close   Adj Close  \\\n",
       " Date                                                                     \n",
       " 2019-03-04   80.400002   80.730003   79.110001   79.459999   63.080208   \n",
       " 2019-03-05   79.379997   79.900002   78.720001   78.910004   62.643585   \n",
       " 2019-03-06   79.129997   79.129997   77.559998   78.089996   61.992615   \n",
       " 2019-03-07   77.769997   79.120003   77.440002   78.239998   62.111683   \n",
       " 2019-03-08   77.669998   78.040001   77.089996   77.580002   61.587742   \n",
       " ...                ...         ...         ...         ...         ...   \n",
       " 2024-02-27  178.770004  179.529999  176.979996  178.990005  178.990005   \n",
       " 2024-02-28  179.850006  179.889999  176.889999  178.000000  178.000000   \n",
       " 2024-02-29  177.869995  178.020004  175.389999  176.050003  176.050003   \n",
       " 2024-03-01  176.050003  179.190002  175.750000  178.910004  178.910004   \n",
       " 2024-03-04  178.350006  179.979996  176.279999  177.050003  177.050003   \n",
       " \n",
       "              Volume  \n",
       " Date                 \n",
       " 2019-03-04  5872500  \n",
       " 2019-03-05  5933100  \n",
       " 2019-03-06  5293200  \n",
       " 2019-03-07  6642500  \n",
       " 2019-03-08  6189100  \n",
       " ...             ...  \n",
       " 2024-02-27  3888500  \n",
       " 2024-02-28  4331300  \n",
       " 2024-02-29  7485700  \n",
       " 2024-03-01  4028700  \n",
       " 2024-03-04  4723300  \n",
       " \n",
       " [1260 rows x 6 columns]}"
      ]
     },
     "execution_count": 4,
     "metadata": {},
     "output_type": "execute_result"
    }
   ],
   "source": [
    "companies = {company : yf.download(company, start=start, end=end) for company in pharma_list}\n",
    "companies"
   ]
  },
  {
   "cell_type": "code",
   "execution_count": 5,
   "metadata": {},
   "outputs": [],
   "source": [
    "from torch import nn\n",
    "import torch"
   ]
  },
  {
   "cell_type": "code",
   "execution_count": 6,
   "metadata": {},
   "outputs": [],
   "source": [
    "import seaborn as sns"
   ]
  },
  {
   "cell_type": "code",
   "execution_count": 7,
   "metadata": {},
   "outputs": [
    {
     "data": {
      "text/plain": [
       "<Axes: xlabel='Date', ylabel='Adj Close'>"
      ]
     },
     "execution_count": 7,
     "metadata": {},
     "output_type": "execute_result"
    },
    {
     "data": {
      "image/png": "[encoded data removed]",
      "text/plain": [
       "<Figure size 640x480 with 1 Axes>"
      ]
     },
     "metadata": {},
     "output_type": "display_data"
    }
   ],
   "source": [
    "pfe = companies[\"PFE\"][\"Adj Close\"]\n",
    "sns.lineplot(data=pfe)"
   ]
  },
  {
   "cell_type": "code",
   "execution_count": 8,
   "metadata": {},
   "outputs": [],
   "source": [
    "def robust_scale(data: torch.Tensor, axis: int = 0):\n",
    "\tIQR3 = torch.quantile(data, 0.75, dim=axis, keepdims=True)\n",
    "\tIQR1 = torch.quantile(data, 0.25, dim=axis, keepdims=True)\n",
    "\treturn (data - torch.median(data)) / (IQR3 - IQR1)"
   ]
  },
  {
   "cell_type": "code",
   "execution_count": 9,
   "metadata": {},
   "outputs": [],
   "source": [
    "# scale the data\n",
    "scaled = robust_scale(torch.tensor(pfe.values).float())"
   ]
  },
  {
   "cell_type": "code",
   "execution_count": 10,
   "metadata": {},
   "outputs": [],
   "source": [
    "train_size = int(0.8 * len(scaled))\n",
    "train_data, test_data = torch.split(scaled, [train_size, len(scaled) - train_size])\n",
    "\n",
    "window_size = 60\n",
    "# time window\n",
    "train_x = train_data.unfold(0, window_size, 1)\n",
    "\n",
    "# actual resulte\n",
    "train_y = train_data[window_size:]"
   ]
  },
  {
   "cell_type": "code",
   "execution_count": 11,
   "metadata": {},
   "outputs": [],
   "source": [
    "#A simple demo for LSTM for stock prediction \n",
    "\n",
    "\n",
    "class StockLSTM(nn.Module):\n",
    "\tdef __init__(self):\n",
    "\t\tsuper(StockLSTM, self).__init__()\n",
    "\t\t# utilizing 3 layers of LSTM\n",
    "\t\tself.lstms = nn.ModuleList([\n",
    "            nn.LSTM(128, hidden_size=64, batch_first=True),\n",
    "            nn.LSTM(64, hidden_size=64, batch_first=True),\n",
    "            nn.LSTM(32, hidden_size=16, batch_first=True)  # Ensure consistency in input_size\n",
    "        ])\n",
    "\t\tself.dropouts = nn.ModuleList([nn.Dropout(0.5) for _ in range(2)])\n",
    "\n",
    "\t\tself.linear = nn.Linear(16, 1)\n",
    "\t\t\n",
    "\t\n",
    "\tdef forward(self,x):\n",
    "\t\t\n",
    "\t\t# since we would only need the last output of the LSTM\n",
    "\t\tdevice = torch.device(\"cuda\" if torch.cuda.is_available() else \"cpu\")\n",
    "\t\tx = x.to(device)\n",
    "\t\tfor i in range(len(self.lstms)):\n",
    "\t\t\tx, _ = self.lstms[i](x)\n",
    "\t\t\tif i < len(self.dropouts):\n",
    "\t\t\t\tx = self.dropouts[i](x)\n",
    "\t\tx = x[-1, :]\n",
    "\t\tx = self.linear(x)\n",
    "\t\t\n",
    "\t\treturn x\n",
    "\t# torch.to for moving the tensor to the device\n",
    "\n",
    "\t\n",
    "\tdef train_loop(self, train_x, train_y, val_x, val_y):\n",
    "\t\t# chooses gpu if available, otherwise cpu\n",
    "\t\tdevice = torch.device(\"cuda\" if torch.cuda.is_available() else \"cpu\")\n",
    "\t\t# chose the adam optimizer for the gradient descent\n",
    "\t\ttrain_x, train_y = train_x.to(device), train_y.to(device)\n",
    "\t\tval_x, val_y = val_x.to(device), val_y.to(device)\n",
    "\t\toptimizer = torch.optim.Adam(self.parameters(), lr=0.01)\n",
    "\t\t# currently using MSE loss function to fit the model ()\n",
    "\t\tloss_fn = nn.MSELoss()\n",
    "\n",
    "\t\t# training the model for 100 epochs\n",
    "\t\tfor epoch in range(100):\n",
    "\t\t\t# set to training mode\n",
    "\t\t\tself.train()\n",
    "\n",
    "\t\t\t# zero the gradients otherwise they would accumulate\n",
    "\t\t\toptimizer.zero_grad()\n",
    "\t\t\tpred = self(train_x)\n",
    "\t\t\tloss = loss_fn(pred, train_y)\n",
    "\t\t\tloss.backward()\n",
    "\t\t\toptimizer.step()\n",
    "\n",
    "\n",
    "\t\t\t# set to evaluation mode\n",
    "\t\t\tself.eval()\n",
    "\t\t\twith torch.no_grad():  # Inference mode, gradients not computed\n",
    "\t\t\t\tval_pred = self(val_x)\n",
    "\t\t\t\tval_loss = loss_fn(val_pred, val_y)\n",
    "\t\t\t\n",
    "\t\t\tprint(f'Epoch {epoch} loss: {loss.item()}', f'Validation loss: {val_loss.item()}')\n",
    "\n",
    "\tdef test_loss(self, test_x, test_y):\n",
    "\t\tself.eval()\n",
    "\t\twith torch.no_grad():\n",
    "\t\t\tpred = self(test_x)\n",
    "\t\t\tloss_fn = nn.MSELoss()\n",
    "\t\t\tloss = loss_fn(pred, test_y)\n",
    "\t\t\tprint(f'Test loss: {loss.item()}')\n"
   ]
  },
  {
   "cell_type": "code",
   "execution_count": 12,
   "metadata": {},
   "outputs": [
    {
     "ename": "",
     "evalue": "",
     "output_type": "error",
     "traceback": [
      "\u001b[1;31mThe Kernel crashed while executing code in the current cell or a previous cell. \n",
      "\u001b[1;31mPlease review the code in the cell(s) to identify a possible cause of the failure. \n",
      "\u001b[1;31mClick <a href='https://aka.ms/vscodeJupyterKernelCrash'>here</a> for more info. \n",
      "\u001b[1;31mView Jupyter <a href='command:jupyter.viewOutput'>log</a> for further details."
     ]
    }
   ],
   "source": [
    "model = StockLSTM()\n",
    "model.train_loop(train_x, train_y, train_x, train_y)\n",
    "\n",
    "\n",
    "# test the model\n",
    "test_x = test_data.unfold(0, window_size, 1)\n",
    "test_y = test_data[window_size:]\n",
    "# set to evaluation mode\n",
    "model.eval()"
   ]
  },
  {
   "cell_type": "code",
   "execution_count": null,
   "metadata": {},
   "outputs": [
    {
     "name": "stdout",
     "output_type": "stream",
     "text": [
      "Test loss: 0.2800949811935425\n"
     ]
    },
    {
     "name": "stderr",
     "output_type": "stream",
     "text": [
      "/Users/brad/.local/share/virtualenvs/guidelight-Popvxsqg/lib/python3.11/site-packages/torch/nn/modules/loss.py:535: UserWarning: Using a target size (torch.Size([192])) that is different to the input size (torch.Size([1, 1])). This will likely lead to incorrect results due to broadcasting. Please ensure they have the same size.\n",
      "  return F.mse_loss(input, target, reduction=self.reduction)\n"
     ]
    }
   ],
   "source": [
    "model.test_loss(test_x, test_y)"
   ]
  }
 ],
 "metadata": {
  "kernelspec": {
   "display_name": "guidelight-Popvxsqg",
   "language": "python",
   "name": "python3"
  },
  "language_info": {
   "codemirror_mode": {
    "name": "ipython",
    "version": 3
   },
   "file_extension": ".py",
   "mimetype": "text/x-python",
   "name": "python",
   "nbconvert_exporter": "python",
   "pygments_lexer": "ipython3",
   "version": "3.11.6"
  }
 },
 "nbformat": 4,
 "nbformat_minor": 2
}
