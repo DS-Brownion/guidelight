{
 "cells": [
  {
   "cell_type": "code",
   "execution_count": 1,
   "metadata": {},
   "outputs": [],
   "source": [
    "import yfinance as yf\n",
    "from datetime import datetime"
   ]
  },
  {
   "cell_type": "code",
   "execution_count": 2,
   "metadata": {},
   "outputs": [],
   "source": [
    "# pharma companies used for training\n",
    "pharma_list = ['BIIB', 'JNJ', 'PFE', 'ABBV']\n",
    "# end time \n",
    "end = datetime.now()\n",
    "start = datetime(end.year-5, end.month, end.day)"
   ]
  },
  {
   "cell_type": "code",
   "execution_count": 3,
   "metadata": {},
   "outputs": [
    {
     "name": "stderr",
     "output_type": "stream",
     "text": [
      "/Users/brad/.local/share/virtualenvs/guidelight-Popvxsqg/lib/python3.11/site-packages/yfinance/utils.py:775: FutureWarning: The 'unit' keyword in TimedeltaIndex construction is deprecated and will be removed in a future version. Use pd.to_timedelta instead.\n",
      "  df.index += _pd.TimedeltaIndex(dst_error_hours, 'h')\n",
      "[*********************100%%**********************]  1 of 1 completed\n",
      "/Users/brad/.local/share/virtualenvs/guidelight-Popvxsqg/lib/python3.11/site-packages/yfinance/utils.py:775: FutureWarning: The 'unit' keyword in TimedeltaIndex construction is deprecated and will be removed in a future version. Use pd.to_timedelta instead.\n",
      "  df.index += _pd.TimedeltaIndex(dst_error_hours, 'h')\n",
      "[*********************100%%**********************]  1 of 1 completed\n",
      "/Users/brad/.local/share/virtualenvs/guidelight-Popvxsqg/lib/python3.11/site-packages/yfinance/utils.py:775: FutureWarning: The 'unit' keyword in TimedeltaIndex construction is deprecated and will be removed in a future version. Use pd.to_timedelta instead.\n",
      "  df.index += _pd.TimedeltaIndex(dst_error_hours, 'h')\n",
      "[*********************100%%**********************]  1 of 1 completed\n",
      "/Users/brad/.local/share/virtualenvs/guidelight-Popvxsqg/lib/python3.11/site-packages/yfinance/utils.py:775: FutureWarning: The 'unit' keyword in TimedeltaIndex construction is deprecated and will be removed in a future version. Use pd.to_timedelta instead.\n",
      "  df.index += _pd.TimedeltaIndex(dst_error_hours, 'h')\n",
      "[*********************100%%**********************]  1 of 1 completed\n"
     ]
    },
    {
     "data": {
      "text/plain": [
       "{'BIIB':                   Open        High         Low       Close   Adj Close  \\\n",
       " Date                                                                     \n",
       " 2019-03-04  335.600006  336.570007  324.440002  327.260010  327.260010   \n",
       " 2019-03-05  327.750000  330.119995  325.040009  326.869995  326.869995   \n",
       " 2019-03-06  327.489990  328.410004  317.839996  317.970001  317.970001   \n",
       " 2019-03-07  317.109985  318.000000  314.179993  315.290009  315.290009   \n",
       " 2019-03-08  312.290009  313.329987  305.899994  307.929993  307.929993   \n",
       " ...                ...         ...         ...         ...         ...   \n",
       " 2024-02-27  223.720001  224.869995  220.199997  223.940002  223.940002   \n",
       " 2024-02-28  222.250000  224.119995  221.000000  221.740005  221.740005   \n",
       " 2024-02-29  221.759995  224.000000  216.699997  216.990005  216.990005   \n",
       " 2024-03-01  217.460007  222.020004  215.350006  220.949997  220.949997   \n",
       " 2024-03-04  221.169998  222.919998  219.759995  221.020004  221.020004   \n",
       " \n",
       "              Volume  \n",
       " Date                 \n",
       " 2019-03-04  1046900  \n",
       " 2019-03-05  1020400  \n",
       " 2019-03-06  1007800  \n",
       " 2019-03-07  1078700  \n",
       " 2019-03-08  1602100  \n",
       " ...             ...  \n",
       " 2024-02-27   983100  \n",
       " 2024-02-28  1038400  \n",
       " 2024-02-29  1917800  \n",
       " 2024-03-01  1085400  \n",
       " 2024-03-04  1083600  \n",
       " \n",
       " [1260 rows x 6 columns],\n",
       " 'JNJ':                   Open        High         Low       Close   Adj Close  \\\n",
       " Date                                                                     \n",
       " 2019-03-04  138.850006  139.410004  137.509995  138.479996  120.835800   \n",
       " 2019-03-05  138.809998  139.139999  138.360001  138.770004  121.088829   \n",
       " 2019-03-06  139.470001  139.649994  138.600006  139.089996  121.368073   \n",
       " 2019-03-07  138.529999  139.119995  137.699997  138.240005  120.626381   \n",
       " 2019-03-08  138.089996  139.300003  136.419998  138.059998  120.469292   \n",
       " ...                ...         ...         ...         ...         ...   \n",
       " 2024-02-27  160.339996  161.039993  159.639999  160.979996  160.979996   \n",
       " 2024-02-28  161.000000  161.610001  160.289993  161.550003  161.550003   \n",
       " 2024-02-29  162.000000  162.190002  160.940002  161.380005  161.380005   \n",
       " 2024-03-01  161.830002  162.570007  161.089996  162.119995  162.119995   \n",
       " 2024-03-04  161.320007  161.610001  158.270004  159.839996  159.839996   \n",
       " \n",
       "              Volume  \n",
       " Date                 \n",
       " 2019-03-04  8377700  \n",
       " 2019-03-05  6568900  \n",
       " 2019-03-06  6236900  \n",
       " 2019-03-07  6100400  \n",
       " 2019-03-08  7046700  \n",
       " ...             ...  \n",
       " 2024-02-27  5078600  \n",
       " 2024-02-28  6071100  \n",
       " 2024-02-29  9849100  \n",
       " 2024-03-01  5668000  \n",
       " 2024-03-04  8532900  \n",
       " \n",
       " [1260 rows x 6 columns],\n",
       " 'PFE':                  Open       High        Low      Close  Adj Close    Volume\n",
       " Date                                                                       \n",
       " 2019-03-04  41.214420  41.356735  40.683113  40.863377  33.541573  22805820\n",
       " 2019-03-05  40.882355  41.034157  40.654648  40.692600  33.401394  26529812\n",
       " 2019-03-06  40.626186  40.673622  39.487667  39.715370  32.599262  22410359\n",
       " 2019-03-07  39.715370  39.743832  39.136623  39.269451  32.233246  29046132\n",
       " 2019-03-08  39.212524  39.316887  38.273247  38.795067  31.843857  31306119\n",
       " ...               ...        ...        ...        ...        ...       ...\n",
       " 2024-02-27  27.120001  27.200001  26.809999  26.889999  26.889999  38598400\n",
       " 2024-02-28  26.959999  27.240000  26.820000  27.040001  27.040001  31010200\n",
       " 2024-02-29  27.070000  27.190001  26.549999  26.559999  26.559999  54643200\n",
       " 2024-03-01  26.830000  26.900000  26.510000  26.590000  26.590000  46213600\n",
       " 2024-03-04  26.299999  26.459999  25.610001  25.889999  25.889999  86650300\n",
       " \n",
       " [1260 rows x 6 columns],\n",
       " 'ABBV':                   Open        High         Low       Close   Adj Close  \\\n",
       " Date                                                                     \n",
       " 2019-03-04   80.400002   80.730003   79.110001   79.459999   63.080215   \n",
       " 2019-03-05   79.379997   79.900002   78.720001   78.910004   62.643585   \n",
       " 2019-03-06   79.129997   79.129997   77.559998   78.089996   61.992615   \n",
       " 2019-03-07   77.769997   79.120003   77.440002   78.239998   62.111698   \n",
       " 2019-03-08   77.669998   78.040001   77.089996   77.580002   61.587738   \n",
       " ...                ...         ...         ...         ...         ...   \n",
       " 2024-02-27  178.770004  179.529999  176.979996  178.990005  178.990005   \n",
       " 2024-02-28  179.850006  179.889999  176.889999  178.000000  178.000000   \n",
       " 2024-02-29  177.869995  178.020004  175.389999  176.050003  176.050003   \n",
       " 2024-03-01  176.050003  179.190002  175.750000  178.910004  178.910004   \n",
       " 2024-03-04  178.350006  179.979996  176.279999  177.050003  177.050003   \n",
       " \n",
       "              Volume  \n",
       " Date                 \n",
       " 2019-03-04  5872500  \n",
       " 2019-03-05  5933100  \n",
       " 2019-03-06  5293200  \n",
       " 2019-03-07  6642500  \n",
       " 2019-03-08  6189100  \n",
       " ...             ...  \n",
       " 2024-02-27  3888500  \n",
       " 2024-02-28  4331300  \n",
       " 2024-02-29  7485700  \n",
       " 2024-03-01  4028700  \n",
       " 2024-03-04  4723300  \n",
       " \n",
       " [1260 rows x 6 columns]}"
      ]
     },
     "execution_count": 3,
     "metadata": {},
     "output_type": "execute_result"
    }
   ],
   "source": [
    "companies = {company : yf.download(company, start=start, end=end) for company in pharma_list}\n",
    "companies"
   ]
  },
  {
   "cell_type": "code",
   "execution_count": 4,
   "metadata": {},
   "outputs": [],
   "source": [
    "from torch import nn\n",
    "import torch"
   ]
  },
  {
   "cell_type": "code",
   "execution_count": 5,
   "metadata": {},
   "outputs": [],
   "source": [
    "import seaborn as sns"
   ]
  },
  {
   "cell_type": "code",
   "execution_count": 6,
   "metadata": {},
   "outputs": [
    {
     "data": {
      "text/plain": [
       "<Axes: xlabel='Date', ylabel='Adj Close'>"
      ]
     },
     "execution_count": 6,
     "metadata": {},
     "output_type": "execute_result"
    },
    {
     "data": {
      "image/png": "[encoded data removed]",
      "text/plain": [
       "<Figure size 640x480 with 1 Axes>"
      ]
     },
     "metadata": {},
     "output_type": "display_data"
    }
   ],
   "source": [
    "pfe = companies[\"PFE\"][\"Adj Close\"]\n",
    "sns.lineplot(data=pfe)"
   ]
  },
  {
   "cell_type": "code",
   "execution_count": 7,
   "metadata": {},
   "outputs": [],
   "source": [
    "def robust_scale(data: torch.Tensor, axis: int = 0):\n",
    "\tIQR3 = torch.quantile(data, 0.75, dim=axis, keepdims=True)\n",
    "\tIQR1 = torch.quantile(data, 0.25, dim=axis, keepdims=True)\n",
    "\treturn (data - torch.median(data)) / (IQR3 - IQR1)"
   ]
  },
  {
   "cell_type": "code",
   "execution_count": 8,
   "metadata": {},
   "outputs": [],
   "source": [
    "# scale the data\n",
    "scaled = robust_scale(torch.tensor(pfe.values).float())"
   ]
  },
  {
   "cell_type": "code",
   "execution_count": 9,
   "metadata": {},
   "outputs": [],
   "source": [
    "train_size = int(0.8 * len(scaled))\n",
    "train_data, test_data = torch.split(scaled, [train_size, len(scaled) - train_size])\n",
    "\n",
    "window_size = 60\n",
    "# time window\n",
    "train_x = train_data.unfold(0, window_size, 1)\n",
    "\n",
    "# actual resulte\n",
    "train_y = train_data[window_size:]"
   ]
  },
  {
   "cell_type": "code",
   "execution_count": 13,
   "metadata": {},
   "outputs": [],
   "source": [
    "#A simple demo for LSTM for stock prediction \n",
    "\n",
    "\n",
    "class StockLSTM(nn.Module):\n",
    "\tdef __init__(self, device='cpu'):\n",
    "\t\tsuper(StockLSTM, self).__init__()\n",
    "\t\t# utilizing 3 layers of LSTM\n",
    "\t\tself.lstms = nn.ModuleList([\n",
    "            nn.LSTM(128, hidden_size=64, batch_first=True),\n",
    "            nn.LSTM(64, hidden_size=32, batch_first=True),\n",
    "            nn.LSTM(32, hidden_size=16, batch_first=True)  # Ensure consistency in input_size\n",
    "        ])\n",
    "\t\tself.dropouts = nn.ModuleList([nn.Dropout(0.5) for _ in range(2)])\n",
    "\n",
    "\t\tself.device = device\n",
    "\t\tself.linear = nn.Linear(16, 1)\n",
    "\t\tself.to(device)\n",
    "\t\t\n",
    "\t\n",
    "\tdef forward(self,x):\n",
    "\t\t\n",
    "\t\t# since we would only need the last output of the LSTM\n",
    "\t\t\n",
    "\t\tx = x.to(self.device)\n",
    "\t\tfor i in range(len(self.lstms)):\n",
    "\t\t\tx, _ = self.lstms[i](x)\n",
    "\t\t\tif i < len(self.dropouts):\n",
    "\t\t\t\tx = self.dropouts[i](x)\n",
    "\t\tx = x[ -1, :]\n",
    "\t\tx = self.linear(x)\n",
    "\t\t\n",
    "\t\treturn x\n",
    "\t# torch.to for moving the tensor to the device\n",
    "\n",
    "\t\n",
    "\tdef train_loop(self, train_x, train_y, val_x, val_y):\n",
    "\t\t# chooses gpu if available, otherwise cpu\n",
    "\t\t\n",
    "\t\t# chose the adam optimizer for the gradient descent\n",
    "\t\ttrain_x, train_y = train_x.to(self.device), train_y.to(self.device)\n",
    "\t\tval_x, val_y = val_x.to(self.device), val_y.to(self.device)\n",
    "\t\toptimizer = torch.optim.Adam(self.parameters(), lr=0.01)\n",
    "\t\t# currently using MSE loss function to fit the model ()\n",
    "\t\tloss_fn = nn.MSELoss()\n",
    "\n",
    "\t\t# training the model for 100 epochs\n",
    "\t\tfor epoch in range(100):\n",
    "\t\t\t# set to training mode\n",
    "\t\t\tself.train()\n",
    "\n",
    "\t\t\t# zero the gradients otherwise they would accumulate\n",
    "\t\t\toptimizer.zero_grad()\n",
    "\t\t\tpred = self(train_x)\n",
    "\t\t\tloss = loss_fn(pred, train_y)\n",
    "\t\t\tloss.backward()\n",
    "\t\t\toptimizer.step()\n",
    "\n",
    "\n",
    "\t\t\t# set to evaluation mode\n",
    "\t\t\tself.eval()\n",
    "\t\t\twith torch.no_grad():  # Inference mode, gradients not computed\n",
    "\t\t\t\tval_pred = self(val_x)\n",
    "\t\t\t\tval_loss = loss_fn(val_pred, val_y)\n",
    "\t\t\t\n",
    "\t\t\tprint(f'Epoch {epoch} loss: {loss.item()}', f'Validation loss: {val_loss.item()}')\n",
    "\n",
    "\tdef test_loss(self, test_x, test_y):\n",
    "\t\tself.eval()\n",
    "\t\twith torch.no_grad():\n",
    "\t\t\tpred = self(test_x)\n",
    "\t\t\tloss_fn = nn.MSELoss()\n",
    "\t\t\tloss = loss_fn(pred, test_y)\n",
    "\t\t\tprint(f'Test loss: {loss.item()}')\n"
   ]
  },
  {
   "cell_type": "code",
   "execution_count": 14,
   "metadata": {},
   "outputs": [
    {
     "name": "stderr",
     "output_type": "stream",
     "text": [
      "/Users/brad/.local/share/virtualenvs/guidelight-Popvxsqg/lib/python3.11/site-packages/torch/nn/modules/loss.py:535: UserWarning: Using a target size (torch.Size([948])) that is different to the input size (torch.Size([1])). This will likely lead to incorrect results due to broadcasting. Please ensure they have the same size.\n",
      "  return F.mse_loss(input, target, reduction=self.reduction)\n"
     ]
    },
    {
     "name": "stdout",
     "output_type": "stream",
     "text": [
      "Epoch 0 loss: 0.7797378897666931 Validation loss: 0.585610032081604\n",
      "Epoch 1 loss: 0.6067351698875427 Validation loss: 0.47952619194984436\n",
      "Epoch 2 loss: 0.49541163444519043 Validation loss: 0.47408002614974976\n",
      "Epoch 3 loss: 0.4733724296092987 Validation loss: 0.4834624230861664\n",
      "Epoch 4 loss: 0.4639611840248108 Validation loss: 0.48286765813827515\n",
      "Epoch 5 loss: 0.48361095786094666 Validation loss: 0.46870988607406616\n",
      "Epoch 6 loss: 0.4769009053707123 Validation loss: 0.4627295732498169\n",
      "Epoch 7 loss: 0.4657849073410034 Validation loss: 0.46818917989730835\n",
      "Epoch 8 loss: 0.4666059911251068 Validation loss: 0.47522008419036865\n",
      "Epoch 9 loss: 0.46573275327682495 Validation loss: 0.4793607294559479\n",
      "Epoch 10 loss: 0.47630178928375244 Validation loss: 0.4778020977973938\n",
      "Epoch 11 loss: 0.49867162108421326 Validation loss: 0.4714488387107849\n",
      "Epoch 12 loss: 0.4708344042301178 Validation loss: 0.465779185295105\n",
      "Epoch 13 loss: 0.48479217290878296 Validation loss: 0.4627551734447479\n",
      "Epoch 14 loss: 0.46470725536346436 Validation loss: 0.4637700319290161\n",
      "Epoch 15 loss: 0.4638321101665497 Validation loss: 0.4677046835422516\n",
      "Epoch 16 loss: 0.465618371963501 Validation loss: 0.47199583053588867\n",
      "Epoch 17 loss: 0.47481003403663635 Validation loss: 0.47317418456077576\n",
      "Epoch 18 loss: 0.5049335956573486 Validation loss: 0.46980854868888855\n",
      "Epoch 19 loss: 0.4766557216644287 Validation loss: 0.4660552740097046\n",
      "Epoch 20 loss: 0.4785127341747284 Validation loss: 0.4632910490036011\n",
      "Epoch 21 loss: 0.46410682797431946 Validation loss: 0.4627307653427124\n",
      "Epoch 22 loss: 0.4635317325592041 Validation loss: 0.46341386437416077\n",
      "Epoch 23 loss: 0.46300259232521057 Validation loss: 0.46484851837158203\n",
      "Epoch 24 loss: 0.4700615406036377 Validation loss: 0.4660206735134125\n",
      "Epoch 25 loss: 0.4691961109638214 Validation loss: 0.46651995182037354\n",
      "Epoch 26 loss: 0.4782664477825165 Validation loss: 0.46603497862815857\n",
      "Epoch 27 loss: 0.46641746163368225 Validation loss: 0.46522971987724304\n",
      "Epoch 28 loss: 0.4648992717266083 Validation loss: 0.46433064341545105\n",
      "Epoch 29 loss: 0.4665910303592682 Validation loss: 0.46343299746513367\n",
      "Epoch 30 loss: 0.464863657951355 Validation loss: 0.4628436267375946\n",
      "Epoch 31 loss: 0.463234007358551 Validation loss: 0.46275418996810913\n",
      "Epoch 32 loss: 0.46323320269584656 Validation loss: 0.4631965458393097\n",
      "Epoch 33 loss: 0.4628293216228485 Validation loss: 0.4641342759132385\n",
      "Epoch 34 loss: 0.4631749987602234 Validation loss: 0.46524855494499207\n",
      "Epoch 35 loss: 0.4639669954776764 Validation loss: 0.4661882519721985\n",
      "Epoch 36 loss: 0.4634535312652588 Validation loss: 0.4668741226196289\n",
      "Epoch 37 loss: 0.4636649787425995 Validation loss: 0.4671601951122284\n",
      "Epoch 38 loss: 0.4668298661708832 Validation loss: 0.46672555804252625\n",
      "Epoch 39 loss: 0.46399036049842834 Validation loss: 0.46598175168037415\n",
      "Epoch 40 loss: 0.4689992368221283 Validation loss: 0.4646258056163788\n",
      "Epoch 41 loss: 0.4663884937763214 Validation loss: 0.46342477202415466\n",
      "Epoch 42 loss: 0.4627937972545624 Validation loss: 0.46283969283103943\n",
      "Epoch 43 loss: 0.46350783109664917 Validation loss: 0.4627293348312378\n",
      "Epoch 44 loss: 0.4653362035751343 Validation loss: 0.4627957046031952\n",
      "Epoch 45 loss: 0.46275416016578674 Validation loss: 0.4629250764846802\n",
      "Epoch 46 loss: 0.46330568194389343 Validation loss: 0.4631764888763428\n",
      "Epoch 47 loss: 0.4628949761390686 Validation loss: 0.46343669295310974\n",
      "Epoch 48 loss: 0.46747907996177673 Validation loss: 0.46343979239463806\n",
      "Epoch 49 loss: 0.46293315291404724 Validation loss: 0.46350154280662537\n",
      "Epoch 50 loss: 0.4627659022808075 Validation loss: 0.4635888636112213\n",
      "Epoch 51 loss: 0.4632759690284729 Validation loss: 0.46356624364852905\n",
      "Epoch 52 loss: 0.466848760843277 Validation loss: 0.4632739722728729\n",
      "Epoch 53 loss: 0.46285274624824524 Validation loss: 0.46309754252433777\n",
      "Epoch 54 loss: 0.4629027545452118 Validation loss: 0.46300208568573\n",
      "Epoch 55 loss: 0.4633447825908661 Validation loss: 0.4628739058971405\n",
      "Epoch 56 loss: 0.465475857257843 Validation loss: 0.4627402126789093\n",
      "Epoch 57 loss: 0.46298229694366455 Validation loss: 0.46275794506073\n",
      "Epoch 58 loss: 0.4630011320114136 Validation loss: 0.46295732259750366\n",
      "Epoch 59 loss: 0.46287789940834045 Validation loss: 0.4632527232170105\n",
      "Epoch 60 loss: 0.463119238615036 Validation loss: 0.4637328088283539\n",
      "Epoch 61 loss: 0.4636150598526001 Validation loss: 0.464093416929245\n",
      "Epoch 62 loss: 0.46272775530815125 Validation loss: 0.4644719064235687\n",
      "Epoch 63 loss: 0.46457087993621826 Validation loss: 0.46448397636413574\n",
      "Epoch 64 loss: 0.46393799781799316 Validation loss: 0.46424055099487305\n",
      "Epoch 65 loss: 0.4661559760570526 Validation loss: 0.46363571286201477\n",
      "Epoch 66 loss: 0.46470120549201965 Validation loss: 0.4630582332611084\n",
      "Epoch 67 loss: 0.46302056312561035 Validation loss: 0.4627622961997986\n",
      "Epoch 68 loss: 0.46284809708595276 Validation loss: 0.46276506781578064\n",
      "Epoch 69 loss: 0.46304789185523987 Validation loss: 0.4629606008529663\n",
      "Epoch 70 loss: 0.46368077397346497 Validation loss: 0.46315500140190125\n",
      "Epoch 71 loss: 0.46402621269226074 Validation loss: 0.4632224440574646\n",
      "Epoch 72 loss: 0.4643039107322693 Validation loss: 0.46314361691474915\n",
      "Epoch 73 loss: 0.46522659063339233 Validation loss: 0.46292805671691895\n",
      "Epoch 74 loss: 0.46305397152900696 Validation loss: 0.46277427673339844\n",
      "Epoch 75 loss: 0.46273288130760193 Validation loss: 0.46272772550582886\n",
      "Epoch 76 loss: 0.46274125576019287 Validation loss: 0.4627622961997986\n",
      "Epoch 77 loss: 0.4629916846752167 Validation loss: 0.4628271162509918\n",
      "Epoch 78 loss: 0.4628848433494568 Validation loss: 0.46288353204727173\n",
      "Epoch 79 loss: 0.46272823214530945 Validation loss: 0.46294790506362915\n",
      "Epoch 80 loss: 0.4634532332420349 Validation loss: 0.46293145418167114\n",
      "Epoch 81 loss: 0.46295419335365295 Validation loss: 0.46295464038848877\n",
      "Epoch 82 loss: 0.46326348185539246 Validation loss: 0.4629090130329132\n",
      "Epoch 83 loss: 0.4627324640750885 Validation loss: 0.4628669023513794\n",
      "Epoch 84 loss: 0.46276775002479553 Validation loss: 0.4628206789493561\n",
      "Epoch 85 loss: 0.46309325098991394 Validation loss: 0.4627608358860016\n",
      "Epoch 86 loss: 0.46291300654411316 Validation loss: 0.46274036169052124\n",
      "Epoch 87 loss: 0.4637465476989746 Validation loss: 0.462748646736145\n",
      "Epoch 88 loss: 0.4627949595451355 Validation loss: 0.46276694536209106\n",
      "Epoch 89 loss: 0.4632189869880676 Validation loss: 0.4628227651119232\n",
      "Epoch 90 loss: 0.4629153907299042 Validation loss: 0.46292901039123535\n",
      "Epoch 91 loss: 0.46287503838539124 Validation loss: 0.4631046950817108\n",
      "Epoch 92 loss: 0.46303072571754456 Validation loss: 0.46322786808013916\n",
      "Epoch 93 loss: 0.4634706974029541 Validation loss: 0.46321362257003784\n",
      "Epoch 94 loss: 0.4631267189979553 Validation loss: 0.4631137251853943\n",
      "Epoch 95 loss: 0.46279895305633545 Validation loss: 0.46306270360946655\n",
      "Epoch 96 loss: 0.46272945404052734 Validation loss: 0.46301501989364624\n",
      "Epoch 97 loss: 0.463001012802124 Validation loss: 0.462921679019928\n",
      "Epoch 98 loss: 0.4633673131465912 Validation loss: 0.46291351318359375\n",
      "Epoch 99 loss: 0.46273598074913025 Validation loss: 0.46289852261543274\n"
     ]
    },
    {
     "data": {
      "text/plain": [
       "StockLSTM(\n",
       "  (lstms): ModuleList(\n",
       "    (0): LSTM(128, 64, batch_first=True)\n",
       "    (1): LSTM(64, 32, batch_first=True)\n",
       "    (2): LSTM(32, 16, batch_first=True)\n",
       "  )\n",
       "  (dropouts): ModuleList(\n",
       "    (0-1): 2 x Dropout(p=0.5, inplace=False)\n",
       "  )\n",
       "  (linear): Linear(in_features=16, out_features=1, bias=True)\n",
       ")"
      ]
     },
     "execution_count": 14,
     "metadata": {},
     "output_type": "execute_result"
    }
   ],
   "source": [
    "model = StockLSTM(device='cpu')\n",
    "model.train_loop(train_x, train_y, train_x, train_y)\n",
    "\n",
    "\n",
    "# test the model\n",
    "test_x = test_data.unfold(0, window_size, 1)\n",
    "test_y = test_data[window_size:]\n",
    "# set to evaluation mode\n",
    "model.eval()"
   ]
  },
  {
   "cell_type": "code",
   "execution_count": 15,
   "metadata": {},
   "outputs": [
    {
     "name": "stdout",
     "output_type": "stream",
     "text": [
      "Test loss: 0.3259308636188507\n"
     ]
    },
    {
     "name": "stderr",
     "output_type": "stream",
     "text": [
      "/Users/brad/.local/share/virtualenvs/guidelight-Popvxsqg/lib/python3.11/site-packages/torch/nn/modules/loss.py:535: UserWarning: Using a target size (torch.Size([192])) that is different to the input size (torch.Size([1])). This will likely lead to incorrect results due to broadcasting. Please ensure they have the same size.\n",
      "  return F.mse_loss(input, target, reduction=self.reduction)\n"
     ]
    }
   ],
   "source": [
    "model.test_loss(test_x, test_y)"
   ]
  }
 ],
 "metadata": {
  "kernelspec": {
   "display_name": "guidelight-Popvxsqg",
   "language": "python",
   "name": "python3"
  },
  "language_info": {
   "codemirror_mode": {
    "name": "ipython",
    "version": 3
   },
   "file_extension": ".py",
   "mimetype": "text/x-python",
   "name": "python",
   "nbconvert_exporter": "python",
   "pygments_lexer": "ipython3",
   "version": "3.11.6"
  }
 },
 "nbformat": 4,
 "nbformat_minor": 2
}
