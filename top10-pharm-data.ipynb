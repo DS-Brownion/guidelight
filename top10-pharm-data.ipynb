{
 "cells": [
  {
   "cell_type": "code",
   "execution_count": 1,
   "metadata": {},
   "outputs": [],
   "source": [
    "import yfinance as yf"
   ]
  },
  {
   "cell_type": "code",
   "execution_count": 2,
   "metadata": {},
   "outputs": [],
   "source": [
    "# Import necessary modules\n",
    "from pathlib import Path\n",
    "import os\n",
    "\n",
    "import numpy as np\n",
    "import pandas as pd\n",
    "import matplotlib.pyplot as plt\n",
    "import seaborn as sns"
   ]
  },
  {
   "cell_type": "markdown",
   "metadata": {},
   "source": [
    "### Pfizer"
   ]
  },
  {
   "cell_type": "code",
   "execution_count": 3,
   "metadata": {},
   "outputs": [
    {
     "name": "stderr",
     "output_type": "stream",
     "text": [
      "[*********************100%%**********************]  1 of 1 completed\n"
     ]
    }
   ],
   "source": [
    "# download hourly stock prices in the past 730 days (max)\n",
    "PFEdata = yf.download(\"PFE\", period='730d', interval='60m')\n",
    "\n",
    "path1 = 'E:/Desktop/Extracurriculars/Projects & Competitions/DS Guidelight/Data/PFEdata.csv'\n",
    "isExist = os.path.exists(path1)\n",
    "\n",
    "if isExist: # load the data if the file exists\n",
    "    PFEHourlyPrice = pd.read_csv(path1)\n",
    "    \n",
    "else: # otherwise, set a path to convert data into a csv file\n",
    "    Setpath1 = Path(path1)\n",
    "    Setpath1.parent.mkdir(parents=True, exist_ok=True)  \n",
    "    PFEdata.to_csv(Setpath1)"
   ]
  },
  {
   "cell_type": "markdown",
   "metadata": {},
   "source": [
    "### AbbVie"
   ]
  },
  {
   "cell_type": "code",
   "execution_count": 4,
   "metadata": {},
   "outputs": [
    {
     "name": "stderr",
     "output_type": "stream",
     "text": [
      "[*********************100%%**********************]  1 of 1 completed\n"
     ]
    }
   ],
   "source": [
    "# download hourly stock prices in the past 730 days (max)\n",
    "ABBVdata = yf.download(\"ABBV\", period='730d', interval='60m')\n",
    "\n",
    "path2 = 'E:/Desktop/Extracurriculars/Projects & Competitions/DS Guidelight/Data/ABBVdata.csv'\n",
    "isExist = os.path.exists(path2)\n",
    "\n",
    "if isExist: # load the data if the file exists\n",
    "    ABBVHourlyPrice = pd.read_csv(path2)\n",
    "    \n",
    "else: # otherwise, set a path to convert data into a csv file\n",
    "    Setpath2 = Path(path2)\n",
    "    Setpath2.parent.mkdir(parents=True, exist_ok=True)  \n",
    "    ABBVdata.to_csv(Setpath2)"
   ]
  },
  {
   "cell_type": "markdown",
   "metadata": {},
   "source": [
    "### Johnson & Johnson"
   ]
  },
  {
   "cell_type": "code",
   "execution_count": 5,
   "metadata": {},
   "outputs": [
    {
     "name": "stderr",
     "output_type": "stream",
     "text": [
      "[*********************100%%**********************]  1 of 1 completed\n"
     ]
    }
   ],
   "source": [
    "# download hourly stock prices in the past 730 days (max)\n",
    "JNJdata = yf.download(\"JNJ\", period='730d', interval='60m')\n",
    "\n",
    "path3 = 'E:/Desktop/Extracurriculars/Projects & Competitions/DS Guidelight/Data/JNJdata.csv'\n",
    "isExist = os.path.exists(path3)\n",
    "\n",
    "if isExist: # load the data if the file exists\n",
    "    JNJHourlyPrice = pd.read_csv(path3)\n",
    "    \n",
    "else: # otherwise, set a path to convert data into a csv file\n",
    "    SetPath3 = Path(path3)\n",
    "    SetPath3.parent.mkdir(parents=True, exist_ok=True)  \n",
    "    JNJdata.to_csv(SetPath3)"
   ]
  },
  {
   "cell_type": "markdown",
   "metadata": {},
   "source": [
    "### Novartis"
   ]
  },
  {
   "cell_type": "code",
   "execution_count": null,
   "metadata": {},
   "outputs": [],
   "source": [
    "# download hourly stock prices in the past 730 days (max)\n",
    "NVSdata = yf.download(\"NVS\", period='730d', interval='60m')\n",
    "\n",
    "path4 = 'E:/Desktop/Extracurriculars/Projects & Competitions/DS Guidelight/Data/NVSdata.csv'\n",
    "isExist = os.path.exists(path4)\n",
    "\n",
    "if isExist: # load the data if the file exists\n",
    "    NVSHourlyPrice = pd.read_csv(path4)\n",
    "    \n",
    "else: # otherwise, set a path to convert data into a csv file\n",
    "    SetPath4 = Path(path4)\n",
    "    SetPath4.parent.mkdir(parents=True, exist_ok=True)  \n",
    "    NVSdata.to_csv(SetPath4)"
   ]
  },
  {
   "cell_type": "markdown",
   "metadata": {},
   "source": [
    "### Merck & Co."
   ]
  },
  {
   "cell_type": "code",
   "execution_count": 6,
   "metadata": {},
   "outputs": [
    {
     "name": "stderr",
     "output_type": "stream",
     "text": [
      "[*********************100%%**********************]  1 of 1 completed\n"
     ]
    }
   ],
   "source": [
    "# download hourly stock prices in the past 730 days (max)\n",
    "MRKdata = yf.download(\"MRK\", period='730d', interval='60m')\n",
    "\n",
    "path5 = 'E:/Desktop/Extracurriculars/Projects & Competitions/DS Guidelight/Data/MRKdata.csv'\n",
    "isExist = os.path.exists(path5)\n",
    "\n",
    "if isExist: # load the data if the file exists\n",
    "    MRKHourlyPrice = pd.read_csv(path5)\n",
    "    \n",
    "else: # otherwise, set a path to convert data into a csv file\n",
    "    SetPath5 = Path(path5)\n",
    "    SetPath5.parent.mkdir(parents=True, exist_ok=True)  \n",
    "    MRKdata.to_csv(SetPath5)"
   ]
  },
  {
   "cell_type": "markdown",
   "metadata": {},
   "source": [
    "### Roche"
   ]
  },
  {
   "cell_type": "code",
   "execution_count": 7,
   "metadata": {},
   "outputs": [
    {
     "name": "stderr",
     "output_type": "stream",
     "text": [
      "[*********************100%%**********************]  1 of 1 completed\n"
     ]
    }
   ],
   "source": [
    "# download hourly stock prices in the past 730 days (max)\n",
    "RHHBYdata = yf.download(\"RHHBY\", period='730d', interval='60m')\n",
    "\n",
    "path6 = 'E:/Desktop/Extracurriculars/Projects & Competitions/DS Guidelight/Data/RHHBYdata.csv'\n",
    "isExist = os.path.exists(path6)\n",
    "\n",
    "if isExist: # load the data if the file exists\n",
    "    RHHBYHourlyPrice = pd.read_csv(path6)\n",
    "    \n",
    "else: # otherwise, set a path to convert data into a csv file\n",
    "    SetPath6 = Path(path6)\n",
    "    SetPath6.parent.mkdir(parents=True, exist_ok=True)  \n",
    "    RHHBYdata.to_csv(SetPath6)"
   ]
  },
  {
   "cell_type": "markdown",
   "metadata": {},
   "source": [
    "### Bristol-Myers Squibb"
   ]
  },
  {
   "cell_type": "code",
   "execution_count": null,
   "metadata": {},
   "outputs": [],
   "source": [
    "# download hourly stock prices in the past 730 days (max)\n",
    "BMYdata = yf.download(\"BMY\", period='730d', interval='60m')\n",
    "\n",
    "path7 = 'E:/Desktop/Extracurriculars/Projects & Competitions/DS Guidelight/Data/BMYdata.csv'\n",
    "isExist = os.path.exists(path7)\n",
    "\n",
    "if isExist: # load the data if the file exists\n",
    "    BMYHourlyPrice = pd.read_csv(path7)\n",
    "    \n",
    "else: # otherwise, set a path to convert data into a csv file\n",
    "    Setpath7 = Path(path7)\n",
    "    Setpath7.parent.mkdir(parents=True, exist_ok=True)  \n",
    "    BMYdata.to_csv(Setpath7)"
   ]
  },
  {
   "cell_type": "markdown",
   "metadata": {},
   "source": [
    "### AstraZeneca"
   ]
  },
  {
   "cell_type": "code",
   "execution_count": 9,
   "metadata": {},
   "outputs": [
    {
     "name": "stderr",
     "output_type": "stream",
     "text": [
      "[*********************100%%**********************]  1 of 1 completed\n"
     ]
    }
   ],
   "source": [
    "# download hourly stock prices in the past 730 days (max)\n",
    "AZNdata = yf.download(\"AZN\", period='730d', interval='60m')\n",
    "\n",
    "path8 = 'E:/Desktop/Extracurriculars/Projects & Competitions/DS Guidelight/Data/AZNdata.csv'\n",
    "isExist = os.path.exists(path8)\n",
    "\n",
    "if isExist: # load the data if the file exists\n",
    "    AZNHourlyPrice = pd.read_csv(path8)\n",
    "    \n",
    "else: # otherwise, set a path to convert data into a csv file\n",
    "    Setpath8 = Path(path8)\n",
    "    Setpath8.parent.mkdir(parents=True, exist_ok=True)  \n",
    "    AZNdata.to_csv(Setpath8)"
   ]
  },
  {
   "cell_type": "markdown",
   "metadata": {},
   "source": [
    "### Sanofi"
   ]
  },
  {
   "cell_type": "code",
   "execution_count": 10,
   "metadata": {},
   "outputs": [
    {
     "name": "stderr",
     "output_type": "stream",
     "text": [
      "[*********************100%%**********************]  1 of 1 completed\n"
     ]
    }
   ],
   "source": [
    "# download hourly stock prices in the past 730 days (max)\n",
    "SNYdata = yf.download(\"SNY\", period='730d', interval='60m')\n",
    "\n",
    "path9 = 'E:/Desktop/Extracurriculars/Projects & Competitions/DS Guidelight/Data/SNYdata.csv'\n",
    "isExist = os.path.exists(path9)\n",
    "\n",
    "if isExist: # load the data if the file exists\n",
    "    SNYHourlyPrice = pd.read_csv(path9)\n",
    "    \n",
    "else: # otherwise, set a path to convert data into a csv file\n",
    "    Setpath9 = Path(path9)\n",
    "    Setpath9.parent.mkdir(parents=True, exist_ok=True)  \n",
    "    SNYdata.to_csv(Setpath9)"
   ]
  },
  {
   "cell_type": "markdown",
   "metadata": {},
   "source": [
    "### GSK"
   ]
  },
  {
   "cell_type": "code",
   "execution_count": 11,
   "metadata": {},
   "outputs": [
    {
     "name": "stderr",
     "output_type": "stream",
     "text": [
      "[*********************100%%**********************]  1 of 1 completed\n"
     ]
    }
   ],
   "source": [
    "# download hourly stock prices in the past 730 days (max)\n",
    "GSKdata = yf.download(\"GSK\", period='730d', interval='60m')\n",
    "\n",
    "path10 = 'E:/Desktop/Extracurriculars/Projects & Competitions/DS Guidelight/Data/GSKdata.csv'\n",
    "isExist = os.path.exists(path10)\n",
    "\n",
    "if isExist: # load the data if the file exists\n",
    "    GSKHourlyPrice = pd.read_csv(path10)\n",
    "    \n",
    "else: # otherwise, set a path to convert data into a csv file\n",
    "    Setpath10 = Path(path10)\n",
    "    Setpath10.parent.mkdir(parents=True, exist_ok=True)  \n",
    "    GSKdata.to_csv(Setpath10)"
   ]
  }
 ],
 "metadata": {
  "kernelspec": {
   "display_name": "base",
   "language": "python",
   "name": "python3"
  },
  "language_info": {
   "codemirror_mode": {
    "name": "ipython",
    "version": 3
   },
   "file_extension": ".py",
   "mimetype": "text/x-python",
   "name": "python",
   "nbconvert_exporter": "python",
   "pygments_lexer": "ipython3",
   "version": "3.11.5"
  }
 },
 "nbformat": 4,
 "nbformat_minor": 2
}
