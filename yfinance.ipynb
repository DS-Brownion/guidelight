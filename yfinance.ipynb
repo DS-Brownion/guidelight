{
 "cells": [
  {
   "cell_type": "markdown",
   "metadata": {},
   "source": [
    "# code for the importing yahoo data to yfinance"
   ]
  },
  {
   "cell_type": "code",
   "execution_count": 27,
   "metadata": {},
   "outputs": [],
   "source": [
    "import yfinance as yf\n",
    "# %/Users/brad/.local/share/virtualenvs/guidelight-Popvxsqg/bin/python -m pip install ipykernel -U --force-reinstallx"
   ]
  },
  {
   "cell_type": "code",
   "execution_count": 101,
   "metadata": {},
   "outputs": [
    {
     "name": "stdout",
     "output_type": "stream",
     "text": [
      "28.324493 37.88024 0.0053 182.31\n"
     ]
    }
   ],
   "source": [
    "\n",
    "# Define the ticker symbol of the stock you want to retrieve data for\n",
    "ticker_symbol = \"AAPL\"\n",
    "\n",
    "# Create a ticker object\n",
    "ticker = yf.Ticker(ticker_symbol)\n",
    "\n",
    "# all statistics in one variable can access them all from this dictionary\n",
    "key_stats = ticker.info\n",
    "\n",
    "# Get the price to earnings ratio (P/E ratio)\n",
    "if 'trailingPE' in key_stats:\n",
    "    pe_ratio = key_stats['trailingPE']  # Trailing P/E ratio\n",
    "else:\n",
    "    pe_ratio = None\n",
    "    \n",
    "# get price to bookings ratio\n",
    "if 'priceToBook' in key_stats:\n",
    "    pb_ratio = key_stats['priceToBook'] # trailing p/b ratio\n",
    "else:\n",
    "    pb_ratio = None\n",
    "    \n",
    "#get dividend yield\n",
    "if 'dividendYield' in key_stats:\n",
    "    dividend_yield = key_stats['dividendYield'] # most recenet dividend yield\n",
    "else:\n",
    "    dividend_yield = None\n",
    "    \n",
    "# get current stock price\n",
    "if 'regularMarketPreviousClose' in key_stats:\n",
    "    stock_price = key_stats['regularMarketPreviousClose'] # yesterday's closing market price\n",
    "else:\n",
    "    stock_price = None\n",
    "    \n",
    "print(pe_ratio, pb_ratio, dividend_yield, stock_price)"
   ]
  },
  {
   "cell_type": "code",
   "execution_count": 40,
   "metadata": {},
   "outputs": [],
   "source": [
    "from sqlalchemy import create_engine\n",
    "dbname = 'sqlite:///mrna.db'"
   ]
  },
  {
   "cell_type": "code",
   "execution_count": 41,
   "metadata": {},
   "outputs": [],
   "source": [
    "engine = create_engine(dbname, future=True)\n",
    "yconnection = engine.connect()"
   ]
  },
  {
   "cell_type": "code",
   "execution_count": 42,
   "metadata": {},
   "outputs": [
    {
     "ename": "AttributeError",
     "evalue": "'Ticker' object has no attribute 'to_sql'",
     "output_type": "error",
     "traceback": [
      "\u001b[0;31m---------------------------------------------------------------------------\u001b[0m",
      "\u001b[0;31mAttributeError\u001b[0m                            Traceback (most recent call last)",
      "Cell \u001b[0;32mIn[42], line 7\u001b[0m\n\u001b[1;32m      4\u001b[0m \u001b[38;5;28;01mfrom\u001b[39;00m \u001b[38;5;21;01msqlalchemy\u001b[39;00m \u001b[38;5;28;01mimport\u001b[39;00m text\n\u001b[1;32m      6\u001b[0m \u001b[38;5;28;01mwith\u001b[39;00m create_engine(dbname)\u001b[38;5;241m.\u001b[39mconnect() \u001b[38;5;28;01mas\u001b[39;00m con:\n\u001b[0;32m----> 7\u001b[0m     \u001b[43mticker\u001b[49m\u001b[38;5;241;43m.\u001b[39;49m\u001b[43mto_sql\u001b[49m(\u001b[38;5;124m'\u001b[39m\u001b[38;5;124mdaily_pricing\u001b[39m\u001b[38;5;124m'\u001b[39m, yconnection, if_exists\u001b[38;5;241m=\u001b[39m\u001b[38;5;124m'\u001b[39m\u001b[38;5;124mreplace\u001b[39m\u001b[38;5;124m'\u001b[39m)\n\u001b[1;32m      8\u001b[0m     a \u001b[38;5;241m=\u001b[39m con\u001b[38;5;241m.\u001b[39mexecute(text(\u001b[38;5;124m'\u001b[39m\u001b[38;5;124mSELECT * FROM daily_pricing\u001b[39m\u001b[38;5;124m'\u001b[39m))\n\u001b[1;32m      9\u001b[0m     \u001b[38;5;28;01mfor\u001b[39;00m row \u001b[38;5;129;01min\u001b[39;00m a:\n",
      "\u001b[0;31mAttributeError\u001b[0m: 'Ticker' object has no attribute 'to_sql'"
     ]
    }
   ],
   "source": [
    "# yconnection = engine.connect()\n",
    "# a = yconnection.execute('SELECT * FROM aapl_stock_prices')\n",
    "\n",
    "from sqlalchemy import text\n",
    "\n",
    "with create_engine(dbname).connect() as con:\n",
    "    ticker.to_sql('daily_pricing', yconnection, if_exists='replace')\n",
    "    a = con.execute(text('SELECT * FROM daily_pricing'))\n",
    "    for row in a:\n",
    "        print(row)\n",
    "    \n",
    "    yconnection.commit()"
   ]
  }
 ],
 "metadata": {
  "language_info": {
   "name": "python"
  }
 },
 "nbformat": 4,
 "nbformat_minor": 2
}
